{
 "cells": [
  {
   "cell_type": "code",
   "execution_count": 1,
   "metadata": {
    "collapsed": true
   },
   "outputs": [],
   "source": [
    "import pandas as pd\n",
    "import numpy as np\n",
    "from Bio import SeqIO\n",
    "from Bio.Alphabet import generic_protein\n",
    "import re"
   ]
  },
  {
   "cell_type": "code",
   "execution_count": 2,
   "metadata": {
    "collapsed": true
   },
   "outputs": [],
   "source": [
    "# read in neut data\n",
    "\n",
    "neut_file_path = '../data/2G12_IC50_IC80.txt'\n",
    "\n",
    "neuts = pd.read_table(neut_file_path, header=0)\n",
    "neuts.rename(columns={'Virus name':'name', \n",
    "              'Subtype':'subtype',\n",
    "              '2G12: IC50 geometric mean':'IC50',\n",
    "              '2G12: IC80 geometric mean':'IC80'}, inplace=True)\n",
    "# neuts.set_index('name', inplace=True)\n",
    "neuts.drop(['Tier', 'Country', 'Accession', 'Alias', 'Seq data', \n",
    "            ' 2G12: IC50 by study', ' 2G12: IC80 by study', 'Unnamed: 11'], \n",
    "            axis=1, inplace=True)\n",
    "neuts = neuts[neuts.name != 'Geometric mean of detected']\n",
    "neuts = neuts[neuts.name != 'Geometric mean of all(undetected set to 100)'] \n",
    "neuts = neuts[neuts.name != '% detected (detected/total)'] "
   ]
  },
  {
   "cell_type": "code",
   "execution_count": 3,
   "metadata": {
    "collapsed": false
   },
   "outputs": [],
   "source": [
    "# read in sequence data\n",
    "\n",
    "virus_name = []\n",
    "virus_seq = []\n",
    "passed_seqs = []\n",
    "\n",
    "fasta_file_path = '../data/2G12 virus aa align.fasta'\n",
    "\n",
    "for seq_record in SeqIO.parse(fasta_file_path, 'fasta', \n",
    "                              alphabet=generic_protein):\n",
    "    try:\n",
    "        virus_name.append(seq_record.id.split('.')[2])\n",
    "        virus_seq.append(seq_record.seq)\n",
    "    except:\n",
    "        passed_seqs.append(seq_record)\n",
    "\n",
    "HXB2 = passed_seqs[0]"
   ]
  },
  {
   "cell_type": "code",
   "execution_count": 4,
   "metadata": {
    "collapsed": true
   },
   "outputs": [],
   "source": [
    "# convert sequence data to DataFrame\n",
    "\n",
    "seq_dict = {'sequence' : pd.Series(virus_seq, index=virus_name, \n",
    "                                   dtype='object')}\n",
    "seq_df = pd.DataFrame(seq_dict)"
   ]
  },
  {
   "cell_type": "code",
   "execution_count": 5,
   "metadata": {
    "collapsed": true
   },
   "outputs": [],
   "source": [
    "# merge neuts and seq_df\n",
    "\n",
    "neutdf = pd.merge(neuts, seq_df, how='inner', left_on='name', \n",
    "                    right_index=True)"
   ]
  },
  {
   "cell_type": "code",
   "execution_count": 6,
   "metadata": {
    "collapsed": true
   },
   "outputs": [],
   "source": [
    "# define neut categories\n",
    "\n",
    "def binarize_IC50(row):\n",
    "    if '>' in row.IC50:\n",
    "        return 0\n",
    "    else:\n",
    "        value = float(row.IC50)\n",
    "        return 0 if value > 50 else 1\n",
    "\n",
    "neutdf['is_neutralized'] = neutdf.apply(binarize_IC50, axis=1)\n"
   ]
  },
  {
   "cell_type": "code",
   "execution_count": 7,
   "metadata": {
    "collapsed": false
   },
   "outputs": [
    {
     "data": {
      "text/html": [
       "<div>\n",
       "<table border=\"1\" class=\"dataframe\">\n",
       "  <thead>\n",
       "    <tr style=\"text-align: right;\">\n",
       "      <th></th>\n",
       "      <th>name</th>\n",
       "      <th>subtype</th>\n",
       "      <th>IC50</th>\n",
       "      <th>IC80</th>\n",
       "      <th>sequence</th>\n",
       "      <th>is_neutralized</th>\n",
       "    </tr>\n",
       "  </thead>\n",
       "  <tbody>\n",
       "    <tr>\n",
       "      <th>0</th>\n",
       "      <td>0013095_2_11</td>\n",
       "      <td>C</td>\n",
       "      <td>UD:&gt;50</td>\n",
       "      <td>UD:&gt;50</td>\n",
       "      <td>(M, R, V, K, G, I, L, R, N, Y, -, Q, Q, W, W, ...</td>\n",
       "      <td>0</td>\n",
       "    </tr>\n",
       "    <tr>\n",
       "      <th>1</th>\n",
       "      <td>001428_2_42</td>\n",
       "      <td>C</td>\n",
       "      <td>UD:&gt;50</td>\n",
       "      <td>UD:&gt;50</td>\n",
       "      <td>(M, R, V, R, G, I, L, R, N, Y, -, Q, Q, W, W, ...</td>\n",
       "      <td>0</td>\n",
       "    </tr>\n",
       "    <tr>\n",
       "      <th>2</th>\n",
       "      <td>0041_V3_C18</td>\n",
       "      <td>C</td>\n",
       "      <td>UD:&gt;50</td>\n",
       "      <td>-</td>\n",
       "      <td>(M, R, V, R, G, I, L, R, N, W, -, Q, L, W, W, ...</td>\n",
       "      <td>0</td>\n",
       "    </tr>\n",
       "    <tr>\n",
       "      <th>3</th>\n",
       "      <td>0077_V1_C16</td>\n",
       "      <td>C</td>\n",
       "      <td>UD:&gt;50</td>\n",
       "      <td>UD:&gt;50</td>\n",
       "      <td>(M, R, V, M, G, S, M, R, N, C, -, Q, R, W, W, ...</td>\n",
       "      <td>0</td>\n",
       "    </tr>\n",
       "    <tr>\n",
       "      <th>4</th>\n",
       "      <td>00836_2_5</td>\n",
       "      <td>C</td>\n",
       "      <td>UD:&gt;50</td>\n",
       "      <td>UD:&gt;50</td>\n",
       "      <td>(M, R, V, R, G, I, R, R, N, Y, -, Q, H, W, W, ...</td>\n",
       "      <td>0</td>\n",
       "    </tr>\n",
       "  </tbody>\n",
       "</table>\n",
       "</div>"
      ],
      "text/plain": [
       "           name subtype    IC50    IC80  \\\n",
       "0  0013095_2_11       C  UD:>50  UD:>50   \n",
       "1   001428_2_42       C  UD:>50  UD:>50   \n",
       "2   0041_V3_C18       C  UD:>50       -   \n",
       "3   0077_V1_C16       C  UD:>50  UD:>50   \n",
       "4     00836_2_5       C  UD:>50  UD:>50   \n",
       "\n",
       "                                            sequence  is_neutralized  \n",
       "0  (M, R, V, K, G, I, L, R, N, Y, -, Q, Q, W, W, ...               0  \n",
       "1  (M, R, V, R, G, I, L, R, N, Y, -, Q, Q, W, W, ...               0  \n",
       "2  (M, R, V, R, G, I, L, R, N, W, -, Q, L, W, W, ...               0  \n",
       "3  (M, R, V, M, G, S, M, R, N, C, -, Q, R, W, W, ...               0  \n",
       "4  (M, R, V, R, G, I, R, R, N, Y, -, Q, H, W, W, ...               0  "
      ]
     },
     "execution_count": 7,
     "metadata": {},
     "output_type": "execute_result"
    }
   ],
   "source": [
    "neutdf.head()"
   ]
  },
  {
   "cell_type": "markdown",
   "metadata": {},
   "source": [
    "# Feature Extraction\n",
    "\n",
    "    Tokenize sequences w/ position value and amino acid identity\n",
    "    Tokenize PNGS sites with a regex\n",
    "    Vectorize tokens and create dataframe of dummy variables\n",
    "    "
   ]
  },
  {
   "cell_type": "code",
   "execution_count": 8,
   "metadata": {
    "collapsed": true
   },
   "outputs": [],
   "source": [
    "# define function to tokenize sequence\n",
    "# input = sequence object, output = dictionary where index is position and\n",
    "# token is amino acid identity at that position\n",
    "\n",
    "amino_acids = ['A', 'R', 'N', 'D', 'C', 'Q', 'E', 'G', 'H', 'I', \n",
    "               'L', 'K', 'M', 'F', 'P', 'S', 'T', 'W', 'Y', 'V']\n",
    "\n",
    "def sequence_tokenizer(seq):\n",
    "    \"\"\"\n",
    "    \n",
    "    \"\"\"\n",
    "    seq_list = list(str(seq).strip('*'))\n",
    "    working_peptide = list(enumerate(seq_list, start=1))\n",
    "    peptide_dict = {}\n",
    "    for index, amino in working_peptide:\n",
    "        if amino in amino_acids:\n",
    "            peptide_dict.update({index : amino})\n",
    "        else: \n",
    "            pass\n",
    "    return peptide_dict\n"
   ]
  },
  {
   "cell_type": "code",
   "execution_count": 9,
   "metadata": {
    "collapsed": true
   },
   "outputs": [],
   "source": [
    "# define function to tokenize potential N-linked glycosylation sites \n",
    "# (PNGS) in sequence\n",
    "# input = sequence object, output = dictionary where index is position\n",
    "# and token = 'PNGS'\n",
    "\n",
    "def PNGS_tokenizer(seq):\n",
    "    seq_string = str(seq).strip('*')\n",
    "    PNGS_dict = {m.start(0)+1 : 'PNGS' \n",
    "                for m in re.finditer(r\"N[^P][ST]\", seq_string)}\n",
    "    return PNGS_dict\n"
   ]
  },
  {
   "cell_type": "code",
   "execution_count": 10,
   "metadata": {
    "collapsed": true
   },
   "outputs": [],
   "source": [
    "# define feature extraction function where input = seq object and \n",
    "# output = one dictionary of all features\n",
    "\n",
    "def get_features(seq, use_positions=True, use_PNGS=True):\n",
    "    features = {}\n",
    "    if use_positions:\n",
    "        sequence_features = sequence_tokenizer(seq)\n",
    "        features.update(sequence_features)\n",
    "    if use_PNGS:\n",
    "        PNGS_features = PNGS_tokenizer(seq)\n",
    "        features.update(PNGS_features)\n",
    "    return features\n"
   ]
  },
  {
   "cell_type": "code",
   "execution_count": 11,
   "metadata": {
    "collapsed": true
   },
   "outputs": [],
   "source": [
    "# map get_features function to sequence column of neutdf\n",
    "\n",
    "neutdf['features_dict'] = neutdf.sequence.map(get_features)\n"
   ]
  },
  {
   "cell_type": "code",
   "execution_count": 12,
   "metadata": {
    "collapsed": false
   },
   "outputs": [
    {
     "data": {
      "text/html": [
       "<div>\n",
       "<table border=\"1\" class=\"dataframe\">\n",
       "  <thead>\n",
       "    <tr style=\"text-align: right;\">\n",
       "      <th></th>\n",
       "      <th>name</th>\n",
       "      <th>subtype</th>\n",
       "      <th>IC50</th>\n",
       "      <th>IC80</th>\n",
       "      <th>sequence</th>\n",
       "      <th>is_neutralized</th>\n",
       "      <th>features_dict</th>\n",
       "    </tr>\n",
       "  </thead>\n",
       "  <tbody>\n",
       "    <tr>\n",
       "      <th>0</th>\n",
       "      <td>0013095_2_11</td>\n",
       "      <td>C</td>\n",
       "      <td>UD:&gt;50</td>\n",
       "      <td>UD:&gt;50</td>\n",
       "      <td>(M, R, V, K, G, I, L, R, N, Y, -, Q, Q, W, W, ...</td>\n",
       "      <td>0</td>\n",
       "      <td>{1: u'M', 2: u'R', 3: u'V', 4: u'K', 5: u'G', ...</td>\n",
       "    </tr>\n",
       "    <tr>\n",
       "      <th>1</th>\n",
       "      <td>001428_2_42</td>\n",
       "      <td>C</td>\n",
       "      <td>UD:&gt;50</td>\n",
       "      <td>UD:&gt;50</td>\n",
       "      <td>(M, R, V, R, G, I, L, R, N, Y, -, Q, Q, W, W, ...</td>\n",
       "      <td>0</td>\n",
       "      <td>{1: u'M', 2: u'R', 3: u'V', 4: u'R', 5: u'G', ...</td>\n",
       "    </tr>\n",
       "    <tr>\n",
       "      <th>2</th>\n",
       "      <td>0041_V3_C18</td>\n",
       "      <td>C</td>\n",
       "      <td>UD:&gt;50</td>\n",
       "      <td>-</td>\n",
       "      <td>(M, R, V, R, G, I, L, R, N, W, -, Q, L, W, W, ...</td>\n",
       "      <td>0</td>\n",
       "      <td>{1: u'M', 2: u'R', 3: u'V', 4: u'R', 5: u'G', ...</td>\n",
       "    </tr>\n",
       "    <tr>\n",
       "      <th>3</th>\n",
       "      <td>0077_V1_C16</td>\n",
       "      <td>C</td>\n",
       "      <td>UD:&gt;50</td>\n",
       "      <td>UD:&gt;50</td>\n",
       "      <td>(M, R, V, M, G, S, M, R, N, C, -, Q, R, W, W, ...</td>\n",
       "      <td>0</td>\n",
       "      <td>{1: u'M', 2: u'R', 3: u'V', 4: u'M', 5: u'G', ...</td>\n",
       "    </tr>\n",
       "    <tr>\n",
       "      <th>4</th>\n",
       "      <td>00836_2_5</td>\n",
       "      <td>C</td>\n",
       "      <td>UD:&gt;50</td>\n",
       "      <td>UD:&gt;50</td>\n",
       "      <td>(M, R, V, R, G, I, R, R, N, Y, -, Q, H, W, W, ...</td>\n",
       "      <td>0</td>\n",
       "      <td>{1: u'M', 2: u'R', 3: u'V', 4: u'R', 5: u'G', ...</td>\n",
       "    </tr>\n",
       "  </tbody>\n",
       "</table>\n",
       "</div>"
      ],
      "text/plain": [
       "           name subtype    IC50    IC80  \\\n",
       "0  0013095_2_11       C  UD:>50  UD:>50   \n",
       "1   001428_2_42       C  UD:>50  UD:>50   \n",
       "2   0041_V3_C18       C  UD:>50       -   \n",
       "3   0077_V1_C16       C  UD:>50  UD:>50   \n",
       "4     00836_2_5       C  UD:>50  UD:>50   \n",
       "\n",
       "                                            sequence  is_neutralized  \\\n",
       "0  (M, R, V, K, G, I, L, R, N, Y, -, Q, Q, W, W, ...               0   \n",
       "1  (M, R, V, R, G, I, L, R, N, Y, -, Q, Q, W, W, ...               0   \n",
       "2  (M, R, V, R, G, I, L, R, N, W, -, Q, L, W, W, ...               0   \n",
       "3  (M, R, V, M, G, S, M, R, N, C, -, Q, R, W, W, ...               0   \n",
       "4  (M, R, V, R, G, I, R, R, N, Y, -, Q, H, W, W, ...               0   \n",
       "\n",
       "                                       features_dict  \n",
       "0  {1: u'M', 2: u'R', 3: u'V', 4: u'K', 5: u'G', ...  \n",
       "1  {1: u'M', 2: u'R', 3: u'V', 4: u'R', 5: u'G', ...  \n",
       "2  {1: u'M', 2: u'R', 3: u'V', 4: u'R', 5: u'G', ...  \n",
       "3  {1: u'M', 2: u'R', 3: u'V', 4: u'M', 5: u'G', ...  \n",
       "4  {1: u'M', 2: u'R', 3: u'V', 4: u'R', 5: u'G', ...  "
      ]
     },
     "execution_count": 12,
     "metadata": {},
     "output_type": "execute_result"
    }
   ],
   "source": [
    "neutdf.head()"
   ]
  },
  {
   "cell_type": "code",
   "execution_count": 13,
   "metadata": {
    "collapsed": false
   },
   "outputs": [
    {
     "data": {
      "text/html": [
       "<div>\n",
       "<table border=\"1\" class=\"dataframe\">\n",
       "  <thead>\n",
       "    <tr style=\"text-align: right;\">\n",
       "      <th></th>\n",
       "      <th>100=A</th>\n",
       "      <th>100=D</th>\n",
       "      <th>100=K</th>\n",
       "      <th>100=N</th>\n",
       "      <th>100=R</th>\n",
       "      <th>100=S</th>\n",
       "      <th>100=T</th>\n",
       "      <th>101=P</th>\n",
       "      <th>102=H</th>\n",
       "      <th>102=I</th>\n",
       "      <th>...</th>\n",
       "      <th>99=P</th>\n",
       "      <th>9=D</th>\n",
       "      <th>9=G</th>\n",
       "      <th>9=H</th>\n",
       "      <th>9=I</th>\n",
       "      <th>9=K</th>\n",
       "      <th>9=N</th>\n",
       "      <th>9=R</th>\n",
       "      <th>9=S</th>\n",
       "      <th>9=T</th>\n",
       "    </tr>\n",
       "  </thead>\n",
       "  <tbody>\n",
       "    <tr>\n",
       "      <th>0</th>\n",
       "      <td>0</td>\n",
       "      <td>0</td>\n",
       "      <td>0</td>\n",
       "      <td>1</td>\n",
       "      <td>0</td>\n",
       "      <td>0</td>\n",
       "      <td>0</td>\n",
       "      <td>1</td>\n",
       "      <td>0</td>\n",
       "      <td>0</td>\n",
       "      <td>...</td>\n",
       "      <td>1</td>\n",
       "      <td>0</td>\n",
       "      <td>0</td>\n",
       "      <td>0</td>\n",
       "      <td>0</td>\n",
       "      <td>0</td>\n",
       "      <td>1</td>\n",
       "      <td>0</td>\n",
       "      <td>0</td>\n",
       "      <td>0</td>\n",
       "    </tr>\n",
       "    <tr>\n",
       "      <th>1</th>\n",
       "      <td>0</td>\n",
       "      <td>0</td>\n",
       "      <td>0</td>\n",
       "      <td>1</td>\n",
       "      <td>0</td>\n",
       "      <td>0</td>\n",
       "      <td>0</td>\n",
       "      <td>1</td>\n",
       "      <td>0</td>\n",
       "      <td>0</td>\n",
       "      <td>...</td>\n",
       "      <td>1</td>\n",
       "      <td>0</td>\n",
       "      <td>0</td>\n",
       "      <td>0</td>\n",
       "      <td>0</td>\n",
       "      <td>0</td>\n",
       "      <td>1</td>\n",
       "      <td>0</td>\n",
       "      <td>0</td>\n",
       "      <td>0</td>\n",
       "    </tr>\n",
       "    <tr>\n",
       "      <th>2</th>\n",
       "      <td>0</td>\n",
       "      <td>0</td>\n",
       "      <td>0</td>\n",
       "      <td>1</td>\n",
       "      <td>0</td>\n",
       "      <td>0</td>\n",
       "      <td>0</td>\n",
       "      <td>1</td>\n",
       "      <td>0</td>\n",
       "      <td>0</td>\n",
       "      <td>...</td>\n",
       "      <td>1</td>\n",
       "      <td>0</td>\n",
       "      <td>0</td>\n",
       "      <td>0</td>\n",
       "      <td>0</td>\n",
       "      <td>0</td>\n",
       "      <td>1</td>\n",
       "      <td>0</td>\n",
       "      <td>0</td>\n",
       "      <td>0</td>\n",
       "    </tr>\n",
       "    <tr>\n",
       "      <th>3</th>\n",
       "      <td>0</td>\n",
       "      <td>1</td>\n",
       "      <td>0</td>\n",
       "      <td>0</td>\n",
       "      <td>0</td>\n",
       "      <td>0</td>\n",
       "      <td>0</td>\n",
       "      <td>1</td>\n",
       "      <td>0</td>\n",
       "      <td>0</td>\n",
       "      <td>...</td>\n",
       "      <td>1</td>\n",
       "      <td>0</td>\n",
       "      <td>0</td>\n",
       "      <td>0</td>\n",
       "      <td>0</td>\n",
       "      <td>0</td>\n",
       "      <td>1</td>\n",
       "      <td>0</td>\n",
       "      <td>0</td>\n",
       "      <td>0</td>\n",
       "    </tr>\n",
       "    <tr>\n",
       "      <th>4</th>\n",
       "      <td>0</td>\n",
       "      <td>0</td>\n",
       "      <td>0</td>\n",
       "      <td>1</td>\n",
       "      <td>0</td>\n",
       "      <td>0</td>\n",
       "      <td>0</td>\n",
       "      <td>1</td>\n",
       "      <td>0</td>\n",
       "      <td>0</td>\n",
       "      <td>...</td>\n",
       "      <td>1</td>\n",
       "      <td>0</td>\n",
       "      <td>0</td>\n",
       "      <td>0</td>\n",
       "      <td>0</td>\n",
       "      <td>0</td>\n",
       "      <td>1</td>\n",
       "      <td>0</td>\n",
       "      <td>0</td>\n",
       "      <td>0</td>\n",
       "    </tr>\n",
       "  </tbody>\n",
       "</table>\n",
       "<p>5 rows × 6226 columns</p>\n",
       "</div>"
      ],
      "text/plain": [
       "   100=A  100=D  100=K  100=N  100=R  100=S  100=T  101=P  102=H  102=I ...   \\\n",
       "0      0      0      0      1      0      0      0      1      0      0 ...    \n",
       "1      0      0      0      1      0      0      0      1      0      0 ...    \n",
       "2      0      0      0      1      0      0      0      1      0      0 ...    \n",
       "3      0      1      0      0      0      0      0      1      0      0 ...    \n",
       "4      0      0      0      1      0      0      0      1      0      0 ...    \n",
       "\n",
       "   99=P  9=D  9=G  9=H  9=I  9=K  9=N  9=R  9=S  9=T  \n",
       "0     1    0    0    0    0    0    1    0    0    0  \n",
       "1     1    0    0    0    0    0    1    0    0    0  \n",
       "2     1    0    0    0    0    0    1    0    0    0  \n",
       "3     1    0    0    0    0    0    1    0    0    0  \n",
       "4     1    0    0    0    0    0    1    0    0    0  \n",
       "\n",
       "[5 rows x 6226 columns]"
      ]
     },
     "execution_count": 13,
     "metadata": {},
     "output_type": "execute_result"
    }
   ],
   "source": [
    "# vectorize data and build feature df\n",
    "\n",
    "from sklearn.feature_extraction import DictVectorizer\n",
    "\n",
    "d_vect = DictVectorizer()\n",
    "\n",
    "list_features = list(neutdf.features_dict)\n",
    "sparse_features = d_vect.fit_transform(list_features)\n",
    "name_features = d_vect.get_feature_names()\n",
    "\n",
    "features_df = pd.DataFrame(sparse_features.toarray(), columns=name_features)\n",
    "\n",
    "features_df.head()"
   ]
  },
  {
   "cell_type": "code",
   "execution_count": 15,
   "metadata": {
    "collapsed": false
   },
   "outputs": [
    {
     "data": {
      "text/plain": [
       "363"
      ]
     },
     "execution_count": 15,
     "metadata": {},
     "output_type": "execute_result"
    }
   ],
   "source": [
    "# look up position in HXB2 for it's corresponding coordinate in the MSA\n",
    "\n",
    "reference = sequence_tokenizer(HXB2.seq)\n",
    "decoder = dict(enumerate(reference, start=1))\n",
    "decoder[295]"
   ]
  },
  {
   "cell_type": "code",
   "execution_count": 17,
   "metadata": {
    "collapsed": false
   },
   "outputs": [
    {
     "name": "stdout",
     "output_type": "stream",
     "text": [
      "['363=D', '363=E', '363=H', '363=I', '363=K', '363=L', '363=M', '363=N', '363=PNGS', '363=R', '363=S', '363=T', '363=V', '363=Y']\n"
     ]
    }
   ],
   "source": [
    "# Examine features at positions 665 & 667 (MSA: 789 & 791)\n",
    "\n",
    "epitope_features = [col for col in features_df.columns if '363' in col]\n",
    "print epitope_features"
   ]
  },
  {
   "cell_type": "markdown",
   "metadata": {},
   "source": [
    "# Feature Selection\n",
    "\n",
    "    Trim down feature outliers (highly conserved sequences & single variants)\n",
    "    Other feature selection approaches (mRMR, incorporated methods)"
   ]
  },
  {
   "cell_type": "code",
   "execution_count": 18,
   "metadata": {
    "collapsed": true
   },
   "outputs": [],
   "source": [
    "feature_counts = np.sum(features_df, axis=0)/features_df.shape[0]"
   ]
  },
  {
   "cell_type": "code",
   "execution_count": 19,
   "metadata": {
    "collapsed": false
   },
   "outputs": [
    {
     "data": {
      "text/plain": [
       "<matplotlib.axes._subplots.AxesSubplot at 0x10a407050>"
      ]
     },
     "execution_count": 19,
     "metadata": {},
     "output_type": "execute_result"
    },
    {
     "data": {
      "image/png": "[encoded data removed]",
      "text/plain": [
       "<matplotlib.figure.Figure at 0x10a3ef7d0>"
      ]
     },
     "metadata": {},
     "output_type": "display_data"
    }
   ],
   "source": [
    "import matplotlib as plt\n",
    "% matplotlib inline\n",
    "\n",
    "feature_counts.plot.hist(title='Feature Frequencies', bins=50)"
   ]
  },
  {
   "cell_type": "code",
   "execution_count": 20,
   "metadata": {
    "collapsed": true
   },
   "outputs": [],
   "source": [
    "# define function to drop features that are shared by less than X% of sequences and/or more\n",
    "# than 1-X% of sequences\n",
    "\n",
    "def trim_feature_extremes(dataframe, percent_to_trim):\n",
    "    total_rows = dataframe.shape[0]\n",
    "    upper_threshold = (1 - percent_to_trim) * total_rows\n",
    "    lower_threshold = percent_to_trim * total_rows\n",
    "    column_filter_list = list((dataframe.sum(axis=0) >= lower_threshold) &\n",
    "                                (dataframe.sum(axis=0) < upper_threshold)) \n",
    "                                #True = keep, False = drop\n",
    "    column_filter_dict = zip(list(dataframe.columns), column_filter_list)\n",
    "    columns_to_keep = [column for column, keepornot in column_filter_dict \n",
    "                        if keepornot == True]\n",
    "    output_df = dataframe[columns_to_keep]\n",
    "    return output_df\n",
    " "
   ]
  },
  {
   "cell_type": "code",
   "execution_count": 21,
   "metadata": {
    "collapsed": false
   },
   "outputs": [
    {
     "data": {
      "text/plain": [
       "(490, 1333)"
      ]
     },
     "execution_count": 21,
     "metadata": {},
     "output_type": "execute_result"
    }
   ],
   "source": [
    "trimmed_features_df = trim_feature_extremes(features_df, 0.05)\n",
    "\n",
    "trimmed_features_df.shape"
   ]
  },
  {
   "cell_type": "markdown",
   "metadata": {},
   "source": [
    "# Build Decision Tree Classifier\n",
    "\n",
    "    Use for feature selection\n"
   ]
  },
  {
   "cell_type": "code",
   "execution_count": 22,
   "metadata": {
    "collapsed": false
   },
   "outputs": [],
   "source": [
    "# define X & y as whole feature set without trimming features\n",
    "\n",
    "X = features_df\n",
    "y = neutdf.is_neutralized\n"
   ]
  },
  {
   "cell_type": "code",
   "execution_count": 23,
   "metadata": {
    "collapsed": false
   },
   "outputs": [
    {
     "name": "stdout",
     "output_type": "stream",
     "text": [
      "[0.77917852062588899, 0.85249525841631102, 0.88206334324755375, 0.8525327061511272, 0.84449868528815897, 0.86377106771843604, 0.8130840768998665, 0.83418358549937499, 0.81356712573817835, 0.8070576856761067, 0.78745851114272158, 0.80571145307987402, 0.80796855467908091, 0.79134876503297558, 0.79374865295917929, 0.79198887883098412, 0.81210558644769171, 0.83737607224449329, 0.808341954394586, 0.81702390189232299, 0.79153304021725079, 0.811505883874305, 0.8138357256778308, 0.82914511401353508, 0.82152840639682745, 0.815933337643864, 0.82798881417302472, 0.81244288546920118, 0.80451851372904015, 0.80700622871675498, 0.81585628690891843, 0.81292889779731881, 0.82148691753954917, 0.82258340876761937, 0.8110090952196215, 0.80486173973016073, 0.81860640544851082, 0.78623432044484687, 0.81601038837880946, 0.82626891245312295, 0.81423876029139186, 0.81458198629251266, 0.8187486529591792, 0.81030270701323348, 0.81218102073365228, 0.8077481788008104, 0.79934372171214274, 0.8181150049571102, 0.79915405836458464, 0.80917765851976375, 0.82097127031337558, 0.8209243932928143, 0.80613604034656672, 0.8205811672916935, 0.82269602138023201, 0.77538740894004055, 0.81375867494288534, 0.81106028277080922, 0.81026714513556608, 0.82021261692314318, 0.82469233587654645, 0.80294193715246354, 0.82291531962584608, 0.82633572567783076, 0.81665104099314623, 0.81446937367990002, 0.80576317944738984, 0.77851038837880926, 0.83647032199663784, 0.79964114832535882, 0.78909651278072324, 0.80467261519893096, 0.82355597224018273, 0.82724147592568653, 0.79641579378421479, 0.79742391913444544, 0.81852342773395415, 0.82107256778309412, 0.82183607052028107, 0.80587579206000259, 0.80722121643174261, 0.81957896892107418, 0.81289872408293462, 0.82037210655631709, 0.82209631880684508, 0.80969869390922022, 0.81458198629251266, 0.78969459890512528, 0.81736173973016069, 0.80860812966076112, 0.81698295185137282, 0.81838118022328543, 0.80860812966076134, 0.80294786413207464, 0.81304689857321433, 0.78005140307771892, 0.80466668821931986, 0.79495182982025081, 0.80880910815121343, 0.80167356351566865]\n"
     ]
    }
   ],
   "source": [
    "# calculate best depth using roc_auc score\n",
    "\n",
    "from sklearn.tree import DecisionTreeClassifier\n",
    "\n",
    "max_depth_range = range(1, 101)\n",
    "\n",
    "roc_auc_scores = []\n",
    "\n",
    "from sklearn.cross_validation import cross_val_score\n",
    "for depth in max_depth_range:\n",
    "    treeclass = DecisionTreeClassifier(max_depth=depth)\n",
    "    score = cross_val_score(treeclass, X, y, scoring='roc_auc', cv=10)\n",
    "    roc_auc_scores.append(np.mean(score))\n",
    "    \n",
    "print roc_auc_scores"
   ]
  },
  {
   "cell_type": "code",
   "execution_count": 24,
   "metadata": {
    "collapsed": false
   },
   "outputs": [
    {
     "data": {
      "image/png": "[encoded data removed]",
      "text/plain": [
       "<matplotlib.figure.Figure at 0x10a36eed0>"
      ]
     },
     "metadata": {},
     "output_type": "display_data"
    }
   ],
   "source": [
    "# graph roc_auc_scores vs max depth\n",
    "\n",
    "import matplotlib.pyplot as plt\n",
    "%matplotlib inline\n",
    "\n",
    "plt.plot(max_depth_range, roc_auc_scores)\n",
    "plt.xlabel('max depth')\n",
    "plt.ylabel('roc auc score')\n",
    "\n",
    "plt.rcdefaults()"
   ]
  },
  {
   "cell_type": "code",
   "execution_count": 25,
   "metadata": {
    "collapsed": false
   },
   "outputs": [
    {
     "data": {
      "text/plain": [
       "(0.88206334324755375, 3)"
      ]
     },
     "execution_count": 25,
     "metadata": {},
     "output_type": "execute_result"
    }
   ],
   "source": [
    "sorted(zip(roc_auc_scores, max_depth_range), reverse=True)[0]"
   ]
  },
  {
   "cell_type": "code",
   "execution_count": 26,
   "metadata": {
    "collapsed": false
   },
   "outputs": [
    {
     "data": {
      "text/plain": [
       "DecisionTreeClassifier(class_weight=None, criterion='gini', max_depth=10,\n",
       "            max_features=None, max_leaf_nodes=None, min_samples_leaf=1,\n",
       "            min_samples_split=2, min_weight_fraction_leaf=0.0,\n",
       "            presort=False, random_state=None, splitter='best')"
      ]
     },
     "execution_count": 26,
     "metadata": {},
     "output_type": "execute_result"
    }
   ],
   "source": [
    "# fit tree using max depth of 10\n",
    "\n",
    "treeclass = DecisionTreeClassifier(max_depth=10)\n",
    "treeclass.fit(X, y)"
   ]
  },
  {
   "cell_type": "code",
   "execution_count": 37,
   "metadata": {
    "collapsed": false
   },
   "outputs": [
    {
     "data": {
      "text/html": [
       "<div>\n",
       "<table border=\"1\" class=\"dataframe\">\n",
       "  <thead>\n",
       "    <tr style=\"text-align: right;\">\n",
       "      <th></th>\n",
       "      <th>feature</th>\n",
       "      <th>importance</th>\n",
       "    </tr>\n",
       "  </thead>\n",
       "  <tbody>\n",
       "    <tr>\n",
       "      <th>2083</th>\n",
       "      <td>363=PNGS</td>\n",
       "      <td>0.236450</td>\n",
       "    </tr>\n",
       "    <tr>\n",
       "      <th>2435</th>\n",
       "      <td>408=N</td>\n",
       "      <td>0.183398</td>\n",
       "    </tr>\n",
       "    <tr>\n",
       "      <th>3047</th>\n",
       "      <td>479=PNGS</td>\n",
       "      <td>0.127432</td>\n",
       "    </tr>\n",
       "    <tr>\n",
       "      <th>5078</th>\n",
       "      <td>7=L</td>\n",
       "      <td>0.053283</td>\n",
       "    </tr>\n",
       "    <tr>\n",
       "      <th>3070</th>\n",
       "      <td>480=S</td>\n",
       "      <td>0.038936</td>\n",
       "    </tr>\n",
       "    <tr>\n",
       "      <th>5468</th>\n",
       "      <td>872=V</td>\n",
       "      <td>0.032765</td>\n",
       "    </tr>\n",
       "    <tr>\n",
       "      <th>2671</th>\n",
       "      <td>429=Y</td>\n",
       "      <td>0.031546</td>\n",
       "    </tr>\n",
       "    <tr>\n",
       "      <th>2422</th>\n",
       "      <td>406=H</td>\n",
       "      <td>0.031275</td>\n",
       "    </tr>\n",
       "    <tr>\n",
       "      <th>404</th>\n",
       "      <td>160=A</td>\n",
       "      <td>0.025463</td>\n",
       "    </tr>\n",
       "    <tr>\n",
       "      <th>2685</th>\n",
       "      <td>430=W</td>\n",
       "      <td>0.021455</td>\n",
       "    </tr>\n",
       "  </tbody>\n",
       "</table>\n",
       "</div>"
      ],
      "text/plain": [
       "       feature  importance\n",
       "2083  363=PNGS    0.236450\n",
       "2435     408=N    0.183398\n",
       "3047  479=PNGS    0.127432\n",
       "5078       7=L    0.053283\n",
       "3070     480=S    0.038936\n",
       "5468     872=V    0.032765\n",
       "2671     429=Y    0.031546\n",
       "2422     406=H    0.031275\n",
       "404      160=A    0.025463\n",
       "2685     430=W    0.021455"
      ]
     },
     "execution_count": 37,
     "metadata": {},
     "output_type": "execute_result"
    }
   ],
   "source": [
    "# get feature importances\n",
    "\n",
    "feat_import = pd.DataFrame({'feature': features_df.columns, 'importance': treeclass.feature_importances_})\n",
    "feat_import.sort_values('importance', ascending=False).head(10)"
   ]
  },
  {
   "cell_type": "code",
   "execution_count": 48,
   "metadata": {
    "collapsed": false
   },
   "outputs": [
    {
     "data": {
      "text/plain": [
       "576"
      ]
     },
     "execution_count": 48,
     "metadata": {},
     "output_type": "execute_result"
    }
   ],
   "source": [
    "# look up position in HXB2 for it's corresponding coordinate in the MSA\n",
    "\n",
    "reference = sequence_tokenizer(HXB2.seq)\n",
    "decoder = dict(enumerate(reference, start=1))\n",
    "decoder[466]"
   ]
  },
  {
   "cell_type": "code",
   "execution_count": 39,
   "metadata": {
    "collapsed": false
   },
   "outputs": [],
   "source": [
    "# look at other feature importances at same sites\n",
    "\n",
    "features_363 = [feat for feat in feat_import.feature if '363' in feat]\n",
    "features_408 = [feat for feat in feat_import.feature if '408' in feat]"
   ]
  },
  {
   "cell_type": "code",
   "execution_count": 40,
   "metadata": {
    "collapsed": false
   },
   "outputs": [
    {
     "data": {
      "text/html": [
       "<div>\n",
       "<table border=\"1\" class=\"dataframe\">\n",
       "  <thead>\n",
       "    <tr style=\"text-align: right;\">\n",
       "      <th>feature</th>\n",
       "      <th>363=D</th>\n",
       "      <th>363=E</th>\n",
       "      <th>363=H</th>\n",
       "      <th>363=I</th>\n",
       "      <th>363=K</th>\n",
       "      <th>363=L</th>\n",
       "      <th>363=M</th>\n",
       "      <th>363=N</th>\n",
       "      <th>363=PNGS</th>\n",
       "      <th>363=R</th>\n",
       "      <th>363=S</th>\n",
       "      <th>363=T</th>\n",
       "      <th>363=V</th>\n",
       "      <th>363=Y</th>\n",
       "    </tr>\n",
       "  </thead>\n",
       "  <tbody>\n",
       "    <tr>\n",
       "      <th>importance</th>\n",
       "      <td>0</td>\n",
       "      <td>0</td>\n",
       "      <td>0</td>\n",
       "      <td>0</td>\n",
       "      <td>0</td>\n",
       "      <td>0</td>\n",
       "      <td>0</td>\n",
       "      <td>0</td>\n",
       "      <td>0.23645</td>\n",
       "      <td>0</td>\n",
       "      <td>0</td>\n",
       "      <td>0</td>\n",
       "      <td>0</td>\n",
       "      <td>0</td>\n",
       "    </tr>\n",
       "  </tbody>\n",
       "</table>\n",
       "</div>"
      ],
      "text/plain": [
       "feature     363=D  363=E  363=H  363=I  363=K  363=L  363=M  363=N  363=PNGS  \\\n",
       "importance      0      0      0      0      0      0      0      0   0.23645   \n",
       "\n",
       "feature     363=R  363=S  363=T  363=V  363=Y  \n",
       "importance      0      0      0      0      0  "
      ]
     },
     "execution_count": 40,
     "metadata": {},
     "output_type": "execute_result"
    }
   ],
   "source": [
    "feat_import.set_index('feature', inplace=True)\n",
    "import_feat = feat_import.transpose()\n",
    "import_feat[features_363]"
   ]
  },
  {
   "cell_type": "code",
   "execution_count": 41,
   "metadata": {
    "collapsed": false
   },
   "outputs": [
    {
     "data": {
      "text/html": [
       "<div>\n",
       "<table border=\"1\" class=\"dataframe\">\n",
       "  <thead>\n",
       "    <tr style=\"text-align: right;\">\n",
       "      <th>feature</th>\n",
       "      <th>408=D</th>\n",
       "      <th>408=E</th>\n",
       "      <th>408=H</th>\n",
       "      <th>408=I</th>\n",
       "      <th>408=K</th>\n",
       "      <th>408=L</th>\n",
       "      <th>408=N</th>\n",
       "      <th>408=PNGS</th>\n",
       "      <th>408=R</th>\n",
       "      <th>408=S</th>\n",
       "      <th>408=T</th>\n",
       "      <th>408=V</th>\n",
       "    </tr>\n",
       "  </thead>\n",
       "  <tbody>\n",
       "    <tr>\n",
       "      <th>importance</th>\n",
       "      <td>0</td>\n",
       "      <td>0</td>\n",
       "      <td>0</td>\n",
       "      <td>0</td>\n",
       "      <td>0</td>\n",
       "      <td>0</td>\n",
       "      <td>0.183398</td>\n",
       "      <td>0</td>\n",
       "      <td>0</td>\n",
       "      <td>0</td>\n",
       "      <td>0</td>\n",
       "      <td>0</td>\n",
       "    </tr>\n",
       "  </tbody>\n",
       "</table>\n",
       "</div>"
      ],
      "text/plain": [
       "feature     408=D  408=E  408=H  408=I  408=K  408=L     408=N  408=PNGS  \\\n",
       "importance      0      0      0      0      0      0  0.183398         0   \n",
       "\n",
       "feature     408=R  408=S  408=T  408=V  \n",
       "importance      0      0      0      0  "
      ]
     },
     "execution_count": 41,
     "metadata": {},
     "output_type": "execute_result"
    }
   ],
   "source": [
    "import_feat[features_408]"
   ]
  },
  {
   "cell_type": "markdown",
   "metadata": {},
   "source": [
    "# Build Random Forest\n",
    "    \n",
    "    Use randomized grid search CV for n_estimators, max_features"
   ]
  },
  {
   "cell_type": "code",
   "execution_count": 42,
   "metadata": {
    "collapsed": true
   },
   "outputs": [],
   "source": [
    "# import random forest classifier & define X & y using trimmed dataframe\n",
    "\n",
    "from sklearn.ensemble import RandomForestClassifier\n",
    "\n",
    "rfclass = RandomForestClassifier()\n",
    "\n",
    "X = trimmed_features_df\n",
    "y = neutdf.is_neutralized"
   ]
  },
  {
   "cell_type": "code",
   "execution_count": 45,
   "metadata": {
    "collapsed": true
   },
   "outputs": [],
   "source": [
    "from sklearn.grid_search import RandomizedSearchCV\n",
    "\n",
    "estimators_range = range(1, 1502, 10)\n",
    "feature_range = range(1, 502)"
   ]
  },
  {
   "cell_type": "code",
   "execution_count": 47,
   "metadata": {
    "collapsed": false
   },
   "outputs": [
    {
     "data": {
      "text/plain": [
       "RandomizedSearchCV(cv=5, error_score='raise',\n",
       "          estimator=RandomForestClassifier(bootstrap=True, class_weight=None, criterion='gini',\n",
       "            max_depth=None, max_features='auto', max_leaf_nodes=None,\n",
       "            min_samples_leaf=1, min_samples_split=2,\n",
       "            min_weight_fraction_leaf=0.0, n_estimators=10, n_jobs=1,\n",
       "            oob_score=False, random_state=None, verbose=0,\n",
       "            warm_start=False),\n",
       "          fit_params={}, iid=True, n_iter=50, n_jobs=1,\n",
       "          param_distributions={'max_features': [1, 2, 3, 4, 5, 6, 7, 8, 9, 10, 11, 12, 13, 14, 15, 16, 17, 18, 19, 20, 21, 22, 23, 24, 25, 26, 27, 28, 29, 30, 31, 32, 33, 34, 35, 36, 37, 38, 39, 40, 41, 42, 43, 44, 45, 46, 47, 48, 49, 50, 51, 52, 53, 54, 55, 56, 57, 58, 59, 60, 61, 62, 63, 64, 65, 66, 67, 68,...41, 1351, 1361, 1371, 1381, 1391, 1401, 1411, 1421, 1431, 1441, 1451, 1461, 1471, 1481, 1491, 1501]},\n",
       "          pre_dispatch='2*n_jobs', random_state=None, refit=True,\n",
       "          scoring='roc_auc', verbose=0)"
      ]
     },
     "execution_count": 47,
     "metadata": {},
     "output_type": "execute_result"
    }
   ],
   "source": [
    "param_dist = dict(n_estimators=estimators_range, max_features=feature_range)\n",
    "rand = RandomizedSearchCV(rfclass, param_dist, n_iter=50, scoring='roc_auc', cv=5)\n",
    "rand.fit(X, y)"
   ]
  },
  {
   "cell_type": "code",
   "execution_count": 49,
   "metadata": {
    "collapsed": false
   },
   "outputs": [
    {
     "data": {
      "text/html": [
       "<div>\n",
       "<table border=\"1\" class=\"dataframe\">\n",
       "  <thead>\n",
       "    <tr style=\"text-align: right;\">\n",
       "      <th></th>\n",
       "      <th>parameters</th>\n",
       "      <th>mean_validation_score</th>\n",
       "      <th>cv_validation_scores</th>\n",
       "    </tr>\n",
       "  </thead>\n",
       "  <tbody>\n",
       "    <tr>\n",
       "      <th>48</th>\n",
       "      <td>{u'n_estimators': 291, u'max_features': 411}</td>\n",
       "      <td>0.912278</td>\n",
       "      <td>[0.922222222222, 0.89161036036, 0.882601351351...</td>\n",
       "    </tr>\n",
       "    <tr>\n",
       "      <th>40</th>\n",
       "      <td>{u'n_estimators': 881, u'max_features': 411}</td>\n",
       "      <td>0.911934</td>\n",
       "      <td>[0.913611111111, 0.902308558559, 0.88541666666...</td>\n",
       "    </tr>\n",
       "    <tr>\n",
       "      <th>14</th>\n",
       "      <td>{u'n_estimators': 991, u'max_features': 427}</td>\n",
       "      <td>0.911659</td>\n",
       "      <td>[0.908055555556, 0.898367117117, 0.88569819819...</td>\n",
       "    </tr>\n",
       "    <tr>\n",
       "      <th>15</th>\n",
       "      <td>{u'n_estimators': 701, u'max_features': 501}</td>\n",
       "      <td>0.911601</td>\n",
       "      <td>[0.904722222222, 0.902027027027, 0.88400900900...</td>\n",
       "    </tr>\n",
       "    <tr>\n",
       "      <th>17</th>\n",
       "      <td>{u'n_estimators': 331, u'max_features': 488}</td>\n",
       "      <td>0.911422</td>\n",
       "      <td>[0.909444444444, 0.891328828829, 0.89020270270...</td>\n",
       "    </tr>\n",
       "    <tr>\n",
       "      <th>20</th>\n",
       "      <td>{u'n_estimators': 1111, u'max_features': 461}</td>\n",
       "      <td>0.910308</td>\n",
       "      <td>[0.905833333333, 0.901463963964, 0.88654279279...</td>\n",
       "    </tr>\n",
       "    <tr>\n",
       "      <th>41</th>\n",
       "      <td>{u'n_estimators': 941, u'max_features': 491}</td>\n",
       "      <td>0.910283</td>\n",
       "      <td>[0.911944444444, 0.89527027027, 0.880349099099...</td>\n",
       "    </tr>\n",
       "    <tr>\n",
       "      <th>47</th>\n",
       "      <td>{u'n_estimators': 821, u'max_features': 488}</td>\n",
       "      <td>0.910146</td>\n",
       "      <td>[0.900277777778, 0.890484234234, 0.89245495495...</td>\n",
       "    </tr>\n",
       "    <tr>\n",
       "      <th>26</th>\n",
       "      <td>{u'n_estimators': 1201, u'max_features': 440}</td>\n",
       "      <td>0.909304</td>\n",
       "      <td>[0.905833333333, 0.900337837838, 0.88119369369...</td>\n",
       "    </tr>\n",
       "    <tr>\n",
       "      <th>25</th>\n",
       "      <td>{u'n_estimators': 1341, u'max_features': 435}</td>\n",
       "      <td>0.908930</td>\n",
       "      <td>[0.9025, 0.893018018018, 0.88597972973, 0.9752...</td>\n",
       "    </tr>\n",
       "    <tr>\n",
       "      <th>49</th>\n",
       "      <td>{u'n_estimators': 531, u'max_features': 425}</td>\n",
       "      <td>0.908817</td>\n",
       "      <td>[0.906111111111, 0.897240990991, 0.88034909909...</td>\n",
       "    </tr>\n",
       "    <tr>\n",
       "      <th>29</th>\n",
       "      <td>{u'n_estimators': 271, u'max_features': 468}</td>\n",
       "      <td>0.907421</td>\n",
       "      <td>[0.904722222222, 0.886261261261, 0.89273648648...</td>\n",
       "    </tr>\n",
       "    <tr>\n",
       "      <th>23</th>\n",
       "      <td>{u'n_estimators': 741, u'max_features': 350}</td>\n",
       "      <td>0.907012</td>\n",
       "      <td>[0.9, 0.896114864865, 0.881756756757, 0.970157...</td>\n",
       "    </tr>\n",
       "    <tr>\n",
       "      <th>39</th>\n",
       "      <td>{u'n_estimators': 1051, u'max_features': 422}</td>\n",
       "      <td>0.906826</td>\n",
       "      <td>[0.901111111111, 0.89527027027, 0.877252252252...</td>\n",
       "    </tr>\n",
       "    <tr>\n",
       "      <th>22</th>\n",
       "      <td>{u'n_estimators': 241, u'max_features': 432}</td>\n",
       "      <td>0.906543</td>\n",
       "      <td>[0.894444444444, 0.892736486486, 0.88879504504...</td>\n",
       "    </tr>\n",
       "    <tr>\n",
       "      <th>8</th>\n",
       "      <td>{u'n_estimators': 1021, u'max_features': 365}</td>\n",
       "      <td>0.905161</td>\n",
       "      <td>[0.899722222222, 0.896396396396, 0.87865990991...</td>\n",
       "    </tr>\n",
       "    <tr>\n",
       "      <th>34</th>\n",
       "      <td>{u'n_estimators': 131, u'max_features': 480}</td>\n",
       "      <td>0.904795</td>\n",
       "      <td>[0.896388888889, 0.902027027027, 0.87528153153...</td>\n",
       "    </tr>\n",
       "    <tr>\n",
       "      <th>28</th>\n",
       "      <td>{u'n_estimators': 1411, u'max_features': 389}</td>\n",
       "      <td>0.904766</td>\n",
       "      <td>[0.897222222222, 0.896396396396, 0.87781531531...</td>\n",
       "    </tr>\n",
       "    <tr>\n",
       "      <th>9</th>\n",
       "      <td>{u'n_estimators': 81, u'max_features': 435}</td>\n",
       "      <td>0.904305</td>\n",
       "      <td>[0.888611111111, 0.905123873874, 0.87837837837...</td>\n",
       "    </tr>\n",
       "    <tr>\n",
       "      <th>12</th>\n",
       "      <td>{u'n_estimators': 1111, u'max_features': 310}</td>\n",
       "      <td>0.904267</td>\n",
       "      <td>[0.898611111111, 0.897804054054, 0.88288288288...</td>\n",
       "    </tr>\n",
       "    <tr>\n",
       "      <th>45</th>\n",
       "      <td>{u'n_estimators': 471, u'max_features': 288}</td>\n",
       "      <td>0.904264</td>\n",
       "      <td>[0.8925, 0.904842342342, 0.872466216216, 0.972...</td>\n",
       "    </tr>\n",
       "    <tr>\n",
       "      <th>30</th>\n",
       "      <td>{u'n_estimators': 351, u'max_features': 423}</td>\n",
       "      <td>0.903588</td>\n",
       "      <td>[0.883611111111, 0.898367117117, 0.87528153153...</td>\n",
       "    </tr>\n",
       "    <tr>\n",
       "      <th>7</th>\n",
       "      <td>{u'n_estimators': 1411, u'max_features': 353}</td>\n",
       "      <td>0.903205</td>\n",
       "      <td>[0.893333333333, 0.894988738739, 0.87359234234...</td>\n",
       "    </tr>\n",
       "    <tr>\n",
       "      <th>32</th>\n",
       "      <td>{u'n_estimators': 731, u'max_features': 291}</td>\n",
       "      <td>0.902881</td>\n",
       "      <td>[0.900555555556, 0.905405405405, 0.87105855855...</td>\n",
       "    </tr>\n",
       "    <tr>\n",
       "      <th>38</th>\n",
       "      <td>{u'n_estimators': 871, u'max_features': 264}</td>\n",
       "      <td>0.902687</td>\n",
       "      <td>[0.893333333333, 0.896959459459, 0.875, 0.9690...</td>\n",
       "    </tr>\n",
       "    <tr>\n",
       "      <th>18</th>\n",
       "      <td>{u'n_estimators': 1421, u'max_features': 303}</td>\n",
       "      <td>0.902392</td>\n",
       "      <td>[0.900555555556, 0.897240990991, 0.86711711711...</td>\n",
       "    </tr>\n",
       "    <tr>\n",
       "      <th>6</th>\n",
       "      <td>{u'n_estimators': 1071, u'max_features': 294}</td>\n",
       "      <td>0.901479</td>\n",
       "      <td>[0.899444444444, 0.891047297297, 0.86965090090...</td>\n",
       "    </tr>\n",
       "    <tr>\n",
       "      <th>16</th>\n",
       "      <td>{u'n_estimators': 1431, u'max_features': 284}</td>\n",
       "      <td>0.900719</td>\n",
       "      <td>[0.897222222222, 0.890765765766, 0.87162162162...</td>\n",
       "    </tr>\n",
       "    <tr>\n",
       "      <th>35</th>\n",
       "      <td>{u'n_estimators': 1221, u'max_features': 297}</td>\n",
       "      <td>0.900268</td>\n",
       "      <td>[0.8925, 0.893581081081, 0.875844594595, 0.969...</td>\n",
       "    </tr>\n",
       "    <tr>\n",
       "      <th>46</th>\n",
       "      <td>{u'n_estimators': 311, u'max_features': 304}</td>\n",
       "      <td>0.898512</td>\n",
       "      <td>[0.904166666667, 0.901182432432, 0.86486486486...</td>\n",
       "    </tr>\n",
       "    <tr>\n",
       "      <th>11</th>\n",
       "      <td>{u'n_estimators': 241, u'max_features': 222}</td>\n",
       "      <td>0.895028</td>\n",
       "      <td>[0.879722222222, 0.894425675676, 0.86655405405...</td>\n",
       "    </tr>\n",
       "    <tr>\n",
       "      <th>3</th>\n",
       "      <td>{u'n_estimators': 201, u'max_features': 285}</td>\n",
       "      <td>0.894915</td>\n",
       "      <td>[0.882777777778, 0.897804054054, 0.86120495495...</td>\n",
       "    </tr>\n",
       "    <tr>\n",
       "      <th>2</th>\n",
       "      <td>{u'n_estimators': 1321, u'max_features': 186}</td>\n",
       "      <td>0.891807</td>\n",
       "      <td>[0.883888888889, 0.899774774775, 0.86036036036...</td>\n",
       "    </tr>\n",
       "    <tr>\n",
       "      <th>5</th>\n",
       "      <td>{u'n_estimators': 291, u'max_features': 188}</td>\n",
       "      <td>0.890781</td>\n",
       "      <td>[0.875, 0.894707207207, 0.857545045045, 0.9625...</td>\n",
       "    </tr>\n",
       "    <tr>\n",
       "      <th>4</th>\n",
       "      <td>{u'n_estimators': 1081, u'max_features': 175}</td>\n",
       "      <td>0.890738</td>\n",
       "      <td>[0.880833333333, 0.892454954955, 0.85726351351...</td>\n",
       "    </tr>\n",
       "    <tr>\n",
       "      <th>13</th>\n",
       "      <td>{u'n_estimators': 261, u'max_features': 208}</td>\n",
       "      <td>0.889761</td>\n",
       "      <td>[0.887777777778, 0.891047297297, 0.86373873873...</td>\n",
       "    </tr>\n",
       "    <tr>\n",
       "      <th>0</th>\n",
       "      <td>{u'n_estimators': 631, u'max_features': 197}</td>\n",
       "      <td>0.888800</td>\n",
       "      <td>[0.878611111111, 0.893581081081, 0.86007882882...</td>\n",
       "    </tr>\n",
       "    <tr>\n",
       "      <th>31</th>\n",
       "      <td>{u'n_estimators': 341, u'max_features': 125}</td>\n",
       "      <td>0.884732</td>\n",
       "      <td>[0.873611111111, 0.899211711712, 0.85304054054...</td>\n",
       "    </tr>\n",
       "    <tr>\n",
       "      <th>44</th>\n",
       "      <td>{u'n_estimators': 1201, u'max_features': 141}</td>\n",
       "      <td>0.883608</td>\n",
       "      <td>[0.869166666667, 0.890202702703, 0.85472972973...</td>\n",
       "    </tr>\n",
       "    <tr>\n",
       "      <th>27</th>\n",
       "      <td>{u'n_estimators': 681, u'max_features': 133}</td>\n",
       "      <td>0.879056</td>\n",
       "      <td>[0.861944444444, 0.888513513514, 0.84177927927...</td>\n",
       "    </tr>\n",
       "    <tr>\n",
       "      <th>42</th>\n",
       "      <td>{u'n_estimators': 101, u'max_features': 182}</td>\n",
       "      <td>0.878055</td>\n",
       "      <td>[0.860555555556, 0.888513513514, 0.84712837837...</td>\n",
       "    </tr>\n",
       "    <tr>\n",
       "      <th>1</th>\n",
       "      <td>{u'n_estimators': 1291, u'max_features': 67}</td>\n",
       "      <td>0.864508</td>\n",
       "      <td>[0.829166666667, 0.884009009009, 0.84177927927...</td>\n",
       "    </tr>\n",
       "    <tr>\n",
       "      <th>19</th>\n",
       "      <td>{u'n_estimators': 861, u'max_features': 47}</td>\n",
       "      <td>0.856758</td>\n",
       "      <td>[0.815555555556, 0.885416666667, 0.82573198198...</td>\n",
       "    </tr>\n",
       "    <tr>\n",
       "      <th>33</th>\n",
       "      <td>{u'n_estimators': 791, u'max_features': 28}</td>\n",
       "      <td>0.838136</td>\n",
       "      <td>[0.761944444444, 0.868243243243, 0.81587837837...</td>\n",
       "    </tr>\n",
       "    <tr>\n",
       "      <th>10</th>\n",
       "      <td>{u'n_estimators': 311, u'max_features': 32}</td>\n",
       "      <td>0.837876</td>\n",
       "      <td>[0.786944444444, 0.858952702703, 0.82291666666...</td>\n",
       "    </tr>\n",
       "    <tr>\n",
       "      <th>37</th>\n",
       "      <td>{u'n_estimators': 1411, u'max_features': 22}</td>\n",
       "      <td>0.830143</td>\n",
       "      <td>[0.756666666667, 0.868243243243, 0.81081081081...</td>\n",
       "    </tr>\n",
       "    <tr>\n",
       "      <th>36</th>\n",
       "      <td>{u'n_estimators': 21, u'max_features': 102}</td>\n",
       "      <td>0.814541</td>\n",
       "      <td>[0.704444444444, 0.882601351351, 0.83727477477...</td>\n",
       "    </tr>\n",
       "    <tr>\n",
       "      <th>43</th>\n",
       "      <td>{u'n_estimators': 11, u'max_features': 125}</td>\n",
       "      <td>0.809656</td>\n",
       "      <td>[0.743333333333, 0.786317567568, 0.79729729729...</td>\n",
       "    </tr>\n",
       "    <tr>\n",
       "      <th>24</th>\n",
       "      <td>{u'n_estimators': 1041, u'max_features': 3}</td>\n",
       "      <td>0.806192</td>\n",
       "      <td>[0.698611111111, 0.862612612613, 0.78125, 0.91...</td>\n",
       "    </tr>\n",
       "    <tr>\n",
       "      <th>21</th>\n",
       "      <td>{u'n_estimators': 91, u'max_features': 10}</td>\n",
       "      <td>0.790627</td>\n",
       "      <td>[0.714444444444, 0.817004504505, 0.78941441441...</td>\n",
       "    </tr>\n",
       "  </tbody>\n",
       "</table>\n",
       "</div>"
      ],
      "text/plain": [
       "                                       parameters  mean_validation_score  \\\n",
       "48   {u'n_estimators': 291, u'max_features': 411}               0.912278   \n",
       "40   {u'n_estimators': 881, u'max_features': 411}               0.911934   \n",
       "14   {u'n_estimators': 991, u'max_features': 427}               0.911659   \n",
       "15   {u'n_estimators': 701, u'max_features': 501}               0.911601   \n",
       "17   {u'n_estimators': 331, u'max_features': 488}               0.911422   \n",
       "20  {u'n_estimators': 1111, u'max_features': 461}               0.910308   \n",
       "41   {u'n_estimators': 941, u'max_features': 491}               0.910283   \n",
       "47   {u'n_estimators': 821, u'max_features': 488}               0.910146   \n",
       "26  {u'n_estimators': 1201, u'max_features': 440}               0.909304   \n",
       "25  {u'n_estimators': 1341, u'max_features': 435}               0.908930   \n",
       "49   {u'n_estimators': 531, u'max_features': 425}               0.908817   \n",
       "29   {u'n_estimators': 271, u'max_features': 468}               0.907421   \n",
       "23   {u'n_estimators': 741, u'max_features': 350}               0.907012   \n",
       "39  {u'n_estimators': 1051, u'max_features': 422}               0.906826   \n",
       "22   {u'n_estimators': 241, u'max_features': 432}               0.906543   \n",
       "8   {u'n_estimators': 1021, u'max_features': 365}               0.905161   \n",
       "34   {u'n_estimators': 131, u'max_features': 480}               0.904795   \n",
       "28  {u'n_estimators': 1411, u'max_features': 389}               0.904766   \n",
       "9     {u'n_estimators': 81, u'max_features': 435}               0.904305   \n",
       "12  {u'n_estimators': 1111, u'max_features': 310}               0.904267   \n",
       "45   {u'n_estimators': 471, u'max_features': 288}               0.904264   \n",
       "30   {u'n_estimators': 351, u'max_features': 423}               0.903588   \n",
       "7   {u'n_estimators': 1411, u'max_features': 353}               0.903205   \n",
       "32   {u'n_estimators': 731, u'max_features': 291}               0.902881   \n",
       "38   {u'n_estimators': 871, u'max_features': 264}               0.902687   \n",
       "18  {u'n_estimators': 1421, u'max_features': 303}               0.902392   \n",
       "6   {u'n_estimators': 1071, u'max_features': 294}               0.901479   \n",
       "16  {u'n_estimators': 1431, u'max_features': 284}               0.900719   \n",
       "35  {u'n_estimators': 1221, u'max_features': 297}               0.900268   \n",
       "46   {u'n_estimators': 311, u'max_features': 304}               0.898512   \n",
       "11   {u'n_estimators': 241, u'max_features': 222}               0.895028   \n",
       "3    {u'n_estimators': 201, u'max_features': 285}               0.894915   \n",
       "2   {u'n_estimators': 1321, u'max_features': 186}               0.891807   \n",
       "5    {u'n_estimators': 291, u'max_features': 188}               0.890781   \n",
       "4   {u'n_estimators': 1081, u'max_features': 175}               0.890738   \n",
       "13   {u'n_estimators': 261, u'max_features': 208}               0.889761   \n",
       "0    {u'n_estimators': 631, u'max_features': 197}               0.888800   \n",
       "31   {u'n_estimators': 341, u'max_features': 125}               0.884732   \n",
       "44  {u'n_estimators': 1201, u'max_features': 141}               0.883608   \n",
       "27   {u'n_estimators': 681, u'max_features': 133}               0.879056   \n",
       "42   {u'n_estimators': 101, u'max_features': 182}               0.878055   \n",
       "1    {u'n_estimators': 1291, u'max_features': 67}               0.864508   \n",
       "19    {u'n_estimators': 861, u'max_features': 47}               0.856758   \n",
       "33    {u'n_estimators': 791, u'max_features': 28}               0.838136   \n",
       "10    {u'n_estimators': 311, u'max_features': 32}               0.837876   \n",
       "37   {u'n_estimators': 1411, u'max_features': 22}               0.830143   \n",
       "36    {u'n_estimators': 21, u'max_features': 102}               0.814541   \n",
       "43    {u'n_estimators': 11, u'max_features': 125}               0.809656   \n",
       "24    {u'n_estimators': 1041, u'max_features': 3}               0.806192   \n",
       "21     {u'n_estimators': 91, u'max_features': 10}               0.790627   \n",
       "\n",
       "                                 cv_validation_scores  \n",
       "48  [0.922222222222, 0.89161036036, 0.882601351351...  \n",
       "40  [0.913611111111, 0.902308558559, 0.88541666666...  \n",
       "14  [0.908055555556, 0.898367117117, 0.88569819819...  \n",
       "15  [0.904722222222, 0.902027027027, 0.88400900900...  \n",
       "17  [0.909444444444, 0.891328828829, 0.89020270270...  \n",
       "20  [0.905833333333, 0.901463963964, 0.88654279279...  \n",
       "41  [0.911944444444, 0.89527027027, 0.880349099099...  \n",
       "47  [0.900277777778, 0.890484234234, 0.89245495495...  \n",
       "26  [0.905833333333, 0.900337837838, 0.88119369369...  \n",
       "25  [0.9025, 0.893018018018, 0.88597972973, 0.9752...  \n",
       "49  [0.906111111111, 0.897240990991, 0.88034909909...  \n",
       "29  [0.904722222222, 0.886261261261, 0.89273648648...  \n",
       "23  [0.9, 0.896114864865, 0.881756756757, 0.970157...  \n",
       "39  [0.901111111111, 0.89527027027, 0.877252252252...  \n",
       "22  [0.894444444444, 0.892736486486, 0.88879504504...  \n",
       "8   [0.899722222222, 0.896396396396, 0.87865990991...  \n",
       "34  [0.896388888889, 0.902027027027, 0.87528153153...  \n",
       "28  [0.897222222222, 0.896396396396, 0.87781531531...  \n",
       "9   [0.888611111111, 0.905123873874, 0.87837837837...  \n",
       "12  [0.898611111111, 0.897804054054, 0.88288288288...  \n",
       "45  [0.8925, 0.904842342342, 0.872466216216, 0.972...  \n",
       "30  [0.883611111111, 0.898367117117, 0.87528153153...  \n",
       "7   [0.893333333333, 0.894988738739, 0.87359234234...  \n",
       "32  [0.900555555556, 0.905405405405, 0.87105855855...  \n",
       "38  [0.893333333333, 0.896959459459, 0.875, 0.9690...  \n",
       "18  [0.900555555556, 0.897240990991, 0.86711711711...  \n",
       "6   [0.899444444444, 0.891047297297, 0.86965090090...  \n",
       "16  [0.897222222222, 0.890765765766, 0.87162162162...  \n",
       "35  [0.8925, 0.893581081081, 0.875844594595, 0.969...  \n",
       "46  [0.904166666667, 0.901182432432, 0.86486486486...  \n",
       "11  [0.879722222222, 0.894425675676, 0.86655405405...  \n",
       "3   [0.882777777778, 0.897804054054, 0.86120495495...  \n",
       "2   [0.883888888889, 0.899774774775, 0.86036036036...  \n",
       "5   [0.875, 0.894707207207, 0.857545045045, 0.9625...  \n",
       "4   [0.880833333333, 0.892454954955, 0.85726351351...  \n",
       "13  [0.887777777778, 0.891047297297, 0.86373873873...  \n",
       "0   [0.878611111111, 0.893581081081, 0.86007882882...  \n",
       "31  [0.873611111111, 0.899211711712, 0.85304054054...  \n",
       "44  [0.869166666667, 0.890202702703, 0.85472972973...  \n",
       "27  [0.861944444444, 0.888513513514, 0.84177927927...  \n",
       "42  [0.860555555556, 0.888513513514, 0.84712837837...  \n",
       "1   [0.829166666667, 0.884009009009, 0.84177927927...  \n",
       "19  [0.815555555556, 0.885416666667, 0.82573198198...  \n",
       "33  [0.761944444444, 0.868243243243, 0.81587837837...  \n",
       "10  [0.786944444444, 0.858952702703, 0.82291666666...  \n",
       "37  [0.756666666667, 0.868243243243, 0.81081081081...  \n",
       "36  [0.704444444444, 0.882601351351, 0.83727477477...  \n",
       "43  [0.743333333333, 0.786317567568, 0.79729729729...  \n",
       "24  [0.698611111111, 0.862612612613, 0.78125, 0.91...  \n",
       "21  [0.714444444444, 0.817004504505, 0.78941441441...  "
      ]
     },
     "execution_count": 49,
     "metadata": {},
     "output_type": "execute_result"
    }
   ],
   "source": [
    "grid = pd.DataFrame(rand.grid_scores_).sort_values('mean_validation_score', ascending=False)\n",
    "grid.head(50)"
   ]
  },
  {
   "cell_type": "code",
   "execution_count": 50,
   "metadata": {
    "collapsed": false
   },
   "outputs": [
    {
     "name": "stdout",
     "output_type": "stream",
     "text": [
      "0.912278292045\n",
      "{'n_estimators': 291, 'max_features': 411}\n"
     ]
    }
   ],
   "source": [
    "# look at best parameters\n",
    "\n",
    "print rand.best_score_\n",
    "print rand.best_params_"
   ]
  },
  {
   "cell_type": "code",
   "execution_count": 51,
   "metadata": {
    "collapsed": false
   },
   "outputs": [
    {
     "data": {
      "text/plain": [
       "RandomForestClassifier(bootstrap=True, class_weight=None, criterion='gini',\n",
       "            max_depth=None, max_features=450, max_leaf_nodes=None,\n",
       "            min_samples_leaf=1, min_samples_split=2,\n",
       "            min_weight_fraction_leaf=0.0, n_estimators=800, n_jobs=1,\n",
       "            oob_score=True, random_state=None, verbose=0, warm_start=False)"
      ]
     },
     "execution_count": 51,
     "metadata": {},
     "output_type": "execute_result"
    }
   ],
   "source": [
    "# fit random forest with best parameters\n",
    "\n",
    "rfclass = RandomForestClassifier(n_estimators=800, max_features=450, oob_score=True)\n",
    "rfclass.fit(X, y)\n"
   ]
  },
  {
   "cell_type": "code",
   "execution_count": 52,
   "metadata": {
    "collapsed": false
   },
   "outputs": [
    {
     "data": {
      "text/html": [
       "<div>\n",
       "<table border=\"1\" class=\"dataframe\">\n",
       "  <thead>\n",
       "    <tr style=\"text-align: right;\">\n",
       "      <th></th>\n",
       "      <th>feature</th>\n",
       "      <th>importance</th>\n",
       "    </tr>\n",
       "  </thead>\n",
       "  <tbody>\n",
       "    <tr>\n",
       "      <th>424</th>\n",
       "      <td>363=PNGS</td>\n",
       "      <td>0.148488</td>\n",
       "    </tr>\n",
       "    <tr>\n",
       "      <th>488</th>\n",
       "      <td>408=N</td>\n",
       "      <td>0.052014</td>\n",
       "    </tr>\n",
       "    <tr>\n",
       "      <th>494</th>\n",
       "      <td>411=S</td>\n",
       "      <td>0.030612</td>\n",
       "    </tr>\n",
       "    <tr>\n",
       "      <th>627</th>\n",
       "      <td>479=PNGS</td>\n",
       "      <td>0.028908</td>\n",
       "    </tr>\n",
       "    <tr>\n",
       "      <th>634</th>\n",
       "      <td>482=W</td>\n",
       "      <td>0.024628</td>\n",
       "    </tr>\n",
       "    <tr>\n",
       "      <th>612</th>\n",
       "      <td>466=G</td>\n",
       "      <td>0.016456</td>\n",
       "    </tr>\n",
       "    <tr>\n",
       "      <th>632</th>\n",
       "      <td>481=T</td>\n",
       "      <td>0.014737</td>\n",
       "    </tr>\n",
       "    <tr>\n",
       "      <th>493</th>\n",
       "      <td>411=PNGS</td>\n",
       "      <td>0.013893</td>\n",
       "    </tr>\n",
       "    <tr>\n",
       "      <th>485</th>\n",
       "      <td>406=H</td>\n",
       "      <td>0.010319</td>\n",
       "    </tr>\n",
       "    <tr>\n",
       "      <th>1233</th>\n",
       "      <td>930=W</td>\n",
       "      <td>0.009623</td>\n",
       "    </tr>\n",
       "  </tbody>\n",
       "</table>\n",
       "</div>"
      ],
      "text/plain": [
       "       feature  importance\n",
       "424   363=PNGS    0.148488\n",
       "488      408=N    0.052014\n",
       "494      411=S    0.030612\n",
       "627   479=PNGS    0.028908\n",
       "634      482=W    0.024628\n",
       "612      466=G    0.016456\n",
       "632      481=T    0.014737\n",
       "493   411=PNGS    0.013893\n",
       "485      406=H    0.010319\n",
       "1233     930=W    0.009623"
      ]
     },
     "execution_count": 52,
     "metadata": {},
     "output_type": "execute_result"
    }
   ],
   "source": [
    "# look at feature importances\n",
    "\n",
    "forest_features_import = pd.DataFrame({'feature': X.columns, 'importance': rfclass.feature_importances_})\n",
    "forest_features_import.sort_values('importance', ascending=False).head(10)"
   ]
  },
  {
   "cell_type": "code",
   "execution_count": 56,
   "metadata": {
    "collapsed": false
   },
   "outputs": [
    {
     "data": {
      "text/plain": [
       "479"
      ]
     },
     "execution_count": 56,
     "metadata": {},
     "output_type": "execute_result"
    }
   ],
   "source": [
    "# look up position in HXB2 for it's corresponding coordinate in the MSA\n",
    "\n",
    "reference = sequence_tokenizer(HXB2.seq)\n",
    "decoder = dict(enumerate(reference, start=1))\n",
    "decoder[392]"
   ]
  },
  {
   "cell_type": "code",
   "execution_count": 57,
   "metadata": {
    "collapsed": false
   },
   "outputs": [
    {
     "data": {
      "text/plain": [
       "0.88571428571428568"
      ]
     },
     "execution_count": 57,
     "metadata": {},
     "output_type": "execute_result"
    }
   ],
   "source": [
    "# oob score\n",
    "\n",
    "rfclass.oob_score_"
   ]
  },
  {
   "cell_type": "markdown",
   "metadata": {
    "collapsed": true
   },
   "source": [
    "# Fit Logistic Regression with best features\n",
    "\n",
    "    Evaluate with different iterations of selected features\n",
    "    "
   ]
  },
  {
   "cell_type": "code",
   "execution_count": 58,
   "metadata": {
    "collapsed": false
   },
   "outputs": [],
   "source": [
    "# define new df with selected features & perform train/test split\n",
    "\n",
    "selected_features = ['363=PNGS', '408=N', '411=S', '479=PNGS', '482=W']\n",
    "X = features_df[selected_features]\n",
    "y = neutdf.is_neutralized\n",
    "\n",
    "from sklearn.cross_validation import train_test_split\n",
    "\n",
    "X_train, X_test, y_train, y_test = train_test_split(X, y, stratify=y, \n",
    "                                                    test_size=0.3)"
   ]
  },
  {
   "cell_type": "code",
   "execution_count": 59,
   "metadata": {
    "collapsed": false
   },
   "outputs": [
    {
     "data": {
      "text/plain": [
       "LogisticRegression(C=1000000000.0, class_weight=None, dual=False,\n",
       "          fit_intercept=True, intercept_scaling=1, max_iter=100,\n",
       "          multi_class='ovr', n_jobs=1, penalty='l2', random_state=None,\n",
       "          solver='liblinear', tol=0.0001, verbose=0, warm_start=False)"
      ]
     },
     "execution_count": 59,
     "metadata": {},
     "output_type": "execute_result"
    }
   ],
   "source": [
    "# fit logistic regression\n",
    "\n",
    "from sklearn.linear_model import LogisticRegression\n",
    "logreg = LogisticRegression(C=1e9)\n",
    "logreg.fit(X_train, y_train)"
   ]
  },
  {
   "cell_type": "code",
   "execution_count": 60,
   "metadata": {
    "collapsed": false
   },
   "outputs": [
    {
     "name": "stdout",
     "output_type": "stream",
     "text": [
      "[[  3.1111298    2.59049643   0.99078487  11.07237876   1.29615324]]\n"
     ]
    }
   ],
   "source": [
    "# look at coefficients\n",
    "\n",
    "print logreg.coef_"
   ]
  },
  {
   "cell_type": "code",
   "execution_count": 61,
   "metadata": {
    "collapsed": false
   },
   "outputs": [
    {
     "name": "stdout",
     "output_type": "stream",
     "text": [
      "0.331746535146\n"
     ]
    }
   ],
   "source": [
    "# evaluate log loss\n",
    "\n",
    "from sklearn import metrics\n",
    "\n",
    "y_pred_proba = logreg.predict_proba(X_test)\n",
    "print metrics.log_loss(y_test, y_pred_proba)"
   ]
  },
  {
   "cell_type": "code",
   "execution_count": 62,
   "metadata": {
    "collapsed": false
   },
   "outputs": [
    {
     "name": "stdout",
     "output_type": "stream",
     "text": [
      "0.753706356528\n"
     ]
    }
   ],
   "source": [
    "# evaluate MCC\n",
    "\n",
    "y_pred_class = logreg.predict(X_test)\n",
    "print metrics.matthews_corrcoef(y_test, y_pred_class)"
   ]
  },
  {
   "cell_type": "code",
   "execution_count": 63,
   "metadata": {
    "collapsed": false
   },
   "outputs": [],
   "source": [
    "# do above with different feature combinations\n",
    "\n",
    "feature_selections = [['363=PNGS', '408=N', '411=S', '479=PNGS', '482=W'], ['363=PNGS', '408=N', '411=S', '479=PNGS'], \n",
    "                      ['363=PNGS', '408=N', '411=S'], ['363=PNGS', '408=N'], ['363=PNGS']]\n",
    "\n",
    "log_loss_scores = []\n",
    "MCC_scores = []\n",
    "\n",
    "for selection in feature_selections:\n",
    "    X = features_df[selection]\n",
    "    y = neutdf.is_neutralized\n",
    "    X_train, X_test, y_train, y_test = train_test_split(X, y, stratify=y, \n",
    "                                                    test_size=0.3)\n",
    "    logreg = LogisticRegression(C=1e9)\n",
    "    logreg.fit(X_train, y_train)\n",
    "    y_pred_proba = logreg.predict_proba(X_test)\n",
    "    log_loss = metrics.log_loss(y_test, y_pred_proba)\n",
    "    y_pred_class = logreg.predict(X_test)\n",
    "    MCC = metrics.matthews_corrcoef(y_test, y_pred_class)\n",
    "    log_loss_scores.append(log_loss)\n",
    "    MCC_scores.append(MCC)"
   ]
  },
  {
   "cell_type": "code",
   "execution_count": 64,
   "metadata": {
    "collapsed": false
   },
   "outputs": [
    {
     "data": {
      "text/html": [
       "<div>\n",
       "<table border=\"1\" class=\"dataframe\">\n",
       "  <thead>\n",
       "    <tr style=\"text-align: right;\">\n",
       "      <th></th>\n",
       "      <th>MCC</th>\n",
       "      <th>features</th>\n",
       "      <th>log loss</th>\n",
       "    </tr>\n",
       "  </thead>\n",
       "  <tbody>\n",
       "    <tr>\n",
       "      <th>1</th>\n",
       "      <td>0.664071</td>\n",
       "      <td>[363=PNGS, 408=N, 411=S, 479=PNGS]</td>\n",
       "      <td>0.334308</td>\n",
       "    </tr>\n",
       "    <tr>\n",
       "      <th>0</th>\n",
       "      <td>0.651456</td>\n",
       "      <td>[363=PNGS, 408=N, 411=S, 479=PNGS, 482=W]</td>\n",
       "      <td>0.361570</td>\n",
       "    </tr>\n",
       "    <tr>\n",
       "      <th>2</th>\n",
       "      <td>0.626258</td>\n",
       "      <td>[363=PNGS, 408=N, 411=S]</td>\n",
       "      <td>0.385761</td>\n",
       "    </tr>\n",
       "    <tr>\n",
       "      <th>3</th>\n",
       "      <td>0.548702</td>\n",
       "      <td>[363=PNGS, 408=N]</td>\n",
       "      <td>0.416775</td>\n",
       "    </tr>\n",
       "    <tr>\n",
       "      <th>4</th>\n",
       "      <td>0.000000</td>\n",
       "      <td>[363=PNGS]</td>\n",
       "      <td>0.430039</td>\n",
       "    </tr>\n",
       "  </tbody>\n",
       "</table>\n",
       "</div>"
      ],
      "text/plain": [
       "        MCC                                   features  log loss\n",
       "1  0.664071         [363=PNGS, 408=N, 411=S, 479=PNGS]  0.334308\n",
       "0  0.651456  [363=PNGS, 408=N, 411=S, 479=PNGS, 482=W]  0.361570\n",
       "2  0.626258                   [363=PNGS, 408=N, 411=S]  0.385761\n",
       "3  0.548702                          [363=PNGS, 408=N]  0.416775\n",
       "4  0.000000                                 [363=PNGS]  0.430039"
      ]
     },
     "execution_count": 64,
     "metadata": {},
     "output_type": "execute_result"
    }
   ],
   "source": [
    "# make a dataframe of the above\n",
    "\n",
    "log_reg_eval = pd.DataFrame({'features': feature_selections, 'log loss': log_loss_scores, 'MCC': MCC_scores})\n",
    "log_reg_eval.sort_values('MCC', ascending=False)"
   ]
  },
  {
   "cell_type": "code",
   "execution_count": null,
   "metadata": {
    "collapsed": true
   },
   "outputs": [],
   "source": []
  }
 ],
 "metadata": {
  "kernelspec": {
   "display_name": "Python 2",
   "language": "python",
   "name": "python2"
  },
  "language_info": {
   "codemirror_mode": {
    "name": "ipython",
    "version": 2
   },
   "file_extension": ".py",
   "mimetype": "text/x-python",
   "name": "python",
   "nbconvert_exporter": "python",
   "pygments_lexer": "ipython2",
   "version": "2.7.11"
  }
 },
 "nbformat": 4,
 "nbformat_minor": 0
}
