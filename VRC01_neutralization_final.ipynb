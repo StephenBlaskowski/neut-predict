{
 "cells": [
  {
   "cell_type": "code",
   "execution_count": 1,
   "metadata": {
    "collapsed": true
   },
   "outputs": [],
   "source": [
    "import pandas as pd\n",
    "import numpy as np\n",
    "from Bio import SeqIO\n",
    "from Bio.Alphabet import generic_protein\n",
    "import re"
   ]
  },
  {
   "cell_type": "code",
   "execution_count": 2,
   "metadata": {
    "collapsed": true
   },
   "outputs": [],
   "source": [
    "# read in neut data\n",
    "\n",
    "neut_file_path = '../data/VRC01_IC50_IC80.txt'\n",
    "\n",
    "neuts = pd.read_table(neut_file_path, header=0)\n",
    "neuts.rename(columns={'Virus name':'name', \n",
    "              'Subtype':'subtype',\n",
    "              'VRC01: IC50 geometric mean':'IC50',\n",
    "              'VRC01: IC80 geometric mean':'IC80'}, inplace=True)\n",
    "# neuts.set_index('name', inplace=True)\n",
    "neuts.drop(['Tier', 'Country', 'Accession', 'Alias', 'Seq data', \n",
    "            ' VRC01: IC50 by study', ' VRC01: IC80 by study', 'Unnamed: 11'], \n",
    "            axis=1, inplace=True)\n",
    "neuts = neuts[neuts.name != 'Geometric mean of detected']\n",
    "neuts = neuts[neuts.name != 'Geometric mean of all(undetected set to 100)'] \n",
    "neuts = neuts[neuts.name != '% detected (detected/total)'] "
   ]
  },
  {
   "cell_type": "code",
   "execution_count": 3,
   "metadata": {
    "collapsed": false
   },
   "outputs": [],
   "source": [
    "# read in sequence data\n",
    "\n",
    "virus_name = []\n",
    "virus_seq = []\n",
    "passed_seqs = []\n",
    "\n",
    "fasta_file_path = '../data/VRC01 virus aa align.fasta'\n",
    "\n",
    "for seq_record in SeqIO.parse(fasta_file_path, 'fasta', \n",
    "                              alphabet=generic_protein):\n",
    "    try:\n",
    "        virus_name.append(seq_record.id.split('.')[2])\n",
    "        virus_seq.append(seq_record.seq)\n",
    "    except:\n",
    "        passed_seqs.append(seq_record)\n",
    "\n",
    "HXB2 = passed_seqs[0]"
   ]
  },
  {
   "cell_type": "code",
   "execution_count": 4,
   "metadata": {
    "collapsed": true
   },
   "outputs": [],
   "source": [
    "# convert sequence data to DataFrame\n",
    "\n",
    "seq_dict = {'sequence' : pd.Series(virus_seq, index=virus_name, \n",
    "                                   dtype='object')}\n",
    "seq_df = pd.DataFrame(seq_dict)"
   ]
  },
  {
   "cell_type": "code",
   "execution_count": 5,
   "metadata": {
    "collapsed": true
   },
   "outputs": [],
   "source": [
    "# merge neuts and seq_df\n",
    "\n",
    "neutdf = pd.merge(neuts, seq_df, how='inner', left_on='name', \n",
    "                    right_index=True)"
   ]
  },
  {
   "cell_type": "code",
   "execution_count": 6,
   "metadata": {
    "collapsed": true
   },
   "outputs": [],
   "source": [
    "# define neut categories\n",
    "\n",
    "def binarize_IC50(row):\n",
    "    if '>' in row.IC50:\n",
    "        return 0\n",
    "    else:\n",
    "        value = float(row.IC50)\n",
    "        return 0 if value > 50 else 1\n",
    "\n",
    "neutdf['is_neutralized'] = neutdf.apply(binarize_IC50, axis=1)\n"
   ]
  },
  {
   "cell_type": "code",
   "execution_count": 9,
   "metadata": {
    "collapsed": false
   },
   "outputs": [
    {
     "data": {
      "text/html": [
       "<div>\n",
       "<table border=\"1\" class=\"dataframe\">\n",
       "  <thead>\n",
       "    <tr style=\"text-align: right;\">\n",
       "      <th></th>\n",
       "      <th>name</th>\n",
       "      <th>subtype</th>\n",
       "      <th>IC50</th>\n",
       "      <th>IC80</th>\n",
       "      <th>sequence</th>\n",
       "      <th>is_neutralized</th>\n",
       "    </tr>\n",
       "  </thead>\n",
       "  <tbody>\n",
       "    <tr>\n",
       "      <th>0</th>\n",
       "      <td>0013095_2_11</td>\n",
       "      <td>C</td>\n",
       "      <td>0.12352</td>\n",
       "      <td>0.46893</td>\n",
       "      <td>(M, R, V, K, G, -, I, L, R, N, Y, -, Q, Q, W, ...</td>\n",
       "      <td>1</td>\n",
       "    </tr>\n",
       "    <tr>\n",
       "      <th>1</th>\n",
       "      <td>001428_2_42</td>\n",
       "      <td>C</td>\n",
       "      <td>0.02057</td>\n",
       "      <td>0.06234</td>\n",
       "      <td>(M, R, V, R, G, -, I, L, R, N, Y, -, Q, Q, W, ...</td>\n",
       "      <td>1</td>\n",
       "    </tr>\n",
       "    <tr>\n",
       "      <th>2</th>\n",
       "      <td>0077_V1_C16</td>\n",
       "      <td>C</td>\n",
       "      <td>1.03134</td>\n",
       "      <td>1.79126</td>\n",
       "      <td>(M, R, V, M, G, -, S, M, R, N, C, -, Q, R, W, ...</td>\n",
       "      <td>1</td>\n",
       "    </tr>\n",
       "    <tr>\n",
       "      <th>3</th>\n",
       "      <td>00836_2_5</td>\n",
       "      <td>C</td>\n",
       "      <td>0.15389</td>\n",
       "      <td>0.78049</td>\n",
       "      <td>(M, R, V, R, G, -, I, R, R, N, Y, -, Q, H, W, ...</td>\n",
       "      <td>1</td>\n",
       "    </tr>\n",
       "    <tr>\n",
       "      <th>4</th>\n",
       "      <td>0260_V5_C36</td>\n",
       "      <td>A1</td>\n",
       "      <td>0.61196</td>\n",
       "      <td>1.70134</td>\n",
       "      <td>(M, R, V, M, G, -, I, Q, R, N, S, -, Q, C, F, ...</td>\n",
       "      <td>1</td>\n",
       "    </tr>\n",
       "  </tbody>\n",
       "</table>\n",
       "</div>"
      ],
      "text/plain": [
       "           name subtype     IC50     IC80  \\\n",
       "0  0013095_2_11       C  0.12352  0.46893   \n",
       "1   001428_2_42       C  0.02057  0.06234   \n",
       "2   0077_V1_C16       C  1.03134  1.79126   \n",
       "3     00836_2_5       C  0.15389  0.78049   \n",
       "4   0260_V5_C36      A1  0.61196  1.70134   \n",
       "\n",
       "                                            sequence  is_neutralized  \n",
       "0  (M, R, V, K, G, -, I, L, R, N, Y, -, Q, Q, W, ...               1  \n",
       "1  (M, R, V, R, G, -, I, L, R, N, Y, -, Q, Q, W, ...               1  \n",
       "2  (M, R, V, M, G, -, S, M, R, N, C, -, Q, R, W, ...               1  \n",
       "3  (M, R, V, R, G, -, I, R, R, N, Y, -, Q, H, W, ...               1  \n",
       "4  (M, R, V, M, G, -, I, Q, R, N, S, -, Q, C, F, ...               1  "
      ]
     },
     "execution_count": 9,
     "metadata": {},
     "output_type": "execute_result"
    }
   ],
   "source": [
    "neutdf.head()"
   ]
  },
  {
   "cell_type": "markdown",
   "metadata": {},
   "source": [
    "# Feature Extraction\n",
    "\n",
    "    Tokenize sequences w/ position value and amino acid identity\n",
    "    Tokenize PNGS sites with a regex\n",
    "    Vectorize tokens and create dataframe of dummy variables\n",
    "    "
   ]
  },
  {
   "cell_type": "code",
   "execution_count": 10,
   "metadata": {
    "collapsed": true
   },
   "outputs": [],
   "source": [
    "# define function to tokenize sequence\n",
    "# input = sequence object, output = dictionary where index is position and\n",
    "# token is amino acid identity at that position\n",
    "\n",
    "amino_acids = ['A', 'R', 'N', 'D', 'C', 'Q', 'E', 'G', 'H', 'I', \n",
    "               'L', 'K', 'M', 'F', 'P', 'S', 'T', 'W', 'Y', 'V']\n",
    "\n",
    "def sequence_tokenizer(seq):\n",
    "    \"\"\"\n",
    "    \n",
    "    \"\"\"\n",
    "    seq_list = list(str(seq).strip('*'))\n",
    "    working_peptide = list(enumerate(seq_list, start=1))\n",
    "    peptide_dict = {}\n",
    "    for index, amino in working_peptide:\n",
    "        if amino in amino_acids:\n",
    "            peptide_dict.update({index : amino})\n",
    "        else: \n",
    "            pass\n",
    "    return peptide_dict\n"
   ]
  },
  {
   "cell_type": "code",
   "execution_count": 11,
   "metadata": {
    "collapsed": true
   },
   "outputs": [],
   "source": [
    "# define function to tokenize potential N-linked glycosylation sites \n",
    "# (PNGS) in sequence\n",
    "# input = sequence object, output = dictionary where index is position\n",
    "# and token = 'PNGS'\n",
    "\n",
    "def PNGS_tokenizer(seq):\n",
    "    seq_string = str(seq).strip('*')\n",
    "    PNGS_dict = {m.start(0)+1 : 'PNGS' \n",
    "                for m in re.finditer(r\"N[^P][ST]\", seq_string)}\n",
    "    return PNGS_dict\n"
   ]
  },
  {
   "cell_type": "code",
   "execution_count": 12,
   "metadata": {
    "collapsed": true
   },
   "outputs": [],
   "source": [
    "# define feature extraction function where input = seq object and \n",
    "# output = one dictionary of all features\n",
    "\n",
    "def get_features(seq, use_positions=True, use_PNGS=True):\n",
    "    features = {}\n",
    "    if use_positions:\n",
    "        sequence_features = sequence_tokenizer(seq)\n",
    "        features.update(sequence_features)\n",
    "    if use_PNGS:\n",
    "        PNGS_features = PNGS_tokenizer(seq)\n",
    "        features.update(PNGS_features)\n",
    "    return features\n"
   ]
  },
  {
   "cell_type": "code",
   "execution_count": 13,
   "metadata": {
    "collapsed": true
   },
   "outputs": [],
   "source": [
    "# map get_features function to sequence column of neutdf\n",
    "\n",
    "neutdf['features_dict'] = neutdf.sequence.map(get_features)\n"
   ]
  },
  {
   "cell_type": "code",
   "execution_count": 14,
   "metadata": {
    "collapsed": false
   },
   "outputs": [
    {
     "data": {
      "text/html": [
       "<div>\n",
       "<table border=\"1\" class=\"dataframe\">\n",
       "  <thead>\n",
       "    <tr style=\"text-align: right;\">\n",
       "      <th></th>\n",
       "      <th>name</th>\n",
       "      <th>subtype</th>\n",
       "      <th>IC50</th>\n",
       "      <th>IC80</th>\n",
       "      <th>sequence</th>\n",
       "      <th>is_neutralized</th>\n",
       "      <th>features_dict</th>\n",
       "    </tr>\n",
       "  </thead>\n",
       "  <tbody>\n",
       "    <tr>\n",
       "      <th>0</th>\n",
       "      <td>0013095_2_11</td>\n",
       "      <td>C</td>\n",
       "      <td>0.12352</td>\n",
       "      <td>0.46893</td>\n",
       "      <td>(M, R, V, K, G, -, I, L, R, N, Y, -, Q, Q, W, ...</td>\n",
       "      <td>1</td>\n",
       "      <td>{1: u'M', 2: u'R', 3: u'V', 4: u'K', 5: u'G', ...</td>\n",
       "    </tr>\n",
       "    <tr>\n",
       "      <th>1</th>\n",
       "      <td>001428_2_42</td>\n",
       "      <td>C</td>\n",
       "      <td>0.02057</td>\n",
       "      <td>0.06234</td>\n",
       "      <td>(M, R, V, R, G, -, I, L, R, N, Y, -, Q, Q, W, ...</td>\n",
       "      <td>1</td>\n",
       "      <td>{1: u'M', 2: u'R', 3: u'V', 4: u'R', 5: u'G', ...</td>\n",
       "    </tr>\n",
       "    <tr>\n",
       "      <th>2</th>\n",
       "      <td>0077_V1_C16</td>\n",
       "      <td>C</td>\n",
       "      <td>1.03134</td>\n",
       "      <td>1.79126</td>\n",
       "      <td>(M, R, V, M, G, -, S, M, R, N, C, -, Q, R, W, ...</td>\n",
       "      <td>1</td>\n",
       "      <td>{1: u'M', 2: u'R', 3: u'V', 4: u'M', 5: u'G', ...</td>\n",
       "    </tr>\n",
       "    <tr>\n",
       "      <th>3</th>\n",
       "      <td>00836_2_5</td>\n",
       "      <td>C</td>\n",
       "      <td>0.15389</td>\n",
       "      <td>0.78049</td>\n",
       "      <td>(M, R, V, R, G, -, I, R, R, N, Y, -, Q, H, W, ...</td>\n",
       "      <td>1</td>\n",
       "      <td>{1: u'M', 2: u'R', 3: u'V', 4: u'R', 5: u'G', ...</td>\n",
       "    </tr>\n",
       "    <tr>\n",
       "      <th>4</th>\n",
       "      <td>0260_V5_C36</td>\n",
       "      <td>A1</td>\n",
       "      <td>0.61196</td>\n",
       "      <td>1.70134</td>\n",
       "      <td>(M, R, V, M, G, -, I, Q, R, N, S, -, Q, C, F, ...</td>\n",
       "      <td>1</td>\n",
       "      <td>{1: u'M', 2: u'R', 3: u'V', 4: u'M', 5: u'G', ...</td>\n",
       "    </tr>\n",
       "  </tbody>\n",
       "</table>\n",
       "</div>"
      ],
      "text/plain": [
       "           name subtype     IC50     IC80  \\\n",
       "0  0013095_2_11       C  0.12352  0.46893   \n",
       "1   001428_2_42       C  0.02057  0.06234   \n",
       "2   0077_V1_C16       C  1.03134  1.79126   \n",
       "3     00836_2_5       C  0.15389  0.78049   \n",
       "4   0260_V5_C36      A1  0.61196  1.70134   \n",
       "\n",
       "                                            sequence  is_neutralized  \\\n",
       "0  (M, R, V, K, G, -, I, L, R, N, Y, -, Q, Q, W, ...               1   \n",
       "1  (M, R, V, R, G, -, I, L, R, N, Y, -, Q, Q, W, ...               1   \n",
       "2  (M, R, V, M, G, -, S, M, R, N, C, -, Q, R, W, ...               1   \n",
       "3  (M, R, V, R, G, -, I, R, R, N, Y, -, Q, H, W, ...               1   \n",
       "4  (M, R, V, M, G, -, I, Q, R, N, S, -, Q, C, F, ...               1   \n",
       "\n",
       "                                       features_dict  \n",
       "0  {1: u'M', 2: u'R', 3: u'V', 4: u'K', 5: u'G', ...  \n",
       "1  {1: u'M', 2: u'R', 3: u'V', 4: u'R', 5: u'G', ...  \n",
       "2  {1: u'M', 2: u'R', 3: u'V', 4: u'M', 5: u'G', ...  \n",
       "3  {1: u'M', 2: u'R', 3: u'V', 4: u'R', 5: u'G', ...  \n",
       "4  {1: u'M', 2: u'R', 3: u'V', 4: u'M', 5: u'G', ...  "
      ]
     },
     "execution_count": 14,
     "metadata": {},
     "output_type": "execute_result"
    }
   ],
   "source": [
    "neutdf.head()"
   ]
  },
  {
   "cell_type": "code",
   "execution_count": 17,
   "metadata": {
    "collapsed": false
   },
   "outputs": [
    {
     "data": {
      "text/html": [
       "<div>\n",
       "<table border=\"1\" class=\"dataframe\">\n",
       "  <thead>\n",
       "    <tr style=\"text-align: right;\">\n",
       "      <th></th>\n",
       "      <th>1000=F</th>\n",
       "      <th>1000=I</th>\n",
       "      <th>1000=L</th>\n",
       "      <th>1000=Q</th>\n",
       "      <th>1000=V</th>\n",
       "      <th>1001=Q</th>\n",
       "      <th>100=E</th>\n",
       "      <th>101=I</th>\n",
       "      <th>101=K</th>\n",
       "      <th>101=L</th>\n",
       "      <th>...</th>\n",
       "      <th>99=N</th>\n",
       "      <th>99=Q</th>\n",
       "      <th>99=R</th>\n",
       "      <th>99=Y</th>\n",
       "      <th>9=K</th>\n",
       "      <th>9=M</th>\n",
       "      <th>9=N</th>\n",
       "      <th>9=R</th>\n",
       "      <th>9=S</th>\n",
       "      <th>9=T</th>\n",
       "    </tr>\n",
       "  </thead>\n",
       "  <tbody>\n",
       "    <tr>\n",
       "      <th>0</th>\n",
       "      <td>0</td>\n",
       "      <td>0</td>\n",
       "      <td>0</td>\n",
       "      <td>1</td>\n",
       "      <td>0</td>\n",
       "      <td>0</td>\n",
       "      <td>1</td>\n",
       "      <td>0</td>\n",
       "      <td>0</td>\n",
       "      <td>0</td>\n",
       "      <td>...</td>\n",
       "      <td>0</td>\n",
       "      <td>1</td>\n",
       "      <td>0</td>\n",
       "      <td>0</td>\n",
       "      <td>0</td>\n",
       "      <td>0</td>\n",
       "      <td>0</td>\n",
       "      <td>1</td>\n",
       "      <td>0</td>\n",
       "      <td>0</td>\n",
       "    </tr>\n",
       "    <tr>\n",
       "      <th>1</th>\n",
       "      <td>0</td>\n",
       "      <td>0</td>\n",
       "      <td>1</td>\n",
       "      <td>0</td>\n",
       "      <td>0</td>\n",
       "      <td>0</td>\n",
       "      <td>1</td>\n",
       "      <td>0</td>\n",
       "      <td>0</td>\n",
       "      <td>0</td>\n",
       "      <td>...</td>\n",
       "      <td>0</td>\n",
       "      <td>1</td>\n",
       "      <td>0</td>\n",
       "      <td>0</td>\n",
       "      <td>0</td>\n",
       "      <td>0</td>\n",
       "      <td>0</td>\n",
       "      <td>1</td>\n",
       "      <td>0</td>\n",
       "      <td>0</td>\n",
       "    </tr>\n",
       "    <tr>\n",
       "      <th>2</th>\n",
       "      <td>0</td>\n",
       "      <td>0</td>\n",
       "      <td>1</td>\n",
       "      <td>0</td>\n",
       "      <td>0</td>\n",
       "      <td>0</td>\n",
       "      <td>1</td>\n",
       "      <td>0</td>\n",
       "      <td>0</td>\n",
       "      <td>0</td>\n",
       "      <td>...</td>\n",
       "      <td>0</td>\n",
       "      <td>1</td>\n",
       "      <td>0</td>\n",
       "      <td>0</td>\n",
       "      <td>0</td>\n",
       "      <td>0</td>\n",
       "      <td>0</td>\n",
       "      <td>1</td>\n",
       "      <td>0</td>\n",
       "      <td>0</td>\n",
       "    </tr>\n",
       "    <tr>\n",
       "      <th>3</th>\n",
       "      <td>0</td>\n",
       "      <td>0</td>\n",
       "      <td>0</td>\n",
       "      <td>1</td>\n",
       "      <td>0</td>\n",
       "      <td>0</td>\n",
       "      <td>1</td>\n",
       "      <td>1</td>\n",
       "      <td>0</td>\n",
       "      <td>0</td>\n",
       "      <td>...</td>\n",
       "      <td>0</td>\n",
       "      <td>1</td>\n",
       "      <td>0</td>\n",
       "      <td>0</td>\n",
       "      <td>0</td>\n",
       "      <td>0</td>\n",
       "      <td>0</td>\n",
       "      <td>1</td>\n",
       "      <td>0</td>\n",
       "      <td>0</td>\n",
       "    </tr>\n",
       "    <tr>\n",
       "      <th>4</th>\n",
       "      <td>0</td>\n",
       "      <td>0</td>\n",
       "      <td>1</td>\n",
       "      <td>0</td>\n",
       "      <td>0</td>\n",
       "      <td>0</td>\n",
       "      <td>1</td>\n",
       "      <td>0</td>\n",
       "      <td>0</td>\n",
       "      <td>0</td>\n",
       "      <td>...</td>\n",
       "      <td>0</td>\n",
       "      <td>1</td>\n",
       "      <td>0</td>\n",
       "      <td>0</td>\n",
       "      <td>0</td>\n",
       "      <td>0</td>\n",
       "      <td>0</td>\n",
       "      <td>1</td>\n",
       "      <td>0</td>\n",
       "      <td>0</td>\n",
       "    </tr>\n",
       "  </tbody>\n",
       "</table>\n",
       "<p>5 rows × 5920 columns</p>\n",
       "</div>"
      ],
      "text/plain": [
       "   1000=F  1000=I  1000=L  1000=Q  1000=V  1001=Q  100=E  101=I  101=K  101=L  \\\n",
       "0       0       0       0       1       0       0      1      0      0      0   \n",
       "1       0       0       1       0       0       0      1      0      0      0   \n",
       "2       0       0       1       0       0       0      1      0      0      0   \n",
       "3       0       0       0       1       0       0      1      1      0      0   \n",
       "4       0       0       1       0       0       0      1      0      0      0   \n",
       "\n",
       "  ...   99=N  99=Q  99=R  99=Y  9=K  9=M  9=N  9=R  9=S  9=T  \n",
       "0 ...      0     1     0     0    0    0    0    1    0    0  \n",
       "1 ...      0     1     0     0    0    0    0    1    0    0  \n",
       "2 ...      0     1     0     0    0    0    0    1    0    0  \n",
       "3 ...      0     1     0     0    0    0    0    1    0    0  \n",
       "4 ...      0     1     0     0    0    0    0    1    0    0  \n",
       "\n",
       "[5 rows x 5920 columns]"
      ]
     },
     "execution_count": 17,
     "metadata": {},
     "output_type": "execute_result"
    }
   ],
   "source": [
    "# vectorize data and build feature df\n",
    "\n",
    "from sklearn.feature_extraction import DictVectorizer\n",
    "\n",
    "d_vect = DictVectorizer()\n",
    "\n",
    "list_features = list(neutdf.features_dict)\n",
    "sparse_features = d_vect.fit_transform(list_features)\n",
    "name_features = d_vect.get_feature_names()\n",
    "\n",
    "features_df = pd.DataFrame(sparse_features.toarray(), columns=name_features)\n",
    "\n",
    "features_df.head()"
   ]
  },
  {
   "cell_type": "code",
   "execution_count": 18,
   "metadata": {
    "collapsed": false
   },
   "outputs": [
    {
     "data": {
      "text/plain": [
       "561"
      ]
     },
     "execution_count": 18,
     "metadata": {},
     "output_type": "execute_result"
    }
   ],
   "source": [
    "# look up position in HXB2 for it's corresponding coordinate in the MSA\n",
    "\n",
    "reference = sequence_tokenizer(HXB2.seq)\n",
    "decoder = dict(enumerate(reference, start=1))\n",
    "decoder[456]"
   ]
  },
  {
   "cell_type": "code",
   "execution_count": 19,
   "metadata": {
    "collapsed": false
   },
   "outputs": [
    {
     "name": "stdout",
     "output_type": "stream",
     "text": [
      "['561=L', '561=M', '561=N', '561=R', '561=S', '561=V', '561=W', '561=Y']\n"
     ]
    }
   ],
   "source": [
    "# Examine features at positions 665 & 667 (MSA: 789 & 791)\n",
    "\n",
    "epitope_features = [col for col in features_df.columns if '561' in col]\n",
    "print epitope_features"
   ]
  },
  {
   "cell_type": "markdown",
   "metadata": {},
   "source": [
    "# Feature Selection\n",
    "\n",
    "    Trim down feature outliers (highly conserved sequences & single variants)\n",
    "    Other feature selection approaches (mRMR, incorporated methods)"
   ]
  },
  {
   "cell_type": "code",
   "execution_count": 20,
   "metadata": {
    "collapsed": true
   },
   "outputs": [],
   "source": [
    "feature_counts = np.sum(features_df, axis=0)/features_df.shape[0]"
   ]
  },
  {
   "cell_type": "code",
   "execution_count": 21,
   "metadata": {
    "collapsed": false
   },
   "outputs": [
    {
     "data": {
      "text/plain": [
       "<matplotlib.axes._subplots.AxesSubplot at 0x102bf9150>"
      ]
     },
     "execution_count": 21,
     "metadata": {},
     "output_type": "execute_result"
    },
    {
     "data": {
      "image/png": "[encoded data removed]",
      "text/plain": [
       "<matplotlib.figure.Figure at 0x102b8d8d0>"
      ]
     },
     "metadata": {},
     "output_type": "display_data"
    }
   ],
   "source": [
    "import matplotlib as plt\n",
    "% matplotlib inline\n",
    "\n",
    "feature_counts.plot.hist(title='Feature Frequencies', bins=50)"
   ]
  },
  {
   "cell_type": "code",
   "execution_count": 22,
   "metadata": {
    "collapsed": true
   },
   "outputs": [],
   "source": [
    "# define function to drop features that are shared by less than X% of sequences and/or more\n",
    "# than 1-X% of sequences\n",
    "\n",
    "def trim_feature_extremes(dataframe, percent_to_trim):\n",
    "    total_rows = dataframe.shape[0]\n",
    "    upper_threshold = (1 - percent_to_trim) * total_rows\n",
    "    lower_threshold = percent_to_trim * total_rows\n",
    "    column_filter_list = list((dataframe.sum(axis=0) >= lower_threshold) &\n",
    "                                (dataframe.sum(axis=0) < upper_threshold)) \n",
    "                                #True = keep, False = drop\n",
    "    column_filter_dict = zip(list(dataframe.columns), column_filter_list)\n",
    "    columns_to_keep = [column for column, keepornot in column_filter_dict \n",
    "                        if keepornot == True]\n",
    "    output_df = dataframe[columns_to_keep]\n",
    "    return output_df\n",
    " "
   ]
  },
  {
   "cell_type": "code",
   "execution_count": 23,
   "metadata": {
    "collapsed": false
   },
   "outputs": [
    {
     "data": {
      "text/plain": [
       "(359, 1405)"
      ]
     },
     "execution_count": 23,
     "metadata": {},
     "output_type": "execute_result"
    }
   ],
   "source": [
    "trimmed_features_df = trim_feature_extremes(features_df, 0.05)\n",
    "\n",
    "trimmed_features_df.shape"
   ]
  },
  {
   "cell_type": "markdown",
   "metadata": {},
   "source": [
    "# Build Decision Tree Classifier\n",
    "\n",
    "    Use for feature selection\n"
   ]
  },
  {
   "cell_type": "code",
   "execution_count": 24,
   "metadata": {
    "collapsed": false
   },
   "outputs": [],
   "source": [
    "# define X & y as whole feature set without trimming features\n",
    "\n",
    "X = features_df\n",
    "y = neutdf.is_neutralized\n"
   ]
  },
  {
   "cell_type": "code",
   "execution_count": 25,
   "metadata": {
    "collapsed": false
   },
   "outputs": [
    {
     "name": "stdout",
     "output_type": "stream",
     "text": [
      "[0.63928571428571435, 0.60398056923918997, 0.60364668856048165, 0.64534482758620693, 0.63754789272030643, 0.67517651888341546, 0.65565681444991797, 0.65691570881226047, 0.65382868089764634, 0.68040640394088681, 0.65026546250684192, 0.6129406130268199, 0.66783524904214553, 0.6534674329501915, 0.65825670498084299, 0.65798850574712653, 0.68905582922824304, 0.66793103448275859, 0.72298850574712648, 0.65899835796387518, 0.68971264367816087, 0.67281609195402292, 0.69304597701149429, 0.69316912972085398, 0.66710180623973725, 0.67733169129720849, 0.70549261083743853, 0.64614942528735642, 0.65971264367816096, 0.69626436781609202, 0.65888341543513951, 0.66471264367816085, 0.69632183908045975, 0.69298850574712645, 0.70738916256157647, 0.67471264367816108, 0.66793103448275848, 0.66126436781609199, 0.6779310344827586, 0.65804597701149425, 0.68394088669950748, 0.67399835796387531, 0.68143678160919552, 0.68227422003284066, 0.6773316912972086, 0.68465517241379303, 0.65626436781609199, 0.68060755336617396, 0.66965517241379313, 0.69394088669950738, 0.66566502463054189, 0.66221674876847292, 0.65132183908045982, 0.64388341543513961, 0.68304597701149428, 0.70310344827586202, 0.71049261083743842, 0.68132183908045973, 0.65948275862068972, 0.65454022988505756, 0.67238916256157633, 0.66298850574712653, 0.67798850574712632, 0.67298850574712643, 0.64477011494252867, 0.66233169129720859, 0.66882594417077179, 0.68399835796387531, 0.68143678160919541, 0.66459770114942529, 0.66614942528735632, 0.66971264367816086, 0.66620689655172416, 0.68060755336617418, 0.67132183908045984, 0.65298850574712652, 0.67465517241379303, 0.66227422003284075, 0.65632183908045971, 0.70477011494252884, 0.67798850574712632, 0.6645977011494254, 0.70298850574712657, 0.65810344827586209, 0.70227422003284079, 0.66954022988505746, 0.67310344827586222, 0.66637931034482756, 0.67388341543513963, 0.66555008210180633, 0.6747701149425287, 0.66132183908045972, 0.7106075533661742, 0.67298850574712654, 0.65804597701149437, 0.66394088669950746, 0.69233169129720862, 0.67793103448275871, 0.69221674876847294, 0.66060755336617405]\n"
     ]
    }
   ],
   "source": [
    "# calculate best depth using roc_auc score\n",
    "\n",
    "from sklearn.tree import DecisionTreeClassifier\n",
    "\n",
    "max_depth_range = range(1, 101)\n",
    "\n",
    "roc_auc_scores = []\n",
    "\n",
    "from sklearn.cross_validation import cross_val_score\n",
    "for depth in max_depth_range:\n",
    "    treeclass = DecisionTreeClassifier(max_depth=depth)\n",
    "    score = cross_val_score(treeclass, X, y, scoring='roc_auc', cv=10)\n",
    "    roc_auc_scores.append(np.mean(score))\n",
    "    \n",
    "print roc_auc_scores"
   ]
  },
  {
   "cell_type": "code",
   "execution_count": 26,
   "metadata": {
    "collapsed": false
   },
   "outputs": [
    {
     "data": {
      "image/png": "[encoded data removed]",
      "text/plain": [
       "<matplotlib.figure.Figure at 0x102bf90d0>"
      ]
     },
     "metadata": {},
     "output_type": "display_data"
    }
   ],
   "source": [
    "# graph roc_auc_scores vs max depth\n",
    "\n",
    "import matplotlib.pyplot as plt\n",
    "%matplotlib inline\n",
    "\n",
    "plt.plot(max_depth_range, roc_auc_scores)\n",
    "plt.xlabel('max depth')\n",
    "plt.ylabel('roc auc score')\n",
    "\n",
    "plt.rcdefaults()"
   ]
  },
  {
   "cell_type": "code",
   "execution_count": 27,
   "metadata": {
    "collapsed": false
   },
   "outputs": [
    {
     "data": {
      "text/plain": [
       "(0.72298850574712648, 19)"
      ]
     },
     "execution_count": 27,
     "metadata": {},
     "output_type": "execute_result"
    }
   ],
   "source": [
    "sorted(zip(roc_auc_scores, max_depth_range), reverse=True)[0]"
   ]
  },
  {
   "cell_type": "code",
   "execution_count": 28,
   "metadata": {
    "collapsed": false
   },
   "outputs": [
    {
     "data": {
      "text/plain": [
       "DecisionTreeClassifier(class_weight=None, criterion='gini', max_depth=20,\n",
       "            max_features=None, max_leaf_nodes=None, min_samples_leaf=1,\n",
       "            min_samples_split=2, min_weight_fraction_leaf=0.0,\n",
       "            presort=False, random_state=None, splitter='best')"
      ]
     },
     "execution_count": 28,
     "metadata": {},
     "output_type": "execute_result"
    }
   ],
   "source": [
    "# fit tree using max depth of 3\n",
    "\n",
    "treeclass = DecisionTreeClassifier(max_depth=20)\n",
    "treeclass.fit(X, y)"
   ]
  },
  {
   "cell_type": "code",
   "execution_count": 40,
   "metadata": {
    "collapsed": false
   },
   "outputs": [
    {
     "data": {
      "text/html": [
       "<div>\n",
       "<table border=\"1\" class=\"dataframe\">\n",
       "  <thead>\n",
       "    <tr style=\"text-align: right;\">\n",
       "      <th></th>\n",
       "      <th>feature</th>\n",
       "      <th>importance</th>\n",
       "    </tr>\n",
       "  </thead>\n",
       "  <tbody>\n",
       "    <tr>\n",
       "      <th>3652</th>\n",
       "      <td>561=R</td>\n",
       "      <td>0.283252</td>\n",
       "    </tr>\n",
       "    <tr>\n",
       "      <th>3904</th>\n",
       "      <td>592=I</td>\n",
       "      <td>0.083387</td>\n",
       "    </tr>\n",
       "    <tr>\n",
       "      <th>1973</th>\n",
       "      <td>372=S</td>\n",
       "      <td>0.081425</td>\n",
       "    </tr>\n",
       "    <tr>\n",
       "      <th>627</th>\n",
       "      <td>171=A</td>\n",
       "      <td>0.068659</td>\n",
       "    </tr>\n",
       "    <tr>\n",
       "      <th>1012</th>\n",
       "      <td>211=R</td>\n",
       "      <td>0.067711</td>\n",
       "    </tr>\n",
       "    <tr>\n",
       "      <th>4540</th>\n",
       "      <td>755=D</td>\n",
       "      <td>0.047022</td>\n",
       "    </tr>\n",
       "    <tr>\n",
       "      <th>804</th>\n",
       "      <td>187=Y</td>\n",
       "      <td>0.037919</td>\n",
       "    </tr>\n",
       "    <tr>\n",
       "      <th>4076</th>\n",
       "      <td>633=D</td>\n",
       "      <td>0.036646</td>\n",
       "    </tr>\n",
       "    <tr>\n",
       "      <th>2542</th>\n",
       "      <td>43=G</td>\n",
       "      <td>0.036161</td>\n",
       "    </tr>\n",
       "    <tr>\n",
       "      <th>4846</th>\n",
       "      <td>808=F</td>\n",
       "      <td>0.035685</td>\n",
       "    </tr>\n",
       "  </tbody>\n",
       "</table>\n",
       "</div>"
      ],
      "text/plain": [
       "     feature  importance\n",
       "3652   561=R    0.283252\n",
       "3904   592=I    0.083387\n",
       "1973   372=S    0.081425\n",
       "627    171=A    0.068659\n",
       "1012   211=R    0.067711\n",
       "4540   755=D    0.047022\n",
       "804    187=Y    0.037919\n",
       "4076   633=D    0.036646\n",
       "2542    43=G    0.036161\n",
       "4846   808=F    0.035685"
      ]
     },
     "execution_count": 40,
     "metadata": {},
     "output_type": "execute_result"
    }
   ],
   "source": [
    "# get feature importances\n",
    "\n",
    "feat_import = pd.DataFrame({'feature': features_df.columns, 'importance': treeclass.feature_importances_})\n",
    "feat_import.sort_values('importance', ascending=False).head(10)"
   ]
  },
  {
   "cell_type": "code",
   "execution_count": 41,
   "metadata": {
    "collapsed": false
   },
   "outputs": [
    {
     "data": {
      "text/plain": [
       "592"
      ]
     },
     "execution_count": 41,
     "metadata": {},
     "output_type": "execute_result"
    }
   ],
   "source": [
    "# look up position in HXB2 for it's corresponding coordinate in the MSA\n",
    "\n",
    "reference = sequence_tokenizer(HXB2.seq)\n",
    "decoder = dict(enumerate(reference, start=1))\n",
    "decoder[471]"
   ]
  },
  {
   "cell_type": "code",
   "execution_count": 42,
   "metadata": {
    "collapsed": false
   },
   "outputs": [],
   "source": [
    "# look at other feature importances at same sites\n",
    "\n",
    "features_561 = [feat for feat in feat_import.feature if '561' in feat]\n",
    "features_592 = [feat for feat in feat_import.feature if '592' in feat]"
   ]
  },
  {
   "cell_type": "code",
   "execution_count": 43,
   "metadata": {
    "collapsed": false
   },
   "outputs": [
    {
     "data": {
      "text/html": [
       "<div>\n",
       "<table border=\"1\" class=\"dataframe\">\n",
       "  <thead>\n",
       "    <tr style=\"text-align: right;\">\n",
       "      <th>feature</th>\n",
       "      <th>561=L</th>\n",
       "      <th>561=M</th>\n",
       "      <th>561=N</th>\n",
       "      <th>561=R</th>\n",
       "      <th>561=S</th>\n",
       "      <th>561=V</th>\n",
       "      <th>561=W</th>\n",
       "      <th>561=Y</th>\n",
       "    </tr>\n",
       "  </thead>\n",
       "  <tbody>\n",
       "    <tr>\n",
       "      <th>importance</th>\n",
       "      <td>0</td>\n",
       "      <td>0</td>\n",
       "      <td>0</td>\n",
       "      <td>0.283252</td>\n",
       "      <td>0</td>\n",
       "      <td>0</td>\n",
       "      <td>0</td>\n",
       "      <td>0</td>\n",
       "    </tr>\n",
       "  </tbody>\n",
       "</table>\n",
       "</div>"
      ],
      "text/plain": [
       "feature     561=L  561=M  561=N     561=R  561=S  561=V  561=W  561=Y\n",
       "importance      0      0      0  0.283252      0      0      0      0"
      ]
     },
     "execution_count": 43,
     "metadata": {},
     "output_type": "execute_result"
    }
   ],
   "source": [
    "feat_import.set_index('feature', inplace=True)\n",
    "import_feat = feat_import.transpose()\n",
    "import_feat[features_561]"
   ]
  },
  {
   "cell_type": "code",
   "execution_count": 44,
   "metadata": {
    "collapsed": false
   },
   "outputs": [
    {
     "data": {
      "text/html": [
       "<div>\n",
       "<table border=\"1\" class=\"dataframe\">\n",
       "  <thead>\n",
       "    <tr style=\"text-align: right;\">\n",
       "      <th>feature</th>\n",
       "      <th>592=A</th>\n",
       "      <th>592=E</th>\n",
       "      <th>592=G</th>\n",
       "      <th>592=I</th>\n",
       "      <th>592=L</th>\n",
       "      <th>592=Q</th>\n",
       "      <th>592=S</th>\n",
       "      <th>592=T</th>\n",
       "      <th>592=V</th>\n",
       "    </tr>\n",
       "  </thead>\n",
       "  <tbody>\n",
       "    <tr>\n",
       "      <th>importance</th>\n",
       "      <td>0</td>\n",
       "      <td>0</td>\n",
       "      <td>0</td>\n",
       "      <td>0.083387</td>\n",
       "      <td>0</td>\n",
       "      <td>0</td>\n",
       "      <td>0</td>\n",
       "      <td>0</td>\n",
       "      <td>0</td>\n",
       "    </tr>\n",
       "  </tbody>\n",
       "</table>\n",
       "</div>"
      ],
      "text/plain": [
       "feature     592=A  592=E  592=G     592=I  592=L  592=Q  592=S  592=T  592=V\n",
       "importance      0      0      0  0.083387      0      0      0      0      0"
      ]
     },
     "execution_count": 44,
     "metadata": {},
     "output_type": "execute_result"
    }
   ],
   "source": [
    "import_feat[features_592]"
   ]
  },
  {
   "cell_type": "markdown",
   "metadata": {},
   "source": [
    "# Build Random Forest\n",
    "    \n",
    "    Use randomized grid search CV for n_estimators, max_features"
   ]
  },
  {
   "cell_type": "code",
   "execution_count": 45,
   "metadata": {
    "collapsed": true
   },
   "outputs": [],
   "source": [
    "# import random forest classifier & define X & y using trimmed dataframe\n",
    "\n",
    "from sklearn.ensemble import RandomForestClassifier\n",
    "\n",
    "rfclass = RandomForestClassifier()\n",
    "\n",
    "X = trimmed_features_df\n",
    "y = neutdf.is_neutralized"
   ]
  },
  {
   "cell_type": "code",
   "execution_count": 46,
   "metadata": {
    "collapsed": true
   },
   "outputs": [],
   "source": [
    "from sklearn.grid_search import RandomizedSearchCV\n",
    "\n",
    "estimators_range = range(0, 1501, 10)\n",
    "feature_range = range(0, 501)"
   ]
  },
  {
   "cell_type": "code",
   "execution_count": 47,
   "metadata": {
    "collapsed": false
   },
   "outputs": [
    {
     "data": {
      "text/plain": [
       "RandomizedSearchCV(cv=5, error_score='raise',\n",
       "          estimator=RandomForestClassifier(bootstrap=True, class_weight=None, criterion='gini',\n",
       "            max_depth=None, max_features='auto', max_leaf_nodes=None,\n",
       "            min_samples_leaf=1, min_samples_split=2,\n",
       "            min_weight_fraction_leaf=0.0, n_estimators=10, n_jobs=1,\n",
       "            oob_score=False, random_state=None, verbose=0,\n",
       "            warm_start=False),\n",
       "          fit_params={}, iid=True, n_iter=50, n_jobs=1,\n",
       "          param_distributions={'max_features': [0, 1, 2, 3, 4, 5, 6, 7, 8, 9, 10, 11, 12, 13, 14, 15, 16, 17, 18, 19, 20, 21, 22, 23, 24, 25, 26, 27, 28, 29, 30, 31, 32, 33, 34, 35, 36, 37, 38, 39, 40, 41, 42, 43, 44, 45, 46, 47, 48, 49, 50, 51, 52, 53, 54, 55, 56, 57, 58, 59, 60, 61, 62, 63, 64, 65, 66, 67, ...40, 1350, 1360, 1370, 1380, 1390, 1400, 1410, 1420, 1430, 1440, 1450, 1460, 1470, 1480, 1490, 1500]},\n",
       "          pre_dispatch='2*n_jobs', random_state=None, refit=True,\n",
       "          scoring='roc_auc', verbose=0)"
      ]
     },
     "execution_count": 47,
     "metadata": {},
     "output_type": "execute_result"
    }
   ],
   "source": [
    "param_dist = dict(n_estimators=estimators_range, max_features=feature_range)\n",
    "rand = RandomizedSearchCV(rfclass, param_dist, n_iter=50, scoring='roc_auc', cv=5)\n",
    "rand.fit(X, y)"
   ]
  },
  {
   "cell_type": "code",
   "execution_count": 49,
   "metadata": {
    "collapsed": false
   },
   "outputs": [
    {
     "data": {
      "text/html": [
       "<div>\n",
       "<table border=\"1\" class=\"dataframe\">\n",
       "  <thead>\n",
       "    <tr style=\"text-align: right;\">\n",
       "      <th></th>\n",
       "      <th>parameters</th>\n",
       "      <th>mean_validation_score</th>\n",
       "      <th>cv_validation_scores</th>\n",
       "    </tr>\n",
       "  </thead>\n",
       "  <tbody>\n",
       "    <tr>\n",
       "      <th>19</th>\n",
       "      <td>{u'n_estimators': 150, u'max_features': 208}</td>\n",
       "      <td>0.801705</td>\n",
       "      <td>[0.798076923077, 0.794444444444, 0.65625, 0.80...</td>\n",
       "    </tr>\n",
       "    <tr>\n",
       "      <th>0</th>\n",
       "      <td>{u'n_estimators': 160, u'max_features': 52}</td>\n",
       "      <td>0.800049</td>\n",
       "      <td>[0.848717948718, 0.78125, 0.565972222222, 0.81...</td>\n",
       "    </tr>\n",
       "    <tr>\n",
       "      <th>35</th>\n",
       "      <td>{u'n_estimators': 50, u'max_features': 394}</td>\n",
       "      <td>0.793464</td>\n",
       "      <td>[0.75641025641, 0.754861111111, 0.780555555556...</td>\n",
       "    </tr>\n",
       "    <tr>\n",
       "      <th>44</th>\n",
       "      <td>{u'n_estimators': 880, u'max_features': 180}</td>\n",
       "      <td>0.793185</td>\n",
       "      <td>[0.8, 0.774305555556, 0.627777777778, 0.817796...</td>\n",
       "    </tr>\n",
       "    <tr>\n",
       "      <th>45</th>\n",
       "      <td>{u'n_estimators': 270, u'max_features': 236}</td>\n",
       "      <td>0.792950</td>\n",
       "      <td>[0.765384615385, 0.788194444444, 0.68402777777...</td>\n",
       "    </tr>\n",
       "    <tr>\n",
       "      <th>49</th>\n",
       "      <td>{u'n_estimators': 560, u'max_features': 213}</td>\n",
       "      <td>0.791573</td>\n",
       "      <td>[0.814743589744, 0.790277777778, 0.6125, 0.800...</td>\n",
       "    </tr>\n",
       "    <tr>\n",
       "      <th>27</th>\n",
       "      <td>{u'n_estimators': 630, u'max_features': 61}</td>\n",
       "      <td>0.789918</td>\n",
       "      <td>[0.833974358974, 0.792361111111, 0.57361111111...</td>\n",
       "    </tr>\n",
       "    <tr>\n",
       "      <th>26</th>\n",
       "      <td>{u'n_estimators': 1330, u'max_features': 107}</td>\n",
       "      <td>0.788725</td>\n",
       "      <td>[0.789743589744, 0.793055555556, 0.60833333333...</td>\n",
       "    </tr>\n",
       "    <tr>\n",
       "      <th>5</th>\n",
       "      <td>{u'n_estimators': 520, u'max_features': 233}</td>\n",
       "      <td>0.787577</td>\n",
       "      <td>[0.760897435897, 0.786805555556, 0.67013888888...</td>\n",
       "    </tr>\n",
       "    <tr>\n",
       "      <th>40</th>\n",
       "      <td>{u'n_estimators': 1270, u'max_features': 265}</td>\n",
       "      <td>0.787114</td>\n",
       "      <td>[0.765384615385, 0.788888888889, 0.62916666666...</td>\n",
       "    </tr>\n",
       "    <tr>\n",
       "      <th>33</th>\n",
       "      <td>{u'n_estimators': 1030, u'max_features': 211}</td>\n",
       "      <td>0.786213</td>\n",
       "      <td>[0.760897435897, 0.775694444444, 0.62222222222...</td>\n",
       "    </tr>\n",
       "    <tr>\n",
       "      <th>41</th>\n",
       "      <td>{u'n_estimators': 780, u'max_features': 358}</td>\n",
       "      <td>0.785862</td>\n",
       "      <td>[0.765384615385, 0.777777777778, 0.63125, 0.80...</td>\n",
       "    </tr>\n",
       "    <tr>\n",
       "      <th>6</th>\n",
       "      <td>{u'n_estimators': 1240, u'max_features': 65}</td>\n",
       "      <td>0.784635</td>\n",
       "      <td>[0.783974358974, 0.784027777778, 0.58819444444...</td>\n",
       "    </tr>\n",
       "    <tr>\n",
       "      <th>21</th>\n",
       "      <td>{u'n_estimators': 640, u'max_features': 210}</td>\n",
       "      <td>0.784127</td>\n",
       "      <td>[0.769871794872, 0.769444444444, 0.62986111111...</td>\n",
       "    </tr>\n",
       "    <tr>\n",
       "      <th>43</th>\n",
       "      <td>{u'n_estimators': 1490, u'max_features': 23}</td>\n",
       "      <td>0.783779</td>\n",
       "      <td>[0.805769230769, 0.785416666667, 0.55208333333...</td>\n",
       "    </tr>\n",
       "    <tr>\n",
       "      <th>10</th>\n",
       "      <td>{u'n_estimators': 1410, u'max_features': 297}</td>\n",
       "      <td>0.783659</td>\n",
       "      <td>[0.763461538462, 0.782638888889, 0.62083333333...</td>\n",
       "    </tr>\n",
       "    <tr>\n",
       "      <th>32</th>\n",
       "      <td>{u'n_estimators': 1270, u'max_features': 36}</td>\n",
       "      <td>0.782484</td>\n",
       "      <td>[0.808974358974, 0.765277777778, 0.55694444444...</td>\n",
       "    </tr>\n",
       "    <tr>\n",
       "      <th>7</th>\n",
       "      <td>{u'n_estimators': 320, u'max_features': 417}</td>\n",
       "      <td>0.781749</td>\n",
       "      <td>[0.730128205128, 0.784027777778, 0.65486111111...</td>\n",
       "    </tr>\n",
       "    <tr>\n",
       "      <th>29</th>\n",
       "      <td>{u'n_estimators': 1360, u'max_features': 468}</td>\n",
       "      <td>0.781240</td>\n",
       "      <td>[0.785897435897, 0.767361111111, 0.63263888888...</td>\n",
       "    </tr>\n",
       "    <tr>\n",
       "      <th>4</th>\n",
       "      <td>{u'n_estimators': 620, u'max_features': 465}</td>\n",
       "      <td>0.780998</td>\n",
       "      <td>[0.782051282051, 0.776388888889, 0.65555555555...</td>\n",
       "    </tr>\n",
       "    <tr>\n",
       "      <th>37</th>\n",
       "      <td>{u'n_estimators': 200, u'max_features': 284}</td>\n",
       "      <td>0.780608</td>\n",
       "      <td>[0.733333333333, 0.78125, 0.616666666667, 0.81...</td>\n",
       "    </tr>\n",
       "    <tr>\n",
       "      <th>2</th>\n",
       "      <td>{u'n_estimators': 980, u'max_features': 390}</td>\n",
       "      <td>0.780535</td>\n",
       "      <td>[0.746794871795, 0.772222222222, 0.65694444444...</td>\n",
       "    </tr>\n",
       "    <tr>\n",
       "      <th>39</th>\n",
       "      <td>{u'n_estimators': 1190, u'max_features': 341}</td>\n",
       "      <td>0.780479</td>\n",
       "      <td>[0.760897435897, 0.767361111111, 0.64513888888...</td>\n",
       "    </tr>\n",
       "    <tr>\n",
       "      <th>25</th>\n",
       "      <td>{u'n_estimators': 510, u'max_features': 370}</td>\n",
       "      <td>0.779857</td>\n",
       "      <td>[0.746153846154, 0.777777777778, 0.63194444444...</td>\n",
       "    </tr>\n",
       "    <tr>\n",
       "      <th>42</th>\n",
       "      <td>{u'n_estimators': 650, u'max_features': 338}</td>\n",
       "      <td>0.779849</td>\n",
       "      <td>[0.775641025641, 0.781944444444, 0.62361111111...</td>\n",
       "    </tr>\n",
       "    <tr>\n",
       "      <th>23</th>\n",
       "      <td>{u'n_estimators': 1210, u'max_features': 461}</td>\n",
       "      <td>0.779814</td>\n",
       "      <td>[0.76858974359, 0.769444444444, 0.632638888889...</td>\n",
       "    </tr>\n",
       "    <tr>\n",
       "      <th>12</th>\n",
       "      <td>{u'n_estimators': 1210, u'max_features': 424}</td>\n",
       "      <td>0.779544</td>\n",
       "      <td>[0.747435897436, 0.774305555556, 0.66041666666...</td>\n",
       "    </tr>\n",
       "    <tr>\n",
       "      <th>9</th>\n",
       "      <td>{u'n_estimators': 1180, u'max_features': 215}</td>\n",
       "      <td>0.779026</td>\n",
       "      <td>[0.755769230769, 0.781944444444, 0.61458333333...</td>\n",
       "    </tr>\n",
       "    <tr>\n",
       "      <th>13</th>\n",
       "      <td>{u'n_estimators': 1350, u'max_features': 230}</td>\n",
       "      <td>0.779005</td>\n",
       "      <td>[0.767307692308, 0.775, 0.609027777778, 0.8043...</td>\n",
       "    </tr>\n",
       "    <tr>\n",
       "      <th>31</th>\n",
       "      <td>{u'n_estimators': 430, u'max_features': 131}</td>\n",
       "      <td>0.778427</td>\n",
       "      <td>[0.769230769231, 0.8, 0.569444444444, 0.812853...</td>\n",
       "    </tr>\n",
       "    <tr>\n",
       "      <th>38</th>\n",
       "      <td>{u'n_estimators': 710, u'max_features': 35}</td>\n",
       "      <td>0.777839</td>\n",
       "      <td>[0.78141025641, 0.776388888889, 0.577083333333...</td>\n",
       "    </tr>\n",
       "    <tr>\n",
       "      <th>15</th>\n",
       "      <td>{u'n_estimators': 860, u'max_features': 306}</td>\n",
       "      <td>0.777542</td>\n",
       "      <td>[0.760897435897, 0.781944444444, 0.63680555555...</td>\n",
       "    </tr>\n",
       "    <tr>\n",
       "      <th>3</th>\n",
       "      <td>{u'n_estimators': 1490, u'max_features': 297}</td>\n",
       "      <td>0.777525</td>\n",
       "      <td>[0.764102564103, 0.78125, 0.586111111111, 0.81...</td>\n",
       "    </tr>\n",
       "    <tr>\n",
       "      <th>8</th>\n",
       "      <td>{u'n_estimators': 1200, u'max_features': 293}</td>\n",
       "      <td>0.777204</td>\n",
       "      <td>[0.746794871795, 0.779166666667, 0.61180555555...</td>\n",
       "    </tr>\n",
       "    <tr>\n",
       "      <th>28</th>\n",
       "      <td>{u'n_estimators': 860, u'max_features': 426}</td>\n",
       "      <td>0.776459</td>\n",
       "      <td>[0.769230769231, 0.778472222222, 0.61319444444...</td>\n",
       "    </tr>\n",
       "    <tr>\n",
       "      <th>16</th>\n",
       "      <td>{u'n_estimators': 1390, u'max_features': 384}</td>\n",
       "      <td>0.776429</td>\n",
       "      <td>[0.741666666667, 0.779861111111, 0.63263888888...</td>\n",
       "    </tr>\n",
       "    <tr>\n",
       "      <th>1</th>\n",
       "      <td>{u'n_estimators': 960, u'max_features': 318}</td>\n",
       "      <td>0.776395</td>\n",
       "      <td>[0.753846153846, 0.772916666667, 0.63263888888...</td>\n",
       "    </tr>\n",
       "    <tr>\n",
       "      <th>14</th>\n",
       "      <td>{u'n_estimators': 610, u'max_features': 387}</td>\n",
       "      <td>0.775929</td>\n",
       "      <td>[0.717948717949, 0.777083333333, 0.64652777777...</td>\n",
       "    </tr>\n",
       "    <tr>\n",
       "      <th>47</th>\n",
       "      <td>{u'n_estimators': 340, u'max_features': 165}</td>\n",
       "      <td>0.774644</td>\n",
       "      <td>[0.769230769231, 0.764583333333, 0.62430555555...</td>\n",
       "    </tr>\n",
       "    <tr>\n",
       "      <th>18</th>\n",
       "      <td>{u'n_estimators': 760, u'max_features': 168}</td>\n",
       "      <td>0.774179</td>\n",
       "      <td>[0.753205128205, 0.786111111111, 0.60277777777...</td>\n",
       "    </tr>\n",
       "    <tr>\n",
       "      <th>30</th>\n",
       "      <td>{u'n_estimators': 1100, u'max_features': 380}</td>\n",
       "      <td>0.773566</td>\n",
       "      <td>[0.75641025641, 0.770138888889, 0.632638888889...</td>\n",
       "    </tr>\n",
       "    <tr>\n",
       "      <th>24</th>\n",
       "      <td>{u'n_estimators': 1160, u'max_features': 269}</td>\n",
       "      <td>0.772729</td>\n",
       "      <td>[0.747435897436, 0.771527777778, 0.6125, 0.789...</td>\n",
       "    </tr>\n",
       "    <tr>\n",
       "      <th>20</th>\n",
       "      <td>{u'n_estimators': 310, u'max_features': 151}</td>\n",
       "      <td>0.771816</td>\n",
       "      <td>[0.735256410256, 0.780555555556, 0.55625, 0.82...</td>\n",
       "    </tr>\n",
       "    <tr>\n",
       "      <th>34</th>\n",
       "      <td>{u'n_estimators': 120, u'max_features': 296}</td>\n",
       "      <td>0.770119</td>\n",
       "      <td>[0.733333333333, 0.799305555556, 0.62361111111...</td>\n",
       "    </tr>\n",
       "    <tr>\n",
       "      <th>11</th>\n",
       "      <td>{u'n_estimators': 190, u'max_features': 28}</td>\n",
       "      <td>0.768636</td>\n",
       "      <td>[0.723076923077, 0.7875, 0.558333333333, 0.802...</td>\n",
       "    </tr>\n",
       "    <tr>\n",
       "      <th>17</th>\n",
       "      <td>{u'n_estimators': 880, u'max_features': 194}</td>\n",
       "      <td>0.767664</td>\n",
       "      <td>[0.732692307692, 0.770833333333, 0.56458333333...</td>\n",
       "    </tr>\n",
       "    <tr>\n",
       "      <th>46</th>\n",
       "      <td>{u'n_estimators': 710, u'max_features': 301}</td>\n",
       "      <td>0.766770</td>\n",
       "      <td>[0.735256410256, 0.760416666667, 0.60763888888...</td>\n",
       "    </tr>\n",
       "    <tr>\n",
       "      <th>36</th>\n",
       "      <td>{u'n_estimators': 550, u'max_features': 376}</td>\n",
       "      <td>0.766366</td>\n",
       "      <td>[0.733333333333, 0.770833333333, 0.62083333333...</td>\n",
       "    </tr>\n",
       "    <tr>\n",
       "      <th>22</th>\n",
       "      <td>{u'n_estimators': 970, u'max_features': 418}</td>\n",
       "      <td>0.759277</td>\n",
       "      <td>[0.741666666667, 0.780555555556, 0.58333333333...</td>\n",
       "    </tr>\n",
       "    <tr>\n",
       "      <th>48</th>\n",
       "      <td>{u'n_estimators': 20, u'max_features': 267}</td>\n",
       "      <td>0.716016</td>\n",
       "      <td>[0.587179487179, 0.655555555556, 0.66388888888...</td>\n",
       "    </tr>\n",
       "  </tbody>\n",
       "</table>\n",
       "</div>"
      ],
      "text/plain": [
       "                                       parameters  mean_validation_score  \\\n",
       "19   {u'n_estimators': 150, u'max_features': 208}               0.801705   \n",
       "0     {u'n_estimators': 160, u'max_features': 52}               0.800049   \n",
       "35    {u'n_estimators': 50, u'max_features': 394}               0.793464   \n",
       "44   {u'n_estimators': 880, u'max_features': 180}               0.793185   \n",
       "45   {u'n_estimators': 270, u'max_features': 236}               0.792950   \n",
       "49   {u'n_estimators': 560, u'max_features': 213}               0.791573   \n",
       "27    {u'n_estimators': 630, u'max_features': 61}               0.789918   \n",
       "26  {u'n_estimators': 1330, u'max_features': 107}               0.788725   \n",
       "5    {u'n_estimators': 520, u'max_features': 233}               0.787577   \n",
       "40  {u'n_estimators': 1270, u'max_features': 265}               0.787114   \n",
       "33  {u'n_estimators': 1030, u'max_features': 211}               0.786213   \n",
       "41   {u'n_estimators': 780, u'max_features': 358}               0.785862   \n",
       "6    {u'n_estimators': 1240, u'max_features': 65}               0.784635   \n",
       "21   {u'n_estimators': 640, u'max_features': 210}               0.784127   \n",
       "43   {u'n_estimators': 1490, u'max_features': 23}               0.783779   \n",
       "10  {u'n_estimators': 1410, u'max_features': 297}               0.783659   \n",
       "32   {u'n_estimators': 1270, u'max_features': 36}               0.782484   \n",
       "7    {u'n_estimators': 320, u'max_features': 417}               0.781749   \n",
       "29  {u'n_estimators': 1360, u'max_features': 468}               0.781240   \n",
       "4    {u'n_estimators': 620, u'max_features': 465}               0.780998   \n",
       "37   {u'n_estimators': 200, u'max_features': 284}               0.780608   \n",
       "2    {u'n_estimators': 980, u'max_features': 390}               0.780535   \n",
       "39  {u'n_estimators': 1190, u'max_features': 341}               0.780479   \n",
       "25   {u'n_estimators': 510, u'max_features': 370}               0.779857   \n",
       "42   {u'n_estimators': 650, u'max_features': 338}               0.779849   \n",
       "23  {u'n_estimators': 1210, u'max_features': 461}               0.779814   \n",
       "12  {u'n_estimators': 1210, u'max_features': 424}               0.779544   \n",
       "9   {u'n_estimators': 1180, u'max_features': 215}               0.779026   \n",
       "13  {u'n_estimators': 1350, u'max_features': 230}               0.779005   \n",
       "31   {u'n_estimators': 430, u'max_features': 131}               0.778427   \n",
       "38    {u'n_estimators': 710, u'max_features': 35}               0.777839   \n",
       "15   {u'n_estimators': 860, u'max_features': 306}               0.777542   \n",
       "3   {u'n_estimators': 1490, u'max_features': 297}               0.777525   \n",
       "8   {u'n_estimators': 1200, u'max_features': 293}               0.777204   \n",
       "28   {u'n_estimators': 860, u'max_features': 426}               0.776459   \n",
       "16  {u'n_estimators': 1390, u'max_features': 384}               0.776429   \n",
       "1    {u'n_estimators': 960, u'max_features': 318}               0.776395   \n",
       "14   {u'n_estimators': 610, u'max_features': 387}               0.775929   \n",
       "47   {u'n_estimators': 340, u'max_features': 165}               0.774644   \n",
       "18   {u'n_estimators': 760, u'max_features': 168}               0.774179   \n",
       "30  {u'n_estimators': 1100, u'max_features': 380}               0.773566   \n",
       "24  {u'n_estimators': 1160, u'max_features': 269}               0.772729   \n",
       "20   {u'n_estimators': 310, u'max_features': 151}               0.771816   \n",
       "34   {u'n_estimators': 120, u'max_features': 296}               0.770119   \n",
       "11    {u'n_estimators': 190, u'max_features': 28}               0.768636   \n",
       "17   {u'n_estimators': 880, u'max_features': 194}               0.767664   \n",
       "46   {u'n_estimators': 710, u'max_features': 301}               0.766770   \n",
       "36   {u'n_estimators': 550, u'max_features': 376}               0.766366   \n",
       "22   {u'n_estimators': 970, u'max_features': 418}               0.759277   \n",
       "48    {u'n_estimators': 20, u'max_features': 267}               0.716016   \n",
       "\n",
       "                                 cv_validation_scores  \n",
       "19  [0.798076923077, 0.794444444444, 0.65625, 0.80...  \n",
       "0   [0.848717948718, 0.78125, 0.565972222222, 0.81...  \n",
       "35  [0.75641025641, 0.754861111111, 0.780555555556...  \n",
       "44  [0.8, 0.774305555556, 0.627777777778, 0.817796...  \n",
       "45  [0.765384615385, 0.788194444444, 0.68402777777...  \n",
       "49  [0.814743589744, 0.790277777778, 0.6125, 0.800...  \n",
       "27  [0.833974358974, 0.792361111111, 0.57361111111...  \n",
       "26  [0.789743589744, 0.793055555556, 0.60833333333...  \n",
       "5   [0.760897435897, 0.786805555556, 0.67013888888...  \n",
       "40  [0.765384615385, 0.788888888889, 0.62916666666...  \n",
       "33  [0.760897435897, 0.775694444444, 0.62222222222...  \n",
       "41  [0.765384615385, 0.777777777778, 0.63125, 0.80...  \n",
       "6   [0.783974358974, 0.784027777778, 0.58819444444...  \n",
       "21  [0.769871794872, 0.769444444444, 0.62986111111...  \n",
       "43  [0.805769230769, 0.785416666667, 0.55208333333...  \n",
       "10  [0.763461538462, 0.782638888889, 0.62083333333...  \n",
       "32  [0.808974358974, 0.765277777778, 0.55694444444...  \n",
       "7   [0.730128205128, 0.784027777778, 0.65486111111...  \n",
       "29  [0.785897435897, 0.767361111111, 0.63263888888...  \n",
       "4   [0.782051282051, 0.776388888889, 0.65555555555...  \n",
       "37  [0.733333333333, 0.78125, 0.616666666667, 0.81...  \n",
       "2   [0.746794871795, 0.772222222222, 0.65694444444...  \n",
       "39  [0.760897435897, 0.767361111111, 0.64513888888...  \n",
       "25  [0.746153846154, 0.777777777778, 0.63194444444...  \n",
       "42  [0.775641025641, 0.781944444444, 0.62361111111...  \n",
       "23  [0.76858974359, 0.769444444444, 0.632638888889...  \n",
       "12  [0.747435897436, 0.774305555556, 0.66041666666...  \n",
       "9   [0.755769230769, 0.781944444444, 0.61458333333...  \n",
       "13  [0.767307692308, 0.775, 0.609027777778, 0.8043...  \n",
       "31  [0.769230769231, 0.8, 0.569444444444, 0.812853...  \n",
       "38  [0.78141025641, 0.776388888889, 0.577083333333...  \n",
       "15  [0.760897435897, 0.781944444444, 0.63680555555...  \n",
       "3   [0.764102564103, 0.78125, 0.586111111111, 0.81...  \n",
       "8   [0.746794871795, 0.779166666667, 0.61180555555...  \n",
       "28  [0.769230769231, 0.778472222222, 0.61319444444...  \n",
       "16  [0.741666666667, 0.779861111111, 0.63263888888...  \n",
       "1   [0.753846153846, 0.772916666667, 0.63263888888...  \n",
       "14  [0.717948717949, 0.777083333333, 0.64652777777...  \n",
       "47  [0.769230769231, 0.764583333333, 0.62430555555...  \n",
       "18  [0.753205128205, 0.786111111111, 0.60277777777...  \n",
       "30  [0.75641025641, 0.770138888889, 0.632638888889...  \n",
       "24  [0.747435897436, 0.771527777778, 0.6125, 0.789...  \n",
       "20  [0.735256410256, 0.780555555556, 0.55625, 0.82...  \n",
       "34  [0.733333333333, 0.799305555556, 0.62361111111...  \n",
       "11  [0.723076923077, 0.7875, 0.558333333333, 0.802...  \n",
       "17  [0.732692307692, 0.770833333333, 0.56458333333...  \n",
       "46  [0.735256410256, 0.760416666667, 0.60763888888...  \n",
       "36  [0.733333333333, 0.770833333333, 0.62083333333...  \n",
       "22  [0.741666666667, 0.780555555556, 0.58333333333...  \n",
       "48  [0.587179487179, 0.655555555556, 0.66388888888...  "
      ]
     },
     "execution_count": 49,
     "metadata": {},
     "output_type": "execute_result"
    }
   ],
   "source": [
    "grid = pd.DataFrame(rand.grid_scores_).sort_values('mean_validation_score', ascending=False)\n",
    "grid.head(50)"
   ]
  },
  {
   "cell_type": "code",
   "execution_count": 50,
   "metadata": {
    "collapsed": false
   },
   "outputs": [
    {
     "name": "stdout",
     "output_type": "stream",
     "text": [
      "0.801704781378\n",
      "{'n_estimators': 150, 'max_features': 208}\n"
     ]
    }
   ],
   "source": [
    "# look at best parameters\n",
    "\n",
    "print rand.best_score_\n",
    "print rand.best_params_"
   ]
  },
  {
   "cell_type": "code",
   "execution_count": 51,
   "metadata": {
    "collapsed": false
   },
   "outputs": [
    {
     "data": {
      "text/plain": [
       "RandomForestClassifier(bootstrap=True, class_weight=None, criterion='gini',\n",
       "            max_depth=None, max_features=200, max_leaf_nodes=None,\n",
       "            min_samples_leaf=1, min_samples_split=2,\n",
       "            min_weight_fraction_leaf=0.0, n_estimators=150, n_jobs=1,\n",
       "            oob_score=True, random_state=None, verbose=0, warm_start=False)"
      ]
     },
     "execution_count": 51,
     "metadata": {},
     "output_type": "execute_result"
    }
   ],
   "source": [
    "# fit random forest with best parameters\n",
    "\n",
    "rfclass = RandomForestClassifier(n_estimators=150, max_features=200, oob_score=True)\n",
    "rfclass.fit(X, y)\n"
   ]
  },
  {
   "cell_type": "code",
   "execution_count": 52,
   "metadata": {
    "collapsed": false
   },
   "outputs": [
    {
     "data": {
      "text/html": [
       "<div>\n",
       "<table border=\"1\" class=\"dataframe\">\n",
       "  <thead>\n",
       "    <tr style=\"text-align: right;\">\n",
       "      <th></th>\n",
       "      <th>feature</th>\n",
       "      <th>importance</th>\n",
       "    </tr>\n",
       "  </thead>\n",
       "  <tbody>\n",
       "    <tr>\n",
       "      <th>828</th>\n",
       "      <td>561=R</td>\n",
       "      <td>0.050728</td>\n",
       "    </tr>\n",
       "    <tr>\n",
       "      <th>829</th>\n",
       "      <td>564=G</td>\n",
       "      <td>0.047863</td>\n",
       "    </tr>\n",
       "    <tr>\n",
       "      <th>868</th>\n",
       "      <td>587=E</td>\n",
       "      <td>0.032295</td>\n",
       "    </tr>\n",
       "    <tr>\n",
       "      <th>413</th>\n",
       "      <td>359=N</td>\n",
       "      <td>0.016520</td>\n",
       "    </tr>\n",
       "    <tr>\n",
       "      <th>969</th>\n",
       "      <td>717=Q</td>\n",
       "      <td>0.012739</td>\n",
       "    </tr>\n",
       "    <tr>\n",
       "      <th>572</th>\n",
       "      <td>436=R</td>\n",
       "      <td>0.010606</td>\n",
       "    </tr>\n",
       "    <tr>\n",
       "      <th>248</th>\n",
       "      <td>222=L</td>\n",
       "      <td>0.010562</td>\n",
       "    </tr>\n",
       "    <tr>\n",
       "      <th>620</th>\n",
       "      <td>462=H</td>\n",
       "      <td>0.009628</td>\n",
       "    </tr>\n",
       "    <tr>\n",
       "      <th>1157</th>\n",
       "      <td>858=S</td>\n",
       "      <td>0.008681</td>\n",
       "    </tr>\n",
       "    <tr>\n",
       "      <th>1032</th>\n",
       "      <td>774=T</td>\n",
       "      <td>0.008164</td>\n",
       "    </tr>\n",
       "  </tbody>\n",
       "</table>\n",
       "</div>"
      ],
      "text/plain": [
       "     feature  importance\n",
       "828    561=R    0.050728\n",
       "829    564=G    0.047863\n",
       "868    587=E    0.032295\n",
       "413    359=N    0.016520\n",
       "969    717=Q    0.012739\n",
       "572    436=R    0.010606\n",
       "248    222=L    0.010562\n",
       "620    462=H    0.009628\n",
       "1157   858=S    0.008681\n",
       "1032   774=T    0.008164"
      ]
     },
     "execution_count": 52,
     "metadata": {},
     "output_type": "execute_result"
    }
   ],
   "source": [
    "# look at feature importances\n",
    "\n",
    "forest_features_import = pd.DataFrame({'feature': X.columns, 'importance': rfclass.feature_importances_})\n",
    "forest_features_import.sort_values('importance', ascending=False).head(10)"
   ]
  },
  {
   "cell_type": "code",
   "execution_count": 67,
   "metadata": {
    "collapsed": false
   },
   "outputs": [
    {
     "data": {
      "text/plain": [
       "359"
      ]
     },
     "execution_count": 67,
     "metadata": {},
     "output_type": "execute_result"
    }
   ],
   "source": [
    "# look up position in HXB2 for it's corresponding coordinate in the MSA\n",
    "\n",
    "reference = sequence_tokenizer(HXB2.seq)\n",
    "decoder = dict(enumerate(reference, start=1))\n",
    "decoder[280]"
   ]
  },
  {
   "cell_type": "code",
   "execution_count": 64,
   "metadata": {
    "collapsed": false
   },
   "outputs": [
    {
     "data": {
      "text/plain": [
       "0.83561643835616439"
      ]
     },
     "execution_count": 64,
     "metadata": {},
     "output_type": "execute_result"
    }
   ],
   "source": [
    "# oob score\n",
    "\n",
    "rfclass.oob_score_"
   ]
  },
  {
   "cell_type": "markdown",
   "metadata": {
    "collapsed": true
   },
   "source": [
    "# Fit Logistic Regression with best features\n",
    "\n",
    "    Evaluate with different iterations of selected features\n",
    "    "
   ]
  },
  {
   "cell_type": "code",
   "execution_count": 53,
   "metadata": {
    "collapsed": false
   },
   "outputs": [],
   "source": [
    "# define new df with selected features & perform train/test split\n",
    "\n",
    "selected_features = ['561=R', '564=G', '587=E', '359=N', '717=Q', '436=R', '222=L', '462=H']\n",
    "X = features_df[selected_features]\n",
    "y = neutdf.is_neutralized\n",
    "\n",
    "from sklearn.cross_validation import train_test_split\n",
    "\n",
    "X_train, X_test, y_train, y_test = train_test_split(X, y, stratify=y, \n",
    "                                                    test_size=0.3)"
   ]
  },
  {
   "cell_type": "code",
   "execution_count": 54,
   "metadata": {
    "collapsed": false
   },
   "outputs": [
    {
     "data": {
      "text/plain": [
       "LogisticRegression(C=1000000000.0, class_weight=None, dual=False,\n",
       "          fit_intercept=True, intercept_scaling=1, max_iter=100,\n",
       "          multi_class='ovr', n_jobs=1, penalty='l2', random_state=None,\n",
       "          solver='liblinear', tol=0.0001, verbose=0, warm_start=False)"
      ]
     },
     "execution_count": 54,
     "metadata": {},
     "output_type": "execute_result"
    }
   ],
   "source": [
    "# fit logistic regression\n",
    "\n",
    "from sklearn.linear_model import LogisticRegression\n",
    "logreg = LogisticRegression(C=1e9)\n",
    "logreg.fit(X_train, y_train)"
   ]
  },
  {
   "cell_type": "code",
   "execution_count": 55,
   "metadata": {
    "collapsed": false
   },
   "outputs": [
    {
     "name": "stdout",
     "output_type": "stream",
     "text": [
      "[[ 3.09087358  3.39156162  1.22495903  2.24117383 -1.55514653 -0.32399965\n",
      "   1.63906945 -2.64579423]]\n"
     ]
    }
   ],
   "source": [
    "# look at coefficients\n",
    "\n",
    "print logreg.coef_"
   ]
  },
  {
   "cell_type": "code",
   "execution_count": 56,
   "metadata": {
    "collapsed": false
   },
   "outputs": [
    {
     "name": "stdout",
     "output_type": "stream",
     "text": [
      "0.337389282823\n"
     ]
    }
   ],
   "source": [
    "# evaluate log loss\n",
    "\n",
    "from sklearn import metrics\n",
    "\n",
    "y_pred_proba = logreg.predict_proba(X_test)\n",
    "print metrics.log_loss(y_test, y_pred_proba)"
   ]
  },
  {
   "cell_type": "code",
   "execution_count": 57,
   "metadata": {
    "collapsed": false
   },
   "outputs": [
    {
     "name": "stdout",
     "output_type": "stream",
     "text": [
      "0.632455532034\n"
     ]
    }
   ],
   "source": [
    "# evaluate MCC\n",
    "\n",
    "y_pred_class = logreg.predict(X_test)\n",
    "print metrics.matthews_corrcoef(y_test, y_pred_class)"
   ]
  },
  {
   "cell_type": "code",
   "execution_count": 58,
   "metadata": {
    "collapsed": false
   },
   "outputs": [],
   "source": [
    "# do above with different feature combinations\n",
    "\n",
    "feature_selections = [['561=R', '564=G', '587=E', '359=N', '717=Q', '436=R', '222=L', '462=H'], \n",
    "                      ['561=R', '564=G', '587=E', '359=N', '717=Q', '436=R', '222=L'], \n",
    "                      ['561=R', '564=G', '587=E', '359=N', '717=Q', '436=R'], \n",
    "                      ['561=R', '564=G', '587=E', '359=N', '717=Q'], ['561=R', '564=G', '587=E', '359=N'], \n",
    "                      ['561=R', '564=G', '587=E'], ['561=R', '564=G'], ['561=R']]\n",
    "\n",
    "log_loss_scores = []\n",
    "MCC_scores = []\n",
    "\n",
    "for selection in feature_selections:\n",
    "    X = features_df[selection]\n",
    "    y = neutdf.is_neutralized\n",
    "    X_train, X_test, y_train, y_test = train_test_split(X, y, stratify=y, \n",
    "                                                    test_size=0.3)\n",
    "    logreg = LogisticRegression(C=1e9)\n",
    "    logreg.fit(X_train, y_train)\n",
    "    y_pred_proba = logreg.predict_proba(X_test)\n",
    "    log_loss = metrics.log_loss(y_test, y_pred_proba)\n",
    "    y_pred_class = logreg.predict(X_test)\n",
    "    MCC = metrics.matthews_corrcoef(y_test, y_pred_class)\n",
    "    log_loss_scores.append(log_loss)\n",
    "    MCC_scores.append(MCC)"
   ]
  },
  {
   "cell_type": "code",
   "execution_count": 59,
   "metadata": {
    "collapsed": false
   },
   "outputs": [
    {
     "data": {
      "text/html": [
       "<div>\n",
       "<table border=\"1\" class=\"dataframe\">\n",
       "  <thead>\n",
       "    <tr style=\"text-align: right;\">\n",
       "      <th></th>\n",
       "      <th>MCC</th>\n",
       "      <th>features</th>\n",
       "      <th>log loss</th>\n",
       "    </tr>\n",
       "  </thead>\n",
       "  <tbody>\n",
       "    <tr>\n",
       "      <th>0</th>\n",
       "      <td>0.670855</td>\n",
       "      <td>[561=R, 564=G, 587=E, 359=N, 717=Q, 436=R, 222...</td>\n",
       "      <td>0.265706</td>\n",
       "    </tr>\n",
       "    <tr>\n",
       "      <th>7</th>\n",
       "      <td>0.588672</td>\n",
       "      <td>[561=R]</td>\n",
       "      <td>0.335701</td>\n",
       "    </tr>\n",
       "    <tr>\n",
       "      <th>3</th>\n",
       "      <td>0.584307</td>\n",
       "      <td>[561=R, 564=G, 587=E, 359=N, 717=Q]</td>\n",
       "      <td>0.329674</td>\n",
       "    </tr>\n",
       "    <tr>\n",
       "      <th>6</th>\n",
       "      <td>0.553399</td>\n",
       "      <td>[561=R, 564=G]</td>\n",
       "      <td>0.326327</td>\n",
       "    </tr>\n",
       "    <tr>\n",
       "      <th>1</th>\n",
       "      <td>0.542857</td>\n",
       "      <td>[561=R, 564=G, 587=E, 359=N, 717=Q, 436=R, 222=L]</td>\n",
       "      <td>0.336885</td>\n",
       "    </tr>\n",
       "    <tr>\n",
       "      <th>4</th>\n",
       "      <td>0.506564</td>\n",
       "      <td>[561=R, 564=G, 587=E, 359=N]</td>\n",
       "      <td>0.304261</td>\n",
       "    </tr>\n",
       "    <tr>\n",
       "      <th>5</th>\n",
       "      <td>0.457143</td>\n",
       "      <td>[561=R, 564=G, 587=E]</td>\n",
       "      <td>0.343071</td>\n",
       "    </tr>\n",
       "    <tr>\n",
       "      <th>2</th>\n",
       "      <td>0.442719</td>\n",
       "      <td>[561=R, 564=G, 587=E, 359=N, 717=Q, 436=R]</td>\n",
       "      <td>0.482627</td>\n",
       "    </tr>\n",
       "  </tbody>\n",
       "</table>\n",
       "</div>"
      ],
      "text/plain": [
       "        MCC                                           features  log loss\n",
       "0  0.670855  [561=R, 564=G, 587=E, 359=N, 717=Q, 436=R, 222...  0.265706\n",
       "7  0.588672                                            [561=R]  0.335701\n",
       "3  0.584307                [561=R, 564=G, 587=E, 359=N, 717=Q]  0.329674\n",
       "6  0.553399                                     [561=R, 564=G]  0.326327\n",
       "1  0.542857  [561=R, 564=G, 587=E, 359=N, 717=Q, 436=R, 222=L]  0.336885\n",
       "4  0.506564                       [561=R, 564=G, 587=E, 359=N]  0.304261\n",
       "5  0.457143                              [561=R, 564=G, 587=E]  0.343071\n",
       "2  0.442719         [561=R, 564=G, 587=E, 359=N, 717=Q, 436=R]  0.482627"
      ]
     },
     "execution_count": 59,
     "metadata": {},
     "output_type": "execute_result"
    }
   ],
   "source": [
    "# make a dataframe of the above\n",
    "\n",
    "log_reg_eval = pd.DataFrame({'features': feature_selections, 'log loss': log_loss_scores, 'MCC': MCC_scores})\n",
    "log_reg_eval.sort_values('MCC', ascending=False)"
   ]
  },
  {
   "cell_type": "code",
   "execution_count": null,
   "metadata": {
    "collapsed": true
   },
   "outputs": [],
   "source": []
  }
 ],
 "metadata": {
  "kernelspec": {
   "display_name": "Python 2",
   "language": "python",
   "name": "python2"
  },
  "language_info": {
   "codemirror_mode": {
    "name": "ipython",
    "version": 2
   },
   "file_extension": ".py",
   "mimetype": "text/x-python",
   "name": "python",
   "nbconvert_exporter": "python",
   "pygments_lexer": "ipython2",
   "version": "2.7.11"
  }
 },
 "nbformat": 4,
 "nbformat_minor": 0
}
