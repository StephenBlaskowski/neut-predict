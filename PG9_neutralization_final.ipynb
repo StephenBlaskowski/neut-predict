{
 "cells": [
  {
   "cell_type": "code",
   "execution_count": 1,
   "metadata": {
    "collapsed": true
   },
   "outputs": [],
   "source": [
    "import pandas as pd\n",
    "import numpy as np\n",
    "from Bio import SeqIO\n",
    "from Bio.Alphabet import generic_protein\n",
    "import re"
   ]
  },
  {
   "cell_type": "code",
   "execution_count": 2,
   "metadata": {
    "collapsed": true
   },
   "outputs": [],
   "source": [
    "# read in neut data\n",
    "\n",
    "neut_file_path = '../data/PG9_IC50_IC80.txt'\n",
    "\n",
    "neuts = pd.read_table(neut_file_path, header=0)\n",
    "neuts.rename(columns={'Virus name':'name', \n",
    "              'Subtype':'subtype',\n",
    "              'PG9: IC50 geometric mean':'IC50',\n",
    "              'PG9: IC80 geometric mean':'IC80'}, inplace=True)\n",
    "# neuts.set_index('name', inplace=True)\n",
    "neuts.drop(['Tier', 'Country', 'Accession', 'Alias', 'Seq data', \n",
    "            ' PG9: IC50 by study', ' PG9: IC80 by study', 'Unnamed: 11'], \n",
    "            axis=1, inplace=True)\n",
    "neuts = neuts[neuts.name != 'Geometric mean of detected']\n",
    "neuts = neuts[neuts.name != 'Geometric mean of all(undetected set to 100)'] \n",
    "neuts = neuts[neuts.name != '% detected (detected/total)'] "
   ]
  },
  {
   "cell_type": "code",
   "execution_count": 3,
   "metadata": {
    "collapsed": false
   },
   "outputs": [],
   "source": [
    "# read in sequence data\n",
    "\n",
    "virus_name = []\n",
    "virus_seq = []\n",
    "passed_seqs = []\n",
    "\n",
    "fasta_file_path = '../data/PG9 virus aa align.fasta'\n",
    "\n",
    "for seq_record in SeqIO.parse(fasta_file_path, 'fasta', \n",
    "                              alphabet=generic_protein):\n",
    "    try:\n",
    "        virus_name.append(seq_record.id.split('.')[2])\n",
    "        virus_seq.append(seq_record.seq)\n",
    "    except:\n",
    "        passed_seqs.append(seq_record)\n",
    "\n",
    "HXB2 = passed_seqs[0]"
   ]
  },
  {
   "cell_type": "code",
   "execution_count": 4,
   "metadata": {
    "collapsed": true
   },
   "outputs": [],
   "source": [
    "# convert sequence data to DataFrame\n",
    "\n",
    "seq_dict = {'sequence' : pd.Series(virus_seq, index=virus_name, \n",
    "                                   dtype='object')}\n",
    "seq_df = pd.DataFrame(seq_dict)"
   ]
  },
  {
   "cell_type": "code",
   "execution_count": 5,
   "metadata": {
    "collapsed": true
   },
   "outputs": [],
   "source": [
    "# merge neuts and seq_df\n",
    "\n",
    "neutdf = pd.merge(neuts, seq_df, how='inner', left_on='name', \n",
    "                    right_index=True)"
   ]
  },
  {
   "cell_type": "code",
   "execution_count": 6,
   "metadata": {
    "collapsed": true
   },
   "outputs": [],
   "source": [
    "# define neut categories\n",
    "\n",
    "def binarize_IC50(row):\n",
    "    if '>' in row.IC50:\n",
    "        return 0\n",
    "    else:\n",
    "        value = float(row.IC50)\n",
    "        return 0 if value > 50 else 1\n",
    "\n",
    "neutdf['is_neutralized'] = neutdf.apply(binarize_IC50, axis=1)\n"
   ]
  },
  {
   "cell_type": "code",
   "execution_count": 7,
   "metadata": {
    "collapsed": false
   },
   "outputs": [
    {
     "data": {
      "text/html": [
       "<div>\n",
       "<table border=\"1\" class=\"dataframe\">\n",
       "  <thead>\n",
       "    <tr style=\"text-align: right;\">\n",
       "      <th></th>\n",
       "      <th>name</th>\n",
       "      <th>subtype</th>\n",
       "      <th>IC50</th>\n",
       "      <th>IC80</th>\n",
       "      <th>sequence</th>\n",
       "      <th>is_neutralized</th>\n",
       "    </tr>\n",
       "  </thead>\n",
       "  <tbody>\n",
       "    <tr>\n",
       "      <th>0</th>\n",
       "      <td>0013095_2_11</td>\n",
       "      <td>C</td>\n",
       "      <td>0.01889</td>\n",
       "      <td>0.06536</td>\n",
       "      <td>(M, R, V, K, G, -, I, L, R, N, Y, Q, Q, W, W, ...</td>\n",
       "      <td>1</td>\n",
       "    </tr>\n",
       "    <tr>\n",
       "      <th>1</th>\n",
       "      <td>001428_2_42</td>\n",
       "      <td>C</td>\n",
       "      <td>0.01105</td>\n",
       "      <td>0.01686</td>\n",
       "      <td>(M, R, V, R, G, -, I, L, R, N, Y, Q, Q, W, W, ...</td>\n",
       "      <td>1</td>\n",
       "    </tr>\n",
       "    <tr>\n",
       "      <th>2</th>\n",
       "      <td>0077_V1_C16</td>\n",
       "      <td>C</td>\n",
       "      <td>0.08934</td>\n",
       "      <td>0.34275</td>\n",
       "      <td>(M, R, V, M, G, -, S, M, R, N, C, Q, R, W, W, ...</td>\n",
       "      <td>1</td>\n",
       "    </tr>\n",
       "    <tr>\n",
       "      <th>3</th>\n",
       "      <td>00836_2_5</td>\n",
       "      <td>C</td>\n",
       "      <td>49.00000</td>\n",
       "      <td>UD:&gt;50</td>\n",
       "      <td>(M, R, V, R, G, -, I, R, R, N, Y, Q, H, W, W, ...</td>\n",
       "      <td>1</td>\n",
       "    </tr>\n",
       "    <tr>\n",
       "      <th>4</th>\n",
       "      <td>0260_V5_C36</td>\n",
       "      <td>A1</td>\n",
       "      <td>1.98621</td>\n",
       "      <td>17.35454</td>\n",
       "      <td>(M, R, V, M, G, -, I, Q, R, N, S, Q, C, F, L, ...</td>\n",
       "      <td>1</td>\n",
       "    </tr>\n",
       "  </tbody>\n",
       "</table>\n",
       "</div>"
      ],
      "text/plain": [
       "           name subtype      IC50      IC80  \\\n",
       "0  0013095_2_11       C   0.01889   0.06536   \n",
       "1   001428_2_42       C   0.01105   0.01686   \n",
       "2   0077_V1_C16       C   0.08934   0.34275   \n",
       "3     00836_2_5       C  49.00000    UD:>50   \n",
       "4   0260_V5_C36      A1   1.98621  17.35454   \n",
       "\n",
       "                                            sequence  is_neutralized  \n",
       "0  (M, R, V, K, G, -, I, L, R, N, Y, Q, Q, W, W, ...               1  \n",
       "1  (M, R, V, R, G, -, I, L, R, N, Y, Q, Q, W, W, ...               1  \n",
       "2  (M, R, V, M, G, -, S, M, R, N, C, Q, R, W, W, ...               1  \n",
       "3  (M, R, V, R, G, -, I, R, R, N, Y, Q, H, W, W, ...               1  \n",
       "4  (M, R, V, M, G, -, I, Q, R, N, S, Q, C, F, L, ...               1  "
      ]
     },
     "execution_count": 7,
     "metadata": {},
     "output_type": "execute_result"
    }
   ],
   "source": [
    "neutdf.head()"
   ]
  },
  {
   "cell_type": "markdown",
   "metadata": {},
   "source": [
    "# Feature Extraction\n",
    "\n",
    "    Tokenize sequences w/ position value and amino acid identity\n",
    "    Tokenize PNGS sites with a regex\n",
    "    Vectorize tokens and create dataframe of dummy variables\n",
    "    "
   ]
  },
  {
   "cell_type": "code",
   "execution_count": 8,
   "metadata": {
    "collapsed": true
   },
   "outputs": [],
   "source": [
    "# define function to tokenize sequence\n",
    "# input = sequence object, output = dictionary where index is position and\n",
    "# token is amino acid identity at that position\n",
    "\n",
    "amino_acids = ['A', 'R', 'N', 'D', 'C', 'Q', 'E', 'G', 'H', 'I', \n",
    "               'L', 'K', 'M', 'F', 'P', 'S', 'T', 'W', 'Y', 'V']\n",
    "\n",
    "def sequence_tokenizer(seq):\n",
    "    \"\"\"\n",
    "    \n",
    "    \"\"\"\n",
    "    seq_list = list(str(seq).strip('*'))\n",
    "    working_peptide = list(enumerate(seq_list, start=1))\n",
    "    peptide_dict = {}\n",
    "    for index, amino in working_peptide:\n",
    "        if amino in amino_acids:\n",
    "            peptide_dict.update({index : amino})\n",
    "        else: \n",
    "            pass\n",
    "    return peptide_dict\n"
   ]
  },
  {
   "cell_type": "code",
   "execution_count": 9,
   "metadata": {
    "collapsed": true
   },
   "outputs": [],
   "source": [
    "# define function to tokenize potential N-linked glycosylation sites \n",
    "# (PNGS) in sequence\n",
    "# input = sequence object, output = dictionary where index is position\n",
    "# and token = 'PNGS'\n",
    "\n",
    "def PNGS_tokenizer(seq):\n",
    "    seq_string = str(seq).strip('*')\n",
    "    PNGS_dict = {m.start(0)+1 : 'PNGS' \n",
    "                for m in re.finditer(r\"N[^P][ST]\", seq_string)}\n",
    "    return PNGS_dict\n"
   ]
  },
  {
   "cell_type": "code",
   "execution_count": 10,
   "metadata": {
    "collapsed": true
   },
   "outputs": [],
   "source": [
    "# define feature extraction function where input = seq object and \n",
    "# output = one dictionary of all features\n",
    "\n",
    "def get_features(seq, use_positions=True, use_PNGS=True):\n",
    "    features = {}\n",
    "    if use_positions:\n",
    "        sequence_features = sequence_tokenizer(seq)\n",
    "        features.update(sequence_features)\n",
    "    if use_PNGS:\n",
    "        PNGS_features = PNGS_tokenizer(seq)\n",
    "        features.update(PNGS_features)\n",
    "    return features\n"
   ]
  },
  {
   "cell_type": "code",
   "execution_count": 11,
   "metadata": {
    "collapsed": true
   },
   "outputs": [],
   "source": [
    "# map get_features function to sequence column of neutdf\n",
    "\n",
    "neutdf['features_dict'] = neutdf.sequence.map(get_features)\n"
   ]
  },
  {
   "cell_type": "code",
   "execution_count": 12,
   "metadata": {
    "collapsed": false
   },
   "outputs": [
    {
     "data": {
      "text/html": [
       "<div>\n",
       "<table border=\"1\" class=\"dataframe\">\n",
       "  <thead>\n",
       "    <tr style=\"text-align: right;\">\n",
       "      <th></th>\n",
       "      <th>name</th>\n",
       "      <th>subtype</th>\n",
       "      <th>IC50</th>\n",
       "      <th>IC80</th>\n",
       "      <th>sequence</th>\n",
       "      <th>is_neutralized</th>\n",
       "      <th>features_dict</th>\n",
       "    </tr>\n",
       "  </thead>\n",
       "  <tbody>\n",
       "    <tr>\n",
       "      <th>0</th>\n",
       "      <td>0013095_2_11</td>\n",
       "      <td>C</td>\n",
       "      <td>0.01889</td>\n",
       "      <td>0.06536</td>\n",
       "      <td>(M, R, V, K, G, -, I, L, R, N, Y, Q, Q, W, W, ...</td>\n",
       "      <td>1</td>\n",
       "      <td>{1: u'M', 2: u'R', 3: u'V', 4: u'K', 5: u'G', ...</td>\n",
       "    </tr>\n",
       "    <tr>\n",
       "      <th>1</th>\n",
       "      <td>001428_2_42</td>\n",
       "      <td>C</td>\n",
       "      <td>0.01105</td>\n",
       "      <td>0.01686</td>\n",
       "      <td>(M, R, V, R, G, -, I, L, R, N, Y, Q, Q, W, W, ...</td>\n",
       "      <td>1</td>\n",
       "      <td>{1: u'M', 2: u'R', 3: u'V', 4: u'R', 5: u'G', ...</td>\n",
       "    </tr>\n",
       "    <tr>\n",
       "      <th>2</th>\n",
       "      <td>0077_V1_C16</td>\n",
       "      <td>C</td>\n",
       "      <td>0.08934</td>\n",
       "      <td>0.34275</td>\n",
       "      <td>(M, R, V, M, G, -, S, M, R, N, C, Q, R, W, W, ...</td>\n",
       "      <td>1</td>\n",
       "      <td>{1: u'M', 2: u'R', 3: u'V', 4: u'M', 5: u'G', ...</td>\n",
       "    </tr>\n",
       "    <tr>\n",
       "      <th>3</th>\n",
       "      <td>00836_2_5</td>\n",
       "      <td>C</td>\n",
       "      <td>49.00000</td>\n",
       "      <td>UD:&gt;50</td>\n",
       "      <td>(M, R, V, R, G, -, I, R, R, N, Y, Q, H, W, W, ...</td>\n",
       "      <td>1</td>\n",
       "      <td>{1: u'M', 2: u'R', 3: u'V', 4: u'R', 5: u'G', ...</td>\n",
       "    </tr>\n",
       "    <tr>\n",
       "      <th>4</th>\n",
       "      <td>0260_V5_C36</td>\n",
       "      <td>A1</td>\n",
       "      <td>1.98621</td>\n",
       "      <td>17.35454</td>\n",
       "      <td>(M, R, V, M, G, -, I, Q, R, N, S, Q, C, F, L, ...</td>\n",
       "      <td>1</td>\n",
       "      <td>{1: u'M', 2: u'R', 3: u'V', 4: u'M', 5: u'G', ...</td>\n",
       "    </tr>\n",
       "  </tbody>\n",
       "</table>\n",
       "</div>"
      ],
      "text/plain": [
       "           name subtype      IC50      IC80  \\\n",
       "0  0013095_2_11       C   0.01889   0.06536   \n",
       "1   001428_2_42       C   0.01105   0.01686   \n",
       "2   0077_V1_C16       C   0.08934   0.34275   \n",
       "3     00836_2_5       C  49.00000    UD:>50   \n",
       "4   0260_V5_C36      A1   1.98621  17.35454   \n",
       "\n",
       "                                            sequence  is_neutralized  \\\n",
       "0  (M, R, V, K, G, -, I, L, R, N, Y, Q, Q, W, W, ...               1   \n",
       "1  (M, R, V, R, G, -, I, L, R, N, Y, Q, Q, W, W, ...               1   \n",
       "2  (M, R, V, M, G, -, S, M, R, N, C, Q, R, W, W, ...               1   \n",
       "3  (M, R, V, R, G, -, I, R, R, N, Y, Q, H, W, W, ...               1   \n",
       "4  (M, R, V, M, G, -, I, Q, R, N, S, Q, C, F, L, ...               1   \n",
       "\n",
       "                                       features_dict  \n",
       "0  {1: u'M', 2: u'R', 3: u'V', 4: u'K', 5: u'G', ...  \n",
       "1  {1: u'M', 2: u'R', 3: u'V', 4: u'R', 5: u'G', ...  \n",
       "2  {1: u'M', 2: u'R', 3: u'V', 4: u'M', 5: u'G', ...  \n",
       "3  {1: u'M', 2: u'R', 3: u'V', 4: u'R', 5: u'G', ...  \n",
       "4  {1: u'M', 2: u'R', 3: u'V', 4: u'M', 5: u'G', ...  "
      ]
     },
     "execution_count": 12,
     "metadata": {},
     "output_type": "execute_result"
    }
   ],
   "source": [
    "neutdf.head()"
   ]
  },
  {
   "cell_type": "code",
   "execution_count": 13,
   "metadata": {
    "collapsed": false
   },
   "outputs": [
    {
     "data": {
      "text/html": [
       "<div>\n",
       "<table border=\"1\" class=\"dataframe\">\n",
       "  <thead>\n",
       "    <tr style=\"text-align: right;\">\n",
       "      <th></th>\n",
       "      <th>100=I</th>\n",
       "      <th>100=K</th>\n",
       "      <th>100=L</th>\n",
       "      <th>100=M</th>\n",
       "      <th>100=Q</th>\n",
       "      <th>100=R</th>\n",
       "      <th>100=V</th>\n",
       "      <th>100=Y</th>\n",
       "      <th>101=A</th>\n",
       "      <th>101=D</th>\n",
       "      <th>...</th>\n",
       "      <th>992=Q</th>\n",
       "      <th>992=V</th>\n",
       "      <th>993=Q</th>\n",
       "      <th>99=E</th>\n",
       "      <th>9=K</th>\n",
       "      <th>9=M</th>\n",
       "      <th>9=N</th>\n",
       "      <th>9=R</th>\n",
       "      <th>9=S</th>\n",
       "      <th>9=T</th>\n",
       "    </tr>\n",
       "  </thead>\n",
       "  <tbody>\n",
       "    <tr>\n",
       "      <th>0</th>\n",
       "      <td>0</td>\n",
       "      <td>0</td>\n",
       "      <td>0</td>\n",
       "      <td>1</td>\n",
       "      <td>0</td>\n",
       "      <td>0</td>\n",
       "      <td>0</td>\n",
       "      <td>0</td>\n",
       "      <td>0</td>\n",
       "      <td>0</td>\n",
       "      <td>...</td>\n",
       "      <td>1</td>\n",
       "      <td>0</td>\n",
       "      <td>0</td>\n",
       "      <td>1</td>\n",
       "      <td>0</td>\n",
       "      <td>0</td>\n",
       "      <td>0</td>\n",
       "      <td>1</td>\n",
       "      <td>0</td>\n",
       "      <td>0</td>\n",
       "    </tr>\n",
       "    <tr>\n",
       "      <th>1</th>\n",
       "      <td>0</td>\n",
       "      <td>0</td>\n",
       "      <td>0</td>\n",
       "      <td>1</td>\n",
       "      <td>0</td>\n",
       "      <td>0</td>\n",
       "      <td>0</td>\n",
       "      <td>0</td>\n",
       "      <td>0</td>\n",
       "      <td>0</td>\n",
       "      <td>...</td>\n",
       "      <td>0</td>\n",
       "      <td>0</td>\n",
       "      <td>0</td>\n",
       "      <td>1</td>\n",
       "      <td>0</td>\n",
       "      <td>0</td>\n",
       "      <td>0</td>\n",
       "      <td>1</td>\n",
       "      <td>0</td>\n",
       "      <td>0</td>\n",
       "    </tr>\n",
       "    <tr>\n",
       "      <th>2</th>\n",
       "      <td>0</td>\n",
       "      <td>0</td>\n",
       "      <td>0</td>\n",
       "      <td>1</td>\n",
       "      <td>0</td>\n",
       "      <td>0</td>\n",
       "      <td>0</td>\n",
       "      <td>0</td>\n",
       "      <td>1</td>\n",
       "      <td>0</td>\n",
       "      <td>...</td>\n",
       "      <td>0</td>\n",
       "      <td>0</td>\n",
       "      <td>0</td>\n",
       "      <td>1</td>\n",
       "      <td>0</td>\n",
       "      <td>0</td>\n",
       "      <td>0</td>\n",
       "      <td>1</td>\n",
       "      <td>0</td>\n",
       "      <td>0</td>\n",
       "    </tr>\n",
       "    <tr>\n",
       "      <th>3</th>\n",
       "      <td>1</td>\n",
       "      <td>0</td>\n",
       "      <td>0</td>\n",
       "      <td>0</td>\n",
       "      <td>0</td>\n",
       "      <td>0</td>\n",
       "      <td>0</td>\n",
       "      <td>0</td>\n",
       "      <td>0</td>\n",
       "      <td>0</td>\n",
       "      <td>...</td>\n",
       "      <td>1</td>\n",
       "      <td>0</td>\n",
       "      <td>0</td>\n",
       "      <td>1</td>\n",
       "      <td>0</td>\n",
       "      <td>0</td>\n",
       "      <td>0</td>\n",
       "      <td>1</td>\n",
       "      <td>0</td>\n",
       "      <td>0</td>\n",
       "    </tr>\n",
       "    <tr>\n",
       "      <th>4</th>\n",
       "      <td>0</td>\n",
       "      <td>0</td>\n",
       "      <td>0</td>\n",
       "      <td>0</td>\n",
       "      <td>0</td>\n",
       "      <td>0</td>\n",
       "      <td>1</td>\n",
       "      <td>0</td>\n",
       "      <td>0</td>\n",
       "      <td>0</td>\n",
       "      <td>...</td>\n",
       "      <td>0</td>\n",
       "      <td>0</td>\n",
       "      <td>0</td>\n",
       "      <td>1</td>\n",
       "      <td>0</td>\n",
       "      <td>0</td>\n",
       "      <td>0</td>\n",
       "      <td>1</td>\n",
       "      <td>0</td>\n",
       "      <td>0</td>\n",
       "    </tr>\n",
       "  </tbody>\n",
       "</table>\n",
       "<p>5 rows × 5893 columns</p>\n",
       "</div>"
      ],
      "text/plain": [
       "   100=I  100=K  100=L  100=M  100=Q  100=R  100=V  100=Y  101=A  101=D ...   \\\n",
       "0      0      0      0      1      0      0      0      0      0      0 ...    \n",
       "1      0      0      0      1      0      0      0      0      0      0 ...    \n",
       "2      0      0      0      1      0      0      0      0      1      0 ...    \n",
       "3      1      0      0      0      0      0      0      0      0      0 ...    \n",
       "4      0      0      0      0      0      0      1      0      0      0 ...    \n",
       "\n",
       "   992=Q  992=V  993=Q  99=E  9=K  9=M  9=N  9=R  9=S  9=T  \n",
       "0      1      0      0     1    0    0    0    1    0    0  \n",
       "1      0      0      0     1    0    0    0    1    0    0  \n",
       "2      0      0      0     1    0    0    0    1    0    0  \n",
       "3      1      0      0     1    0    0    0    1    0    0  \n",
       "4      0      0      0     1    0    0    0    1    0    0  \n",
       "\n",
       "[5 rows x 5893 columns]"
      ]
     },
     "execution_count": 13,
     "metadata": {},
     "output_type": "execute_result"
    }
   ],
   "source": [
    "# vectorize data and build feature df\n",
    "\n",
    "from sklearn.feature_extraction import DictVectorizer\n",
    "\n",
    "d_vect = DictVectorizer()\n",
    "\n",
    "list_features = list(neutdf.features_dict)\n",
    "sparse_features = d_vect.fit_transform(list_features)\n",
    "name_features = d_vect.get_feature_names()\n",
    "\n",
    "features_df = pd.DataFrame(sparse_features.toarray(), columns=name_features)\n",
    "\n",
    "features_df.head()"
   ]
  },
  {
   "cell_type": "code",
   "execution_count": 73,
   "metadata": {
    "collapsed": false
   },
   "outputs": [
    {
     "data": {
      "text/plain": [
       "207"
      ]
     },
     "execution_count": 73,
     "metadata": {},
     "output_type": "execute_result"
    }
   ],
   "source": [
    "# look up position in HXB2 for it's corresponding coordinate in the MSA\n",
    "\n",
    "reference = sequence_tokenizer(HXB2.seq)\n",
    "decoder = dict(enumerate(reference, start=1))\n",
    "decoder[169]"
   ]
  },
  {
   "cell_type": "code",
   "execution_count": 15,
   "metadata": {
    "collapsed": false
   },
   "outputs": [
    {
     "name": "stdout",
     "output_type": "stream",
     "text": [
      "['197=D', '197=H', '197=K', '197=N', '197=PNGS', '197=R', '197=S', '197=T', '197=Y']\n"
     ]
    }
   ],
   "source": [
    "# Examine features at positions 665 & 667 (MSA: 789 & 791)\n",
    "\n",
    "epitope_features = [col for col in features_df.columns if '197' in col]\n",
    "print epitope_features"
   ]
  },
  {
   "cell_type": "markdown",
   "metadata": {},
   "source": [
    "# Feature Selection\n",
    "\n",
    "    Trim down feature outliers (highly conserved sequences & single variants)\n",
    "    Other feature selection approaches (mRMR, incorporated methods)"
   ]
  },
  {
   "cell_type": "code",
   "execution_count": 35,
   "metadata": {
    "collapsed": true
   },
   "outputs": [],
   "source": [
    "feature_counts = np.sum(features_df, axis=0)/features_df.shape[0]"
   ]
  },
  {
   "cell_type": "code",
   "execution_count": 44,
   "metadata": {
    "collapsed": false
   },
   "outputs": [
    {
     "data": {
      "text/plain": [
       "<matplotlib.axes._subplots.AxesSubplot at 0x110e74ed0>"
      ]
     },
     "execution_count": 44,
     "metadata": {},
     "output_type": "execute_result"
    },
    {
     "data": {
      "image/png": "[encoded data removed]",
      "text/plain": [
       "<matplotlib.figure.Figure at 0x111af7cd0>"
      ]
     },
     "metadata": {},
     "output_type": "display_data"
    }
   ],
   "source": [
    "import matplotlib as plt\n",
    "% matplotlib inline\n",
    "\n",
    "feature_counts.plot.hist(title='Feature Frequencies', bins=50)"
   ]
  },
  {
   "cell_type": "code",
   "execution_count": 45,
   "metadata": {
    "collapsed": true
   },
   "outputs": [],
   "source": [
    "# define function to drop features that are shared by less than X% of sequences and/or more\n",
    "# than 1-X% of sequences\n",
    "\n",
    "def trim_feature_extremes(dataframe, percent_to_trim):\n",
    "    total_rows = dataframe.shape[0]\n",
    "    upper_threshold = (1 - percent_to_trim) * total_rows\n",
    "    lower_threshold = percent_to_trim * total_rows\n",
    "    column_filter_list = list((dataframe.sum(axis=0) >= lower_threshold) &\n",
    "                                (dataframe.sum(axis=0) < upper_threshold)) \n",
    "                                #True = keep, False = drop\n",
    "    column_filter_dict = zip(list(dataframe.columns), column_filter_list)\n",
    "    columns_to_keep = [column for column, keepornot in column_filter_dict \n",
    "                        if keepornot == True]\n",
    "    output_df = dataframe[columns_to_keep]\n",
    "    return output_df\n",
    " "
   ]
  },
  {
   "cell_type": "code",
   "execution_count": 47,
   "metadata": {
    "collapsed": false
   },
   "outputs": [
    {
     "data": {
      "text/plain": [
       "(365, 1368)"
      ]
     },
     "execution_count": 47,
     "metadata": {},
     "output_type": "execute_result"
    }
   ],
   "source": [
    "trimmed_features_df = trim_feature_extremes(features_df, 0.05)\n",
    "\n",
    "trimmed_features_df.shape"
   ]
  },
  {
   "cell_type": "markdown",
   "metadata": {},
   "source": [
    "# Build Decision Tree Classifier\n",
    "\n",
    "    Use for feature selection\n"
   ]
  },
  {
   "cell_type": "code",
   "execution_count": 18,
   "metadata": {
    "collapsed": false
   },
   "outputs": [],
   "source": [
    "# define X & y as whole feature set without trimming features\n",
    "\n",
    "X = features_df\n",
    "y = neutdf.is_neutralized\n"
   ]
  },
  {
   "cell_type": "code",
   "execution_count": 19,
   "metadata": {
    "collapsed": false
   },
   "outputs": [
    {
     "name": "stdout",
     "output_type": "stream",
     "text": [
      "[0.6611111111111112, 0.62633744855967088, 0.64351851851851849, 0.66679012345679012, 0.67191358024691361, 0.65969135802469137, 0.65502057613168729, 0.64129629629629625, 0.68067901234567896, 0.66458847736625515, 0.67401234567901225, 0.6581687242798353, 0.67631687242798366, 0.68360082304526748, 0.67170781893004128, 0.662201646090535, 0.66121399176954732, 0.67855967078189283, 0.68685185185185182, 0.67174897119341559, 0.67979423868312749, 0.6770370370370371, 0.68944444444444453, 0.68055555555555558, 0.69240740740740736, 0.68629629629629629, 0.64796296296296296, 0.66148148148148156, 0.68259259259259264, 0.66462962962962968, 0.68370370370370359, 0.70481481481481478, 0.66888888888888898, 0.66888888888888887, 0.67574074074074086, 0.69870370370370372, 0.682037037037037, 0.68018518518518523, 0.67574074074074075, 0.68629629629629629, 0.66648148148148156, 0.66648148148148145, 0.69555555555555548, 0.6962962962962963, 0.68574074074074065, 0.67074074074074075, 0.69685185185185183, 0.64740740740740743, 0.67203703703703699, 0.69629629629629641, 0.66962962962962969, 0.66537037037037039, 0.66592592592592603, 0.69370370370370371, 0.6912962962962963, 0.67388888888888876, 0.68574074074074076, 0.67018518518518522, 0.66703703703703698, 0.68074074074074076, 0.68499999999999994, 0.68185185185185182, 0.69425925925925935, 0.69055555555555559, 0.68185185185185193, 0.6962962962962963, 0.66407407407407404, 0.68574074074074065, 0.68074074074074076, 0.70796296296296302, 0.65481481481481485, 0.68259259259259275, 0.69870370370370372, 0.71537037037037043, 0.67074074074074064, 0.67759259259259264, 0.65722222222222226, 0.68444444444444452, 0.66518518518518521, 0.6770370370370371, 0.67574074074074075, 0.65037037037037038, 0.71166666666666667, 0.70611111111111113, 0.69370370370370371, 0.72037037037037044, 0.68074074074074076, 0.67888888888888899, 0.67574074074074075, 0.66962962962962957, 0.68925925925925935, 0.6720370370370371, 0.68870370370370382, 0.66648148148148156, 0.68999999999999995, 0.68944444444444442, 0.66592592592592592, 0.67999999999999994, 0.70240740740740737, 0.69685185185185183]\n"
     ]
    }
   ],
   "source": [
    "# calculate best depth using roc_auc score\n",
    "\n",
    "from sklearn.tree import DecisionTreeClassifier\n",
    "\n",
    "max_depth_range = range(1, 101)\n",
    "\n",
    "roc_auc_scores = []\n",
    "\n",
    "from sklearn.cross_validation import cross_val_score\n",
    "for depth in max_depth_range:\n",
    "    treeclass = DecisionTreeClassifier(max_depth=depth)\n",
    "    score = cross_val_score(treeclass, X, y, scoring='roc_auc', cv=10)\n",
    "    roc_auc_scores.append(np.mean(score))\n",
    "    \n",
    "print roc_auc_scores"
   ]
  },
  {
   "cell_type": "code",
   "execution_count": 20,
   "metadata": {
    "collapsed": false
   },
   "outputs": [
    {
     "data": {
      "image/png": "[encoded data removed]",
      "text/plain": [
       "<matplotlib.figure.Figure at 0x10a089b10>"
      ]
     },
     "metadata": {},
     "output_type": "display_data"
    }
   ],
   "source": [
    "# graph roc_auc_scores vs max depth\n",
    "\n",
    "import matplotlib.pyplot as plt\n",
    "%matplotlib inline\n",
    "\n",
    "plt.plot(max_depth_range, roc_auc_scores)\n",
    "plt.xlabel('max depth')\n",
    "plt.ylabel('roc auc score')\n",
    "\n",
    "plt.rcdefaults()"
   ]
  },
  {
   "cell_type": "code",
   "execution_count": 21,
   "metadata": {
    "collapsed": false
   },
   "outputs": [
    {
     "data": {
      "text/plain": [
       "(0.72037037037037044, 86)"
      ]
     },
     "execution_count": 21,
     "metadata": {},
     "output_type": "execute_result"
    }
   ],
   "source": [
    "sorted(zip(roc_auc_scores, max_depth_range), reverse=True)[0]"
   ]
  },
  {
   "cell_type": "code",
   "execution_count": 22,
   "metadata": {
    "collapsed": false
   },
   "outputs": [
    {
     "data": {
      "text/plain": [
       "DecisionTreeClassifier(class_weight=None, criterion='gini', max_depth=80,\n",
       "            max_features=None, max_leaf_nodes=None, min_samples_leaf=1,\n",
       "            min_samples_split=2, min_weight_fraction_leaf=0.0,\n",
       "            presort=False, random_state=None, splitter='best')"
      ]
     },
     "execution_count": 22,
     "metadata": {},
     "output_type": "execute_result"
    }
   ],
   "source": [
    "# fit tree using max depth of 3\n",
    "\n",
    "treeclass = DecisionTreeClassifier(max_depth=80)\n",
    "treeclass.fit(X, y)"
   ]
  },
  {
   "cell_type": "code",
   "execution_count": 30,
   "metadata": {
    "collapsed": false
   },
   "outputs": [
    {
     "data": {
      "text/html": [
       "<div>\n",
       "<table border=\"1\" class=\"dataframe\">\n",
       "  <thead>\n",
       "    <tr style=\"text-align: right;\">\n",
       "      <th></th>\n",
       "      <th>feature</th>\n",
       "      <th>importance</th>\n",
       "    </tr>\n",
       "  </thead>\n",
       "  <tbody>\n",
       "    <tr>\n",
       "      <th>919</th>\n",
       "      <td>197=PNGS</td>\n",
       "      <td>0.235626</td>\n",
       "    </tr>\n",
       "    <tr>\n",
       "      <th>256</th>\n",
       "      <td>149=E</td>\n",
       "      <td>0.064417</td>\n",
       "    </tr>\n",
       "    <tr>\n",
       "      <th>3119</th>\n",
       "      <td>498=PNGS</td>\n",
       "      <td>0.056379</td>\n",
       "    </tr>\n",
       "    <tr>\n",
       "      <th>4986</th>\n",
       "      <td>844=F</td>\n",
       "      <td>0.053418</td>\n",
       "    </tr>\n",
       "    <tr>\n",
       "      <th>3940</th>\n",
       "      <td>604=K</td>\n",
       "      <td>0.042245</td>\n",
       "    </tr>\n",
       "    <tr>\n",
       "      <th>4394</th>\n",
       "      <td>729=A</td>\n",
       "      <td>0.037772</td>\n",
       "    </tr>\n",
       "    <tr>\n",
       "      <th>4192</th>\n",
       "      <td>664=R</td>\n",
       "      <td>0.035379</td>\n",
       "    </tr>\n",
       "    <tr>\n",
       "      <th>4861</th>\n",
       "      <td>810=R</td>\n",
       "      <td>0.029485</td>\n",
       "    </tr>\n",
       "    <tr>\n",
       "      <th>5819</th>\n",
       "      <td>979=I</td>\n",
       "      <td>0.028358</td>\n",
       "    </tr>\n",
       "    <tr>\n",
       "      <th>997</th>\n",
       "      <td>207=E</td>\n",
       "      <td>0.025324</td>\n",
       "    </tr>\n",
       "  </tbody>\n",
       "</table>\n",
       "</div>"
      ],
      "text/plain": [
       "       feature  importance\n",
       "919   197=PNGS    0.235626\n",
       "256      149=E    0.064417\n",
       "3119  498=PNGS    0.056379\n",
       "4986     844=F    0.053418\n",
       "3940     604=K    0.042245\n",
       "4394     729=A    0.037772\n",
       "4192     664=R    0.035379\n",
       "4861     810=R    0.029485\n",
       "5819     979=I    0.028358\n",
       "997      207=E    0.025324"
      ]
     },
     "execution_count": 30,
     "metadata": {},
     "output_type": "execute_result"
    }
   ],
   "source": [
    "# get feature importances\n",
    "\n",
    "feat_import = pd.DataFrame({'feature': features_df.columns, 'importance': treeclass.feature_importances_})\n",
    "feat_import.sort_values('importance', ascending=False).head(10)"
   ]
  },
  {
   "cell_type": "code",
   "execution_count": 26,
   "metadata": {
    "collapsed": false
   },
   "outputs": [],
   "source": [
    "# look at other feature importances at same sites\n",
    "\n",
    "features_197 = [feat for feat in feat_import.feature if '197' in feat]\n",
    "features_207 = [feat for feat in feat_import.feature if '207' in feat]"
   ]
  },
  {
   "cell_type": "code",
   "execution_count": 27,
   "metadata": {
    "collapsed": false
   },
   "outputs": [
    {
     "data": {
      "text/html": [
       "<div>\n",
       "<table border=\"1\" class=\"dataframe\">\n",
       "  <thead>\n",
       "    <tr style=\"text-align: right;\">\n",
       "      <th>feature</th>\n",
       "      <th>197=D</th>\n",
       "      <th>197=H</th>\n",
       "      <th>197=K</th>\n",
       "      <th>197=N</th>\n",
       "      <th>197=PNGS</th>\n",
       "      <th>197=R</th>\n",
       "      <th>197=S</th>\n",
       "      <th>197=T</th>\n",
       "      <th>197=Y</th>\n",
       "    </tr>\n",
       "  </thead>\n",
       "  <tbody>\n",
       "    <tr>\n",
       "      <th>importance</th>\n",
       "      <td>0</td>\n",
       "      <td>0</td>\n",
       "      <td>0</td>\n",
       "      <td>0</td>\n",
       "      <td>0.235626</td>\n",
       "      <td>0</td>\n",
       "      <td>0</td>\n",
       "      <td>0</td>\n",
       "      <td>0</td>\n",
       "    </tr>\n",
       "  </tbody>\n",
       "</table>\n",
       "</div>"
      ],
      "text/plain": [
       "feature     197=D  197=H  197=K  197=N  197=PNGS  197=R  197=S  197=T  197=Y\n",
       "importance      0      0      0      0  0.235626      0      0      0      0"
      ]
     },
     "execution_count": 27,
     "metadata": {},
     "output_type": "execute_result"
    }
   ],
   "source": [
    "feat_import.set_index('feature', inplace=True)\n",
    "import_feat = feat_import.transpose()\n",
    "import_feat[features_197]"
   ]
  },
  {
   "cell_type": "code",
   "execution_count": 29,
   "metadata": {
    "collapsed": false
   },
   "outputs": [
    {
     "data": {
      "text/html": [
       "<div>\n",
       "<table border=\"1\" class=\"dataframe\">\n",
       "  <thead>\n",
       "    <tr style=\"text-align: right;\">\n",
       "      <th>feature</th>\n",
       "      <th>207=E</th>\n",
       "      <th>207=G</th>\n",
       "      <th>207=H</th>\n",
       "      <th>207=I</th>\n",
       "      <th>207=K</th>\n",
       "      <th>207=L</th>\n",
       "      <th>207=M</th>\n",
       "      <th>207=N</th>\n",
       "      <th>207=P</th>\n",
       "      <th>207=Q</th>\n",
       "      <th>207=R</th>\n",
       "      <th>207=S</th>\n",
       "      <th>207=T</th>\n",
       "      <th>207=V</th>\n",
       "      <th>207=W</th>\n",
       "      <th>207=Y</th>\n",
       "    </tr>\n",
       "  </thead>\n",
       "  <tbody>\n",
       "    <tr>\n",
       "      <th>importance</th>\n",
       "      <td>0.025324</td>\n",
       "      <td>0</td>\n",
       "      <td>0</td>\n",
       "      <td>0</td>\n",
       "      <td>0</td>\n",
       "      <td>0</td>\n",
       "      <td>0</td>\n",
       "      <td>0</td>\n",
       "      <td>0</td>\n",
       "      <td>0</td>\n",
       "      <td>0</td>\n",
       "      <td>0</td>\n",
       "      <td>0</td>\n",
       "      <td>0</td>\n",
       "      <td>0</td>\n",
       "      <td>0</td>\n",
       "    </tr>\n",
       "  </tbody>\n",
       "</table>\n",
       "</div>"
      ],
      "text/plain": [
       "feature        207=E  207=G  207=H  207=I  207=K  207=L  207=M  207=N  207=P  \\\n",
       "importance  0.025324      0      0      0      0      0      0      0      0   \n",
       "\n",
       "feature     207=Q  207=R  207=S  207=T  207=V  207=W  207=Y  \n",
       "importance      0      0      0      0      0      0      0  "
      ]
     },
     "execution_count": 29,
     "metadata": {},
     "output_type": "execute_result"
    }
   ],
   "source": [
    "import_feat[features_207]"
   ]
  },
  {
   "cell_type": "markdown",
   "metadata": {},
   "source": [
    "# Build Random Forest\n",
    "    \n",
    "    Use randomized grid search CV for n_estimators, max_features"
   ]
  },
  {
   "cell_type": "code",
   "execution_count": 54,
   "metadata": {
    "collapsed": true
   },
   "outputs": [],
   "source": [
    "# import random forest classifier & define X & y using trimmed dataframe\n",
    "\n",
    "from sklearn.ensemble import RandomForestClassifier\n",
    "\n",
    "rfclass = RandomForestClassifier()\n",
    "\n",
    "X = trimmed_features_df\n",
    "y = neutdf.is_neutralized"
   ]
  },
  {
   "cell_type": "code",
   "execution_count": 55,
   "metadata": {
    "collapsed": true
   },
   "outputs": [],
   "source": [
    "from sklearn.grid_search import RandomizedSearchCV\n",
    "\n",
    "estimators_range = range(0, 1501, 10)\n",
    "feature_range = range(0, 501)"
   ]
  },
  {
   "cell_type": "code",
   "execution_count": 57,
   "metadata": {
    "collapsed": false
   },
   "outputs": [
    {
     "data": {
      "text/plain": [
       "RandomizedSearchCV(cv=5, error_score='raise',\n",
       "          estimator=RandomForestClassifier(bootstrap=True, class_weight=None, criterion='gini',\n",
       "            max_depth=None, max_features='auto', max_leaf_nodes=None,\n",
       "            min_samples_leaf=1, min_samples_split=2,\n",
       "            min_weight_fraction_leaf=0.0, n_estimators=10, n_jobs=1,\n",
       "            oob_score=False, random_state=None, verbose=0,\n",
       "            warm_start=False),\n",
       "          fit_params={}, iid=True, n_iter=50, n_jobs=1,\n",
       "          param_distributions={'max_features': [0, 1, 2, 3, 4, 5, 6, 7, 8, 9, 10, 11, 12, 13, 14, 15, 16, 17, 18, 19, 20, 21, 22, 23, 24, 25, 26, 27, 28, 29, 30, 31, 32, 33, 34, 35, 36, 37, 38, 39, 40, 41, 42, 43, 44, 45, 46, 47, 48, 49, 50, 51, 52, 53, 54, 55, 56, 57, 58, 59, 60, 61, 62, 63, 64, 65, 66, 67, ...40, 1350, 1360, 1370, 1380, 1390, 1400, 1410, 1420, 1430, 1440, 1450, 1460, 1470, 1480, 1490, 1500]},\n",
       "          pre_dispatch='2*n_jobs', random_state=None, refit=True,\n",
       "          scoring='roc_auc', verbose=0)"
      ]
     },
     "execution_count": 57,
     "metadata": {},
     "output_type": "execute_result"
    }
   ],
   "source": [
    "param_dist = dict(n_estimators=estimators_range, max_features=feature_range)\n",
    "rand = RandomizedSearchCV(rfclass, param_dist, n_iter=50, scoring='roc_auc', cv=5)\n",
    "rand.fit(X, y)"
   ]
  },
  {
   "cell_type": "code",
   "execution_count": 60,
   "metadata": {
    "collapsed": false
   },
   "outputs": [
    {
     "data": {
      "text/html": [
       "<div>\n",
       "<table border=\"1\" class=\"dataframe\">\n",
       "  <thead>\n",
       "    <tr style=\"text-align: right;\">\n",
       "      <th></th>\n",
       "      <th>parameters</th>\n",
       "      <th>mean_validation_score</th>\n",
       "      <th>cv_validation_scores</th>\n",
       "    </tr>\n",
       "  </thead>\n",
       "  <tbody>\n",
       "    <tr>\n",
       "      <th>27</th>\n",
       "      <td>{u'n_estimators': 1100, u'max_features': 363}</td>\n",
       "      <td>0.797856</td>\n",
       "      <td>[0.711013645224, 0.780701754386, 0.75292397660...</td>\n",
       "    </tr>\n",
       "    <tr>\n",
       "      <th>34</th>\n",
       "      <td>{u'n_estimators': 960, u'max_features': 387}</td>\n",
       "      <td>0.796199</td>\n",
       "      <td>[0.712962962963, 0.767543859649, 0.74853801169...</td>\n",
       "    </tr>\n",
       "    <tr>\n",
       "      <th>32</th>\n",
       "      <td>{u'n_estimators': 1260, u'max_features': 373}</td>\n",
       "      <td>0.796199</td>\n",
       "      <td>[0.704191033138, 0.774366471735, 0.75389863547...</td>\n",
       "    </tr>\n",
       "    <tr>\n",
       "      <th>1</th>\n",
       "      <td>{u'n_estimators': 1440, u'max_features': 347}</td>\n",
       "      <td>0.792885</td>\n",
       "      <td>[0.710526315789, 0.763645224172, 0.75682261208...</td>\n",
       "    </tr>\n",
       "    <tr>\n",
       "      <th>14</th>\n",
       "      <td>{u'n_estimators': 1000, u'max_features': 357}</td>\n",
       "      <td>0.792008</td>\n",
       "      <td>[0.702729044834, 0.769493177388, 0.74707602339...</td>\n",
       "    </tr>\n",
       "    <tr>\n",
       "      <th>6</th>\n",
       "      <td>{u'n_estimators': 530, u'max_features': 364}</td>\n",
       "      <td>0.791910</td>\n",
       "      <td>[0.707602339181, 0.769493177388, 0.74561403508...</td>\n",
       "    </tr>\n",
       "    <tr>\n",
       "      <th>35</th>\n",
       "      <td>{u'n_estimators': 650, u'max_features': 399}</td>\n",
       "      <td>0.791813</td>\n",
       "      <td>[0.7022417154, 0.762670565302, 0.744639376218,...</td>\n",
       "    </tr>\n",
       "    <tr>\n",
       "      <th>17</th>\n",
       "      <td>{u'n_estimators': 1010, u'max_features': 388}</td>\n",
       "      <td>0.791326</td>\n",
       "      <td>[0.691520467836, 0.760233918129, 0.74317738791...</td>\n",
       "    </tr>\n",
       "    <tr>\n",
       "      <th>39</th>\n",
       "      <td>{u'n_estimators': 950, u'max_features': 493}</td>\n",
       "      <td>0.791228</td>\n",
       "      <td>[0.701754385965, 0.748538011696, 0.75925925925...</td>\n",
       "    </tr>\n",
       "    <tr>\n",
       "      <th>10</th>\n",
       "      <td>{u'n_estimators': 540, u'max_features': 426}</td>\n",
       "      <td>0.791033</td>\n",
       "      <td>[0.706140350877, 0.75, 0.759746588694, 0.87670...</td>\n",
       "    </tr>\n",
       "    <tr>\n",
       "      <th>2</th>\n",
       "      <td>{u'n_estimators': 440, u'max_features': 222}</td>\n",
       "      <td>0.790838</td>\n",
       "      <td>[0.720760233918, 0.77485380117, 0.758771929825...</td>\n",
       "    </tr>\n",
       "    <tr>\n",
       "      <th>41</th>\n",
       "      <td>{u'n_estimators': 490, u'max_features': 356}</td>\n",
       "      <td>0.790838</td>\n",
       "      <td>[0.682261208577, 0.768031189084, 0.74951267056...</td>\n",
       "    </tr>\n",
       "    <tr>\n",
       "      <th>24</th>\n",
       "      <td>{u'n_estimators': 590, u'max_features': 187}</td>\n",
       "      <td>0.790741</td>\n",
       "      <td>[0.689571150097, 0.795808966862, 0.75536062378...</td>\n",
       "    </tr>\n",
       "    <tr>\n",
       "      <th>22</th>\n",
       "      <td>{u'n_estimators': 1340, u'max_features': 181}</td>\n",
       "      <td>0.790546</td>\n",
       "      <td>[0.700779727096, 0.780214424951, 0.75730994152...</td>\n",
       "    </tr>\n",
       "    <tr>\n",
       "      <th>30</th>\n",
       "      <td>{u'n_estimators': 1050, u'max_features': 412}</td>\n",
       "      <td>0.790546</td>\n",
       "      <td>[0.69395711501, 0.771929824561, 0.749512670565...</td>\n",
       "    </tr>\n",
       "    <tr>\n",
       "      <th>15</th>\n",
       "      <td>{u'n_estimators': 850, u'max_features': 205}</td>\n",
       "      <td>0.790448</td>\n",
       "      <td>[0.704678362573, 0.789961013645, 0.75389863547...</td>\n",
       "    </tr>\n",
       "    <tr>\n",
       "      <th>0</th>\n",
       "      <td>{u'n_estimators': 1230, u'max_features': 487}</td>\n",
       "      <td>0.790351</td>\n",
       "      <td>[0.699317738791, 0.764619883041, 0.75048732943...</td>\n",
       "    </tr>\n",
       "    <tr>\n",
       "      <th>18</th>\n",
       "      <td>{u'n_estimators': 850, u'max_features': 396}</td>\n",
       "      <td>0.790156</td>\n",
       "      <td>[0.704678362573, 0.760721247563, 0.74707602339...</td>\n",
       "    </tr>\n",
       "    <tr>\n",
       "      <th>48</th>\n",
       "      <td>{u'n_estimators': 1290, u'max_features': 284}</td>\n",
       "      <td>0.789864</td>\n",
       "      <td>[0.715886939571, 0.775341130604, 0.74707602339...</td>\n",
       "    </tr>\n",
       "    <tr>\n",
       "      <th>23</th>\n",
       "      <td>{u'n_estimators': 1240, u'max_features': 348}</td>\n",
       "      <td>0.789766</td>\n",
       "      <td>[0.696881091618, 0.77485380117, 0.748050682261...</td>\n",
       "    </tr>\n",
       "    <tr>\n",
       "      <th>43</th>\n",
       "      <td>{u'n_estimators': 1050, u'max_features': 266}</td>\n",
       "      <td>0.789766</td>\n",
       "      <td>[0.70126705653, 0.768518518519, 0.759259259259...</td>\n",
       "    </tr>\n",
       "    <tr>\n",
       "      <th>11</th>\n",
       "      <td>{u'n_estimators': 530, u'max_features': 433}</td>\n",
       "      <td>0.788986</td>\n",
       "      <td>[0.704678362573, 0.74269005848, 0.752923976608...</td>\n",
       "    </tr>\n",
       "    <tr>\n",
       "      <th>49</th>\n",
       "      <td>{u'n_estimators': 380, u'max_features': 421}</td>\n",
       "      <td>0.788499</td>\n",
       "      <td>[0.699317738791, 0.767056530214, 0.75389863547...</td>\n",
       "    </tr>\n",
       "    <tr>\n",
       "      <th>45</th>\n",
       "      <td>{u'n_estimators': 20, u'max_features': 276}</td>\n",
       "      <td>0.788109</td>\n",
       "      <td>[0.735380116959, 0.775828460039, 0.76461988304...</td>\n",
       "    </tr>\n",
       "    <tr>\n",
       "      <th>4</th>\n",
       "      <td>{u'n_estimators': 340, u'max_features': 373}</td>\n",
       "      <td>0.788012</td>\n",
       "      <td>[0.668615984405, 0.7738791423, 0.748050682261,...</td>\n",
       "    </tr>\n",
       "    <tr>\n",
       "      <th>26</th>\n",
       "      <td>{u'n_estimators': 120, u'max_features': 400}</td>\n",
       "      <td>0.787914</td>\n",
       "      <td>[0.712962962963, 0.722709551657, 0.73732943469...</td>\n",
       "    </tr>\n",
       "    <tr>\n",
       "      <th>40</th>\n",
       "      <td>{u'n_estimators': 1100, u'max_features': 209}</td>\n",
       "      <td>0.787914</td>\n",
       "      <td>[0.694444444444, 0.77485380117, 0.759259259259...</td>\n",
       "    </tr>\n",
       "    <tr>\n",
       "      <th>9</th>\n",
       "      <td>{u'n_estimators': 1240, u'max_features': 345}</td>\n",
       "      <td>0.786842</td>\n",
       "      <td>[0.691033138402, 0.769980506823, 0.73976608187...</td>\n",
       "    </tr>\n",
       "    <tr>\n",
       "      <th>20</th>\n",
       "      <td>{u'n_estimators': 600, u'max_features': 472}</td>\n",
       "      <td>0.786745</td>\n",
       "      <td>[0.7022417154, 0.731481481481, 0.747563352827,...</td>\n",
       "    </tr>\n",
       "    <tr>\n",
       "      <th>38</th>\n",
       "      <td>{u'n_estimators': 110, u'max_features': 448}</td>\n",
       "      <td>0.786452</td>\n",
       "      <td>[0.665692007797, 0.755360623782, 0.74610136452...</td>\n",
       "    </tr>\n",
       "    <tr>\n",
       "      <th>29</th>\n",
       "      <td>{u'n_estimators': 920, u'max_features': 207}</td>\n",
       "      <td>0.786452</td>\n",
       "      <td>[0.692495126706, 0.779239766082, 0.75243664717...</td>\n",
       "    </tr>\n",
       "    <tr>\n",
       "      <th>44</th>\n",
       "      <td>{u'n_estimators': 690, u'max_features': 334}</td>\n",
       "      <td>0.783821</td>\n",
       "      <td>[0.70955165692, 0.745614035088, 0.739278752437...</td>\n",
       "    </tr>\n",
       "    <tr>\n",
       "      <th>47</th>\n",
       "      <td>{u'n_estimators': 1430, u'max_features': 146}</td>\n",
       "      <td>0.783723</td>\n",
       "      <td>[0.721734892788, 0.758771929825, 0.75389863547...</td>\n",
       "    </tr>\n",
       "    <tr>\n",
       "      <th>21</th>\n",
       "      <td>{u'n_estimators': 290, u'max_features': 330}</td>\n",
       "      <td>0.782456</td>\n",
       "      <td>[0.703216374269, 0.735380116959, 0.75389863547...</td>\n",
       "    </tr>\n",
       "    <tr>\n",
       "      <th>8</th>\n",
       "      <td>{u'n_estimators': 1060, u'max_features': 123}</td>\n",
       "      <td>0.774269</td>\n",
       "      <td>[0.673489278752, 0.759746588694, 0.75779727095...</td>\n",
       "    </tr>\n",
       "    <tr>\n",
       "      <th>5</th>\n",
       "      <td>{u'n_estimators': 1490, u'max_features': 119}</td>\n",
       "      <td>0.770370</td>\n",
       "      <td>[0.673976608187, 0.769005847953, 0.75536062378...</td>\n",
       "    </tr>\n",
       "    <tr>\n",
       "      <th>33</th>\n",
       "      <td>{u'n_estimators': 30, u'max_features': 251}</td>\n",
       "      <td>0.769493</td>\n",
       "      <td>[0.737329434698, 0.711988304094, 0.73245614035...</td>\n",
       "    </tr>\n",
       "    <tr>\n",
       "      <th>16</th>\n",
       "      <td>{u'n_estimators': 80, u'max_features': 212}</td>\n",
       "      <td>0.769201</td>\n",
       "      <td>[0.674463937622, 0.714424951267, 0.77582846003...</td>\n",
       "    </tr>\n",
       "    <tr>\n",
       "      <th>25</th>\n",
       "      <td>{u'n_estimators': 420, u'max_features': 92}</td>\n",
       "      <td>0.763743</td>\n",
       "      <td>[0.670565302144, 0.739278752437, 0.75925925925...</td>\n",
       "    </tr>\n",
       "    <tr>\n",
       "      <th>13</th>\n",
       "      <td>{u'n_estimators': 540, u'max_features': 57}</td>\n",
       "      <td>0.760039</td>\n",
       "      <td>[0.688596491228, 0.747563352827, 0.76023391812...</td>\n",
       "    </tr>\n",
       "    <tr>\n",
       "      <th>42</th>\n",
       "      <td>{u'n_estimators': 720, u'max_features': 55}</td>\n",
       "      <td>0.759552</td>\n",
       "      <td>[0.714424951267, 0.744152046784, 0.76705653021...</td>\n",
       "    </tr>\n",
       "    <tr>\n",
       "      <th>7</th>\n",
       "      <td>{u'n_estimators': 310, u'max_features': 56}</td>\n",
       "      <td>0.755458</td>\n",
       "      <td>[0.684210526316, 0.72514619883, 0.757797270955...</td>\n",
       "    </tr>\n",
       "    <tr>\n",
       "      <th>37</th>\n",
       "      <td>{u'n_estimators': 100, u'max_features': 182}</td>\n",
       "      <td>0.754581</td>\n",
       "      <td>[0.634990253411, 0.73343079922, 0.754385964912...</td>\n",
       "    </tr>\n",
       "    <tr>\n",
       "      <th>19</th>\n",
       "      <td>{u'n_estimators': 680, u'max_features': 48}</td>\n",
       "      <td>0.753899</td>\n",
       "      <td>[0.69298245614, 0.73440545809, 0.75828460039, ...</td>\n",
       "    </tr>\n",
       "    <tr>\n",
       "      <th>28</th>\n",
       "      <td>{u'n_estimators': 650, u'max_features': 51}</td>\n",
       "      <td>0.753704</td>\n",
       "      <td>[0.681773879142, 0.736842105263, 0.75487329434...</td>\n",
       "    </tr>\n",
       "    <tr>\n",
       "      <th>3</th>\n",
       "      <td>{u'n_estimators': 1280, u'max_features': 42}</td>\n",
       "      <td>0.752047</td>\n",
       "      <td>[0.692495126706, 0.726608187135, 0.76559454191...</td>\n",
       "    </tr>\n",
       "    <tr>\n",
       "      <th>46</th>\n",
       "      <td>{u'n_estimators': 630, u'max_features': 45}</td>\n",
       "      <td>0.744932</td>\n",
       "      <td>[0.669590643275, 0.727095516569, 0.75584795321...</td>\n",
       "    </tr>\n",
       "    <tr>\n",
       "      <th>12</th>\n",
       "      <td>{u'n_estimators': 290, u'max_features': 29}</td>\n",
       "      <td>0.743080</td>\n",
       "      <td>[0.669590643275, 0.70955165692, 0.759259259259...</td>\n",
       "    </tr>\n",
       "    <tr>\n",
       "      <th>36</th>\n",
       "      <td>{u'n_estimators': 1230, u'max_features': 38}</td>\n",
       "      <td>0.737719</td>\n",
       "      <td>[0.689571150097, 0.715886939571, 0.76023391812...</td>\n",
       "    </tr>\n",
       "    <tr>\n",
       "      <th>31</th>\n",
       "      <td>{u'n_estimators': 1200, u'max_features': 29}</td>\n",
       "      <td>0.737037</td>\n",
       "      <td>[0.674951267057, 0.714424951267, 0.76803118908...</td>\n",
       "    </tr>\n",
       "  </tbody>\n",
       "</table>\n",
       "</div>"
      ],
      "text/plain": [
       "                                       parameters  mean_validation_score  \\\n",
       "27  {u'n_estimators': 1100, u'max_features': 363}               0.797856   \n",
       "34   {u'n_estimators': 960, u'max_features': 387}               0.796199   \n",
       "32  {u'n_estimators': 1260, u'max_features': 373}               0.796199   \n",
       "1   {u'n_estimators': 1440, u'max_features': 347}               0.792885   \n",
       "14  {u'n_estimators': 1000, u'max_features': 357}               0.792008   \n",
       "6    {u'n_estimators': 530, u'max_features': 364}               0.791910   \n",
       "35   {u'n_estimators': 650, u'max_features': 399}               0.791813   \n",
       "17  {u'n_estimators': 1010, u'max_features': 388}               0.791326   \n",
       "39   {u'n_estimators': 950, u'max_features': 493}               0.791228   \n",
       "10   {u'n_estimators': 540, u'max_features': 426}               0.791033   \n",
       "2    {u'n_estimators': 440, u'max_features': 222}               0.790838   \n",
       "41   {u'n_estimators': 490, u'max_features': 356}               0.790838   \n",
       "24   {u'n_estimators': 590, u'max_features': 187}               0.790741   \n",
       "22  {u'n_estimators': 1340, u'max_features': 181}               0.790546   \n",
       "30  {u'n_estimators': 1050, u'max_features': 412}               0.790546   \n",
       "15   {u'n_estimators': 850, u'max_features': 205}               0.790448   \n",
       "0   {u'n_estimators': 1230, u'max_features': 487}               0.790351   \n",
       "18   {u'n_estimators': 850, u'max_features': 396}               0.790156   \n",
       "48  {u'n_estimators': 1290, u'max_features': 284}               0.789864   \n",
       "23  {u'n_estimators': 1240, u'max_features': 348}               0.789766   \n",
       "43  {u'n_estimators': 1050, u'max_features': 266}               0.789766   \n",
       "11   {u'n_estimators': 530, u'max_features': 433}               0.788986   \n",
       "49   {u'n_estimators': 380, u'max_features': 421}               0.788499   \n",
       "45    {u'n_estimators': 20, u'max_features': 276}               0.788109   \n",
       "4    {u'n_estimators': 340, u'max_features': 373}               0.788012   \n",
       "26   {u'n_estimators': 120, u'max_features': 400}               0.787914   \n",
       "40  {u'n_estimators': 1100, u'max_features': 209}               0.787914   \n",
       "9   {u'n_estimators': 1240, u'max_features': 345}               0.786842   \n",
       "20   {u'n_estimators': 600, u'max_features': 472}               0.786745   \n",
       "38   {u'n_estimators': 110, u'max_features': 448}               0.786452   \n",
       "29   {u'n_estimators': 920, u'max_features': 207}               0.786452   \n",
       "44   {u'n_estimators': 690, u'max_features': 334}               0.783821   \n",
       "47  {u'n_estimators': 1430, u'max_features': 146}               0.783723   \n",
       "21   {u'n_estimators': 290, u'max_features': 330}               0.782456   \n",
       "8   {u'n_estimators': 1060, u'max_features': 123}               0.774269   \n",
       "5   {u'n_estimators': 1490, u'max_features': 119}               0.770370   \n",
       "33    {u'n_estimators': 30, u'max_features': 251}               0.769493   \n",
       "16    {u'n_estimators': 80, u'max_features': 212}               0.769201   \n",
       "25    {u'n_estimators': 420, u'max_features': 92}               0.763743   \n",
       "13    {u'n_estimators': 540, u'max_features': 57}               0.760039   \n",
       "42    {u'n_estimators': 720, u'max_features': 55}               0.759552   \n",
       "7     {u'n_estimators': 310, u'max_features': 56}               0.755458   \n",
       "37   {u'n_estimators': 100, u'max_features': 182}               0.754581   \n",
       "19    {u'n_estimators': 680, u'max_features': 48}               0.753899   \n",
       "28    {u'n_estimators': 650, u'max_features': 51}               0.753704   \n",
       "3    {u'n_estimators': 1280, u'max_features': 42}               0.752047   \n",
       "46    {u'n_estimators': 630, u'max_features': 45}               0.744932   \n",
       "12    {u'n_estimators': 290, u'max_features': 29}               0.743080   \n",
       "36   {u'n_estimators': 1230, u'max_features': 38}               0.737719   \n",
       "31   {u'n_estimators': 1200, u'max_features': 29}               0.737037   \n",
       "\n",
       "                                 cv_validation_scores  \n",
       "27  [0.711013645224, 0.780701754386, 0.75292397660...  \n",
       "34  [0.712962962963, 0.767543859649, 0.74853801169...  \n",
       "32  [0.704191033138, 0.774366471735, 0.75389863547...  \n",
       "1   [0.710526315789, 0.763645224172, 0.75682261208...  \n",
       "14  [0.702729044834, 0.769493177388, 0.74707602339...  \n",
       "6   [0.707602339181, 0.769493177388, 0.74561403508...  \n",
       "35  [0.7022417154, 0.762670565302, 0.744639376218,...  \n",
       "17  [0.691520467836, 0.760233918129, 0.74317738791...  \n",
       "39  [0.701754385965, 0.748538011696, 0.75925925925...  \n",
       "10  [0.706140350877, 0.75, 0.759746588694, 0.87670...  \n",
       "2   [0.720760233918, 0.77485380117, 0.758771929825...  \n",
       "41  [0.682261208577, 0.768031189084, 0.74951267056...  \n",
       "24  [0.689571150097, 0.795808966862, 0.75536062378...  \n",
       "22  [0.700779727096, 0.780214424951, 0.75730994152...  \n",
       "30  [0.69395711501, 0.771929824561, 0.749512670565...  \n",
       "15  [0.704678362573, 0.789961013645, 0.75389863547...  \n",
       "0   [0.699317738791, 0.764619883041, 0.75048732943...  \n",
       "18  [0.704678362573, 0.760721247563, 0.74707602339...  \n",
       "48  [0.715886939571, 0.775341130604, 0.74707602339...  \n",
       "23  [0.696881091618, 0.77485380117, 0.748050682261...  \n",
       "43  [0.70126705653, 0.768518518519, 0.759259259259...  \n",
       "11  [0.704678362573, 0.74269005848, 0.752923976608...  \n",
       "49  [0.699317738791, 0.767056530214, 0.75389863547...  \n",
       "45  [0.735380116959, 0.775828460039, 0.76461988304...  \n",
       "4   [0.668615984405, 0.7738791423, 0.748050682261,...  \n",
       "26  [0.712962962963, 0.722709551657, 0.73732943469...  \n",
       "40  [0.694444444444, 0.77485380117, 0.759259259259...  \n",
       "9   [0.691033138402, 0.769980506823, 0.73976608187...  \n",
       "20  [0.7022417154, 0.731481481481, 0.747563352827,...  \n",
       "38  [0.665692007797, 0.755360623782, 0.74610136452...  \n",
       "29  [0.692495126706, 0.779239766082, 0.75243664717...  \n",
       "44  [0.70955165692, 0.745614035088, 0.739278752437...  \n",
       "47  [0.721734892788, 0.758771929825, 0.75389863547...  \n",
       "21  [0.703216374269, 0.735380116959, 0.75389863547...  \n",
       "8   [0.673489278752, 0.759746588694, 0.75779727095...  \n",
       "5   [0.673976608187, 0.769005847953, 0.75536062378...  \n",
       "33  [0.737329434698, 0.711988304094, 0.73245614035...  \n",
       "16  [0.674463937622, 0.714424951267, 0.77582846003...  \n",
       "25  [0.670565302144, 0.739278752437, 0.75925925925...  \n",
       "13  [0.688596491228, 0.747563352827, 0.76023391812...  \n",
       "42  [0.714424951267, 0.744152046784, 0.76705653021...  \n",
       "7   [0.684210526316, 0.72514619883, 0.757797270955...  \n",
       "37  [0.634990253411, 0.73343079922, 0.754385964912...  \n",
       "19  [0.69298245614, 0.73440545809, 0.75828460039, ...  \n",
       "28  [0.681773879142, 0.736842105263, 0.75487329434...  \n",
       "3   [0.692495126706, 0.726608187135, 0.76559454191...  \n",
       "46  [0.669590643275, 0.727095516569, 0.75584795321...  \n",
       "12  [0.669590643275, 0.70955165692, 0.759259259259...  \n",
       "36  [0.689571150097, 0.715886939571, 0.76023391812...  \n",
       "31  [0.674951267057, 0.714424951267, 0.76803118908...  "
      ]
     },
     "execution_count": 60,
     "metadata": {},
     "output_type": "execute_result"
    }
   ],
   "source": [
    "grid = pd.DataFrame(rand.grid_scores_).sort_values('mean_validation_score', ascending=False)\n",
    "grid.head(50)"
   ]
  },
  {
   "cell_type": "code",
   "execution_count": 61,
   "metadata": {
    "collapsed": false
   },
   "outputs": [
    {
     "name": "stdout",
     "output_type": "stream",
     "text": [
      "0.797855750487\n",
      "{'n_estimators': 1100, 'max_features': 363}\n"
     ]
    }
   ],
   "source": [
    "# look at best parameters\n",
    "\n",
    "print rand.best_score_\n",
    "print rand.best_params_"
   ]
  },
  {
   "cell_type": "code",
   "execution_count": 62,
   "metadata": {
    "collapsed": false
   },
   "outputs": [
    {
     "data": {
      "text/plain": [
       "RandomForestClassifier(bootstrap=True, class_weight=None, criterion='gini',\n",
       "            max_depth=None, max_features=350, max_leaf_nodes=None,\n",
       "            min_samples_leaf=1, min_samples_split=2,\n",
       "            min_weight_fraction_leaf=0.0, n_estimators=1000, n_jobs=1,\n",
       "            oob_score=True, random_state=None, verbose=0, warm_start=False)"
      ]
     },
     "execution_count": 62,
     "metadata": {},
     "output_type": "execute_result"
    }
   ],
   "source": [
    "# fit random forest with best parameters\n",
    "\n",
    "rfclass = RandomForestClassifier(n_estimators=1000, max_features=350, oob_score=True)\n",
    "rfclass.fit(X, y)\n"
   ]
  },
  {
   "cell_type": "code",
   "execution_count": 63,
   "metadata": {
    "collapsed": false
   },
   "outputs": [
    {
     "data": {
      "text/html": [
       "<div>\n",
       "<table border=\"1\" class=\"dataframe\">\n",
       "  <thead>\n",
       "    <tr style=\"text-align: right;\">\n",
       "      <th></th>\n",
       "      <th>feature</th>\n",
       "      <th>importance</th>\n",
       "    </tr>\n",
       "  </thead>\n",
       "  <tbody>\n",
       "    <tr>\n",
       "      <th>194</th>\n",
       "      <td>197=PNGS</td>\n",
       "      <td>0.139429</td>\n",
       "    </tr>\n",
       "    <tr>\n",
       "      <th>199</th>\n",
       "      <td>198=V</td>\n",
       "      <td>0.009887</td>\n",
       "    </tr>\n",
       "    <tr>\n",
       "      <th>1233</th>\n",
       "      <td>918=S</td>\n",
       "      <td>0.009719</td>\n",
       "    </tr>\n",
       "    <tr>\n",
       "      <th>572</th>\n",
       "      <td>439=K</td>\n",
       "      <td>0.009535</td>\n",
       "    </tr>\n",
       "    <tr>\n",
       "      <th>446</th>\n",
       "      <td>380=Q</td>\n",
       "      <td>0.009317</td>\n",
       "    </tr>\n",
       "    <tr>\n",
       "      <th>1231</th>\n",
       "      <td>917=R</td>\n",
       "      <td>0.009141</td>\n",
       "    </tr>\n",
       "    <tr>\n",
       "      <th>463</th>\n",
       "      <td>390=Q</td>\n",
       "      <td>0.008771</td>\n",
       "    </tr>\n",
       "    <tr>\n",
       "      <th>1237</th>\n",
       "      <td>921=G</td>\n",
       "      <td>0.008544</td>\n",
       "    </tr>\n",
       "    <tr>\n",
       "      <th>1238</th>\n",
       "      <td>922=L</td>\n",
       "      <td>0.008049</td>\n",
       "    </tr>\n",
       "    <tr>\n",
       "      <th>1108</th>\n",
       "      <td>844=F</td>\n",
       "      <td>0.007875</td>\n",
       "    </tr>\n",
       "  </tbody>\n",
       "</table>\n",
       "</div>"
      ],
      "text/plain": [
       "       feature  importance\n",
       "194   197=PNGS    0.139429\n",
       "199      198=V    0.009887\n",
       "1233     918=S    0.009719\n",
       "572      439=K    0.009535\n",
       "446      380=Q    0.009317\n",
       "1231     917=R    0.009141\n",
       "463      390=Q    0.008771\n",
       "1237     921=G    0.008544\n",
       "1238     922=L    0.008049\n",
       "1108     844=F    0.007875"
      ]
     },
     "execution_count": 63,
     "metadata": {},
     "output_type": "execute_result"
    }
   ],
   "source": [
    "# look at feature importances\n",
    "\n",
    "forest_features_import = pd.DataFrame({'feature': X.columns, 'importance': rfclass.feature_importances_})\n",
    "forest_features_import.sort_values('importance', ascending=False).head(10)"
   ]
  },
  {
   "cell_type": "code",
   "execution_count": 64,
   "metadata": {
    "collapsed": false
   },
   "outputs": [
    {
     "data": {
      "text/plain": [
       "0.83561643835616439"
      ]
     },
     "execution_count": 64,
     "metadata": {},
     "output_type": "execute_result"
    }
   ],
   "source": [
    "# oob score\n",
    "\n",
    "rfclass.oob_score_"
   ]
  },
  {
   "cell_type": "markdown",
   "metadata": {
    "collapsed": true
   },
   "source": [
    "# Fit Logistic Regression with best features\n",
    "\n",
    "    Evaluate with different iterations of selected features\n",
    "    "
   ]
  },
  {
   "cell_type": "code",
   "execution_count": 65,
   "metadata": {
    "collapsed": false
   },
   "outputs": [],
   "source": [
    "# define new df with selected features & perform train/test split\n",
    "\n",
    "selected_features = ['197=PNGS', '198=V', '918=S', '439=K', '380=Q', '917=R']\n",
    "X = features_df[selected_features]\n",
    "y = neutdf.is_neutralized\n",
    "\n",
    "from sklearn.cross_validation import train_test_split\n",
    "\n",
    "X_train, X_test, y_train, y_test = train_test_split(X, y, stratify=y, \n",
    "                                                    test_size=0.3)"
   ]
  },
  {
   "cell_type": "code",
   "execution_count": 66,
   "metadata": {
    "collapsed": false
   },
   "outputs": [
    {
     "data": {
      "text/plain": [
       "LogisticRegression(C=1000000000.0, class_weight=None, dual=False,\n",
       "          fit_intercept=True, intercept_scaling=1, max_iter=100,\n",
       "          multi_class='ovr', n_jobs=1, penalty='l2', random_state=None,\n",
       "          solver='liblinear', tol=0.0001, verbose=0, warm_start=False)"
      ]
     },
     "execution_count": 66,
     "metadata": {},
     "output_type": "execute_result"
    }
   ],
   "source": [
    "# fit logistic regression\n",
    "\n",
    "from sklearn.linear_model import LogisticRegression\n",
    "logreg = LogisticRegression(C=1e9)\n",
    "logreg.fit(X_train, y_train)"
   ]
  },
  {
   "cell_type": "code",
   "execution_count": 67,
   "metadata": {
    "collapsed": false
   },
   "outputs": [
    {
     "name": "stdout",
     "output_type": "stream",
     "text": [
      "[[ 3.99916218 -0.87146928  0.98080075 -1.50670336 -0.19912437 -1.71105092]]\n"
     ]
    }
   ],
   "source": [
    "# look at coefficients\n",
    "\n",
    "print logreg.coef_"
   ]
  },
  {
   "cell_type": "code",
   "execution_count": 68,
   "metadata": {
    "collapsed": false
   },
   "outputs": [
    {
     "name": "stdout",
     "output_type": "stream",
     "text": [
      "0.406672812828\n"
     ]
    }
   ],
   "source": [
    "# evaluate log loss\n",
    "\n",
    "from sklearn import metrics\n",
    "\n",
    "y_pred_proba = logreg.predict_proba(X_test)\n",
    "print metrics.log_loss(y_test, y_pred_proba)"
   ]
  },
  {
   "cell_type": "code",
   "execution_count": 69,
   "metadata": {
    "collapsed": false
   },
   "outputs": [
    {
     "name": "stdout",
     "output_type": "stream",
     "text": [
      "0.520362530222\n"
     ]
    }
   ],
   "source": [
    "# evaluate MCC\n",
    "\n",
    "y_pred_class = logreg.predict(X_test)\n",
    "print metrics.matthews_corrcoef(y_test, y_pred_class)"
   ]
  },
  {
   "cell_type": "code",
   "execution_count": 70,
   "metadata": {
    "collapsed": false
   },
   "outputs": [],
   "source": [
    "# do above with different feature combinations\n",
    "\n",
    "feature_selections = [['197=PNGS', '198=V', '918=S', '439=K', '380=Q', '917=R'], \n",
    "                      ['197=PNGS', '198=V', '918=S', '439=K', '380=Q'], ['197=PNGS', '198=V', '918=S', '439=K'], \n",
    "                      ['197=PNGS', '198=V', '918=S'], ['197=PNGS', '198=V'], ['197=PNGS']]\n",
    "\n",
    "log_loss_scores = []\n",
    "MCC_scores = []\n",
    "\n",
    "for selection in feature_selections:\n",
    "    X = features_df[selection]\n",
    "    y = neutdf.is_neutralized\n",
    "    X_train, X_test, y_train, y_test = train_test_split(X, y, stratify=y, \n",
    "                                                    test_size=0.3)\n",
    "    logreg = LogisticRegression(C=1e9)\n",
    "    logreg.fit(X_train, y_train)\n",
    "    y_pred_proba = logreg.predict_proba(X_test)\n",
    "    log_loss = metrics.log_loss(y_test, y_pred_proba)\n",
    "    y_pred_class = logreg.predict(X_test)\n",
    "    MCC = metrics.matthews_corrcoef(y_test, y_pred_class)\n",
    "    log_loss_scores.append(log_loss)\n",
    "    MCC_scores.append(MCC)"
   ]
  },
  {
   "cell_type": "code",
   "execution_count": 72,
   "metadata": {
    "collapsed": false
   },
   "outputs": [
    {
     "data": {
      "text/html": [
       "<div>\n",
       "<table border=\"1\" class=\"dataframe\">\n",
       "  <thead>\n",
       "    <tr style=\"text-align: right;\">\n",
       "      <th></th>\n",
       "      <th>MCC</th>\n",
       "      <th>features</th>\n",
       "      <th>log loss</th>\n",
       "    </tr>\n",
       "  </thead>\n",
       "  <tbody>\n",
       "    <tr>\n",
       "      <th>2</th>\n",
       "      <td>0.630985</td>\n",
       "      <td>[197=PNGS, 198=V, 918=S, 439=K]</td>\n",
       "      <td>0.369589</td>\n",
       "    </tr>\n",
       "    <tr>\n",
       "      <th>1</th>\n",
       "      <td>0.573858</td>\n",
       "      <td>[197=PNGS, 198=V, 918=S, 439=K, 380=Q]</td>\n",
       "      <td>0.434469</td>\n",
       "    </tr>\n",
       "    <tr>\n",
       "      <th>5</th>\n",
       "      <td>0.528498</td>\n",
       "      <td>[197=PNGS]</td>\n",
       "      <td>0.453648</td>\n",
       "    </tr>\n",
       "    <tr>\n",
       "      <th>0</th>\n",
       "      <td>0.460378</td>\n",
       "      <td>[197=PNGS, 198=V, 918=S, 439=K, 380=Q, 917=R]</td>\n",
       "      <td>0.510261</td>\n",
       "    </tr>\n",
       "    <tr>\n",
       "      <th>3</th>\n",
       "      <td>0.381582</td>\n",
       "      <td>[197=PNGS, 198=V, 918=S]</td>\n",
       "      <td>0.449387</td>\n",
       "    </tr>\n",
       "    <tr>\n",
       "      <th>4</th>\n",
       "      <td>0.313184</td>\n",
       "      <td>[197=PNGS, 198=V]</td>\n",
       "      <td>0.721020</td>\n",
       "    </tr>\n",
       "  </tbody>\n",
       "</table>\n",
       "</div>"
      ],
      "text/plain": [
       "        MCC                                       features  log loss\n",
       "2  0.630985                [197=PNGS, 198=V, 918=S, 439=K]  0.369589\n",
       "1  0.573858         [197=PNGS, 198=V, 918=S, 439=K, 380=Q]  0.434469\n",
       "5  0.528498                                     [197=PNGS]  0.453648\n",
       "0  0.460378  [197=PNGS, 198=V, 918=S, 439=K, 380=Q, 917=R]  0.510261\n",
       "3  0.381582                       [197=PNGS, 198=V, 918=S]  0.449387\n",
       "4  0.313184                              [197=PNGS, 198=V]  0.721020"
      ]
     },
     "execution_count": 72,
     "metadata": {},
     "output_type": "execute_result"
    }
   ],
   "source": [
    "# make a dataframe of the above\n",
    "\n",
    "log_reg_eval = pd.DataFrame({'features': feature_selections, 'log loss': log_loss_scores, 'MCC': MCC_scores})\n",
    "log_reg_eval.sort_values('MCC', ascending=False)"
   ]
  },
  {
   "cell_type": "code",
   "execution_count": null,
   "metadata": {
    "collapsed": true
   },
   "outputs": [],
   "source": []
  },
  {
   "cell_type": "code",
   "execution_count": null,
   "metadata": {
    "collapsed": true
   },
   "outputs": [],
   "source": []
  }
 ],
 "metadata": {
  "kernelspec": {
   "display_name": "Python 2",
   "language": "python",
   "name": "python2"
  },
  "language_info": {
   "codemirror_mode": {
    "name": "ipython",
    "version": 2
   },
   "file_extension": ".py",
   "mimetype": "text/x-python",
   "name": "python",
   "nbconvert_exporter": "python",
   "pygments_lexer": "ipython2",
   "version": "2.7.11"
  }
 },
 "nbformat": 4,
 "nbformat_minor": 0
}
