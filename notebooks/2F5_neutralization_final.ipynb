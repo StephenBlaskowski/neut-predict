{
 "cells": [
  {
   "cell_type": "code",
   "execution_count": 2,
   "metadata": {
    "collapsed": true
   },
   "outputs": [],
   "source": [
    "import pandas as pd\n",
    "import numpy as np\n",
    "from Bio import SeqIO\n",
    "from Bio.Alphabet import generic_protein\n",
    "import re"
   ]
  },
  {
   "cell_type": "code",
   "execution_count": 3,
   "metadata": {
    "collapsed": true
   },
   "outputs": [],
   "source": [
    "# read in neut data\n",
    "\n",
    "neut_file_path = '../data/2F5_IC50_IC80.txt'\n",
    "\n",
    "neuts = pd.read_table(neut_file_path, header=0)\n",
    "neuts.rename(columns={'Virus name':'name', \n",
    "              'Subtype':'subtype',\n",
    "              '2F5: IC50 geometric mean':'IC50',\n",
    "              '2F5: IC80 geometric mean':'IC80'}, inplace=True)\n",
    "# neuts.set_index('name', inplace=True)\n",
    "neuts.drop(['Tier', 'Country', 'Accession', 'Alias', 'Seq data', \n",
    "            ' 2F5: IC50 by study', ' 2F5: IC80 by study', 'Unnamed: 11'], \n",
    "            axis=1, inplace=True)\n",
    "neuts = neuts[neuts.name != 'Geometric mean of detected']\n",
    "neuts = neuts[neuts.name != 'Geometric mean of all(undetected set to 100)'] \n",
    "neuts = neuts[neuts.name != '% detected (detected/total)'] "
   ]
  },
  {
   "cell_type": "code",
   "execution_count": 4,
   "metadata": {
    "collapsed": false
   },
   "outputs": [],
   "source": [
    "# read in sequence data\n",
    "\n",
    "virus_name = []\n",
    "virus_seq = []\n",
    "passed_seqs = []\n",
    "\n",
    "fasta_file_path = '../data/2F5 virus aa align.fasta'\n",
    "\n",
    "for seq_record in SeqIO.parse(fasta_file_path, 'fasta', \n",
    "                              alphabet=generic_protein):\n",
    "    try:\n",
    "        virus_name.append(seq_record.id.split('.')[2])\n",
    "        virus_seq.append(seq_record.seq)\n",
    "    except:\n",
    "        passed_seqs.append(seq_record)\n",
    "\n",
    "HXB2 = passed_seqs[0]"
   ]
  },
  {
   "cell_type": "code",
   "execution_count": 5,
   "metadata": {
    "collapsed": true
   },
   "outputs": [],
   "source": [
    "# convert sequence data to DataFrame\n",
    "\n",
    "seq_dict = {'sequence' : pd.Series(virus_seq, index=virus_name, \n",
    "                                   dtype='object')}\n",
    "seq_df = pd.DataFrame(seq_dict)"
   ]
  },
  {
   "cell_type": "code",
   "execution_count": 6,
   "metadata": {
    "collapsed": true
   },
   "outputs": [],
   "source": [
    "# merge neuts and seq_df\n",
    "\n",
    "neutdf = pd.merge(neuts, seq_df, how='inner', left_on='name', \n",
    "                    right_index=True)"
   ]
  },
  {
   "cell_type": "code",
   "execution_count": 7,
   "metadata": {
    "collapsed": true
   },
   "outputs": [],
   "source": [
    "# define neut categories\n",
    "\n",
    "def binarize_IC50(row):\n",
    "    if '>' in row.IC50:\n",
    "        return 0\n",
    "    else:\n",
    "        value = float(row.IC50)\n",
    "        return 0 if value > 50 else 1\n",
    "\n",
    "neutdf['is_neutralized'] = neutdf.apply(binarize_IC50, axis=1)\n"
   ]
  },
  {
   "cell_type": "code",
   "execution_count": 8,
   "metadata": {
    "collapsed": false
   },
   "outputs": [
    {
     "data": {
      "text/html": [
       "<div>\n",
       "<table border=\"1\" class=\"dataframe\">\n",
       "  <thead>\n",
       "    <tr style=\"text-align: right;\">\n",
       "      <th></th>\n",
       "      <th>name</th>\n",
       "      <th>subtype</th>\n",
       "      <th>IC50</th>\n",
       "      <th>IC80</th>\n",
       "      <th>sequence</th>\n",
       "      <th>is_neutralized</th>\n",
       "    </tr>\n",
       "  </thead>\n",
       "  <tbody>\n",
       "    <tr>\n",
       "      <th>0</th>\n",
       "      <td>0013095_2_11</td>\n",
       "      <td>C</td>\n",
       "      <td>UD:&gt;50</td>\n",
       "      <td>UD:&gt;50</td>\n",
       "      <td>(M, R, V, K, G, I, L, R, N, Y, -, Q, Q, W, W, ...</td>\n",
       "      <td>0</td>\n",
       "    </tr>\n",
       "    <tr>\n",
       "      <th>1</th>\n",
       "      <td>001428_2_42</td>\n",
       "      <td>C</td>\n",
       "      <td>UD:&gt;50</td>\n",
       "      <td>UD:&gt;50</td>\n",
       "      <td>(M, R, V, R, G, I, L, R, N, Y, -, Q, Q, W, W, ...</td>\n",
       "      <td>0</td>\n",
       "    </tr>\n",
       "    <tr>\n",
       "      <th>2</th>\n",
       "      <td>0041_V3_C18</td>\n",
       "      <td>C</td>\n",
       "      <td>UD:&gt;50</td>\n",
       "      <td>-</td>\n",
       "      <td>(M, R, V, R, G, I, L, R, N, W, -, Q, L, W, W, ...</td>\n",
       "      <td>0</td>\n",
       "    </tr>\n",
       "    <tr>\n",
       "      <th>3</th>\n",
       "      <td>0077_V1_C16</td>\n",
       "      <td>C</td>\n",
       "      <td>UD:&gt;50</td>\n",
       "      <td>UD:&gt;50</td>\n",
       "      <td>(M, R, V, M, G, S, M, R, N, C, -, Q, R, W, W, ...</td>\n",
       "      <td>0</td>\n",
       "    </tr>\n",
       "    <tr>\n",
       "      <th>4</th>\n",
       "      <td>00836_2_5</td>\n",
       "      <td>C</td>\n",
       "      <td>UD:&gt;50</td>\n",
       "      <td>UD:&gt;50</td>\n",
       "      <td>(M, R, V, R, G, I, R, R, N, Y, -, Q, H, W, W, ...</td>\n",
       "      <td>0</td>\n",
       "    </tr>\n",
       "  </tbody>\n",
       "</table>\n",
       "</div>"
      ],
      "text/plain": [
       "           name subtype    IC50    IC80  \\\n",
       "0  0013095_2_11       C  UD:>50  UD:>50   \n",
       "1   001428_2_42       C  UD:>50  UD:>50   \n",
       "2   0041_V3_C18       C  UD:>50       -   \n",
       "3   0077_V1_C16       C  UD:>50  UD:>50   \n",
       "4     00836_2_5       C  UD:>50  UD:>50   \n",
       "\n",
       "                                            sequence  is_neutralized  \n",
       "0  (M, R, V, K, G, I, L, R, N, Y, -, Q, Q, W, W, ...               0  \n",
       "1  (M, R, V, R, G, I, L, R, N, Y, -, Q, Q, W, W, ...               0  \n",
       "2  (M, R, V, R, G, I, L, R, N, W, -, Q, L, W, W, ...               0  \n",
       "3  (M, R, V, M, G, S, M, R, N, C, -, Q, R, W, W, ...               0  \n",
       "4  (M, R, V, R, G, I, R, R, N, Y, -, Q, H, W, W, ...               0  "
      ]
     },
     "execution_count": 8,
     "metadata": {},
     "output_type": "execute_result"
    }
   ],
   "source": [
    "neutdf.head()"
   ]
  },
  {
   "cell_type": "markdown",
   "metadata": {},
   "source": [
    "# Feature Extraction\n",
    "\n",
    "    Tokenize sequences w/ position value and amino acid identity\n",
    "    Tokenize PNGS sites with a regex\n",
    "    Vectorize tokens and create dataframe of dummy variables\n",
    "    "
   ]
  },
  {
   "cell_type": "code",
   "execution_count": 9,
   "metadata": {
    "collapsed": true
   },
   "outputs": [],
   "source": [
    "# define function to tokenize sequence\n",
    "# input = sequence object, output = dictionary where index is position and\n",
    "# token is amino acid identity at that position\n",
    "\n",
    "amino_acids = ['A', 'R', 'N', 'D', 'C', 'Q', 'E', 'G', 'H', 'I', \n",
    "               'L', 'K', 'M', 'F', 'P', 'S', 'T', 'W', 'Y', 'V']\n",
    "\n",
    "def sequence_tokenizer(seq):\n",
    "    \"\"\"\n",
    "    \n",
    "    \"\"\"\n",
    "    seq_list = list(str(seq).strip('*'))\n",
    "    working_peptide = list(enumerate(seq_list, start=1))\n",
    "    peptide_dict = {}\n",
    "    for index, amino in working_peptide:\n",
    "        if amino in amino_acids:\n",
    "            peptide_dict.update({index : amino})\n",
    "        else: \n",
    "            pass\n",
    "    return peptide_dict\n"
   ]
  },
  {
   "cell_type": "code",
   "execution_count": 10,
   "metadata": {
    "collapsed": true
   },
   "outputs": [],
   "source": [
    "# define function to tokenize potential N-linked glycosylation sites \n",
    "# (PNGS) in sequence\n",
    "# input = sequence object, output = dictionary where index is position\n",
    "# and token = 'PNGS'\n",
    "\n",
    "def PNGS_tokenizer(seq):\n",
    "    seq_string = str(seq).strip('*')\n",
    "    PNGS_dict = {m.start(0)+1 : 'PNGS' \n",
    "                for m in re.finditer(r\"N[^P][ST]\", seq_string)}\n",
    "    return PNGS_dict\n"
   ]
  },
  {
   "cell_type": "code",
   "execution_count": 11,
   "metadata": {
    "collapsed": true
   },
   "outputs": [],
   "source": [
    "# define feature extraction function where input = seq object and \n",
    "# output = one dictionary of all features\n",
    "\n",
    "def get_features(seq, use_positions=True, use_PNGS=True):\n",
    "    features = {}\n",
    "    if use_positions:\n",
    "        sequence_features = sequence_tokenizer(seq)\n",
    "        features.update(sequence_features)\n",
    "    if use_PNGS:\n",
    "        PNGS_features = PNGS_tokenizer(seq)\n",
    "        features.update(PNGS_features)\n",
    "    return features\n"
   ]
  },
  {
   "cell_type": "code",
   "execution_count": 12,
   "metadata": {
    "collapsed": true
   },
   "outputs": [],
   "source": [
    "# map get_features function to sequence column of neutdf\n",
    "\n",
    "neutdf['features_dict'] = neutdf.sequence.map(get_features)\n"
   ]
  },
  {
   "cell_type": "code",
   "execution_count": 13,
   "metadata": {
    "collapsed": false
   },
   "outputs": [
    {
     "data": {
      "text/html": [
       "<div>\n",
       "<table border=\"1\" class=\"dataframe\">\n",
       "  <thead>\n",
       "    <tr style=\"text-align: right;\">\n",
       "      <th></th>\n",
       "      <th>name</th>\n",
       "      <th>subtype</th>\n",
       "      <th>IC50</th>\n",
       "      <th>IC80</th>\n",
       "      <th>sequence</th>\n",
       "      <th>is_neutralized</th>\n",
       "      <th>features_dict</th>\n",
       "    </tr>\n",
       "  </thead>\n",
       "  <tbody>\n",
       "    <tr>\n",
       "      <th>0</th>\n",
       "      <td>0013095_2_11</td>\n",
       "      <td>C</td>\n",
       "      <td>UD:&gt;50</td>\n",
       "      <td>UD:&gt;50</td>\n",
       "      <td>(M, R, V, K, G, I, L, R, N, Y, -, Q, Q, W, W, ...</td>\n",
       "      <td>0</td>\n",
       "      <td>{1: u'M', 2: u'R', 3: u'V', 4: u'K', 5: u'G', ...</td>\n",
       "    </tr>\n",
       "    <tr>\n",
       "      <th>1</th>\n",
       "      <td>001428_2_42</td>\n",
       "      <td>C</td>\n",
       "      <td>UD:&gt;50</td>\n",
       "      <td>UD:&gt;50</td>\n",
       "      <td>(M, R, V, R, G, I, L, R, N, Y, -, Q, Q, W, W, ...</td>\n",
       "      <td>0</td>\n",
       "      <td>{1: u'M', 2: u'R', 3: u'V', 4: u'R', 5: u'G', ...</td>\n",
       "    </tr>\n",
       "    <tr>\n",
       "      <th>2</th>\n",
       "      <td>0041_V3_C18</td>\n",
       "      <td>C</td>\n",
       "      <td>UD:&gt;50</td>\n",
       "      <td>-</td>\n",
       "      <td>(M, R, V, R, G, I, L, R, N, W, -, Q, L, W, W, ...</td>\n",
       "      <td>0</td>\n",
       "      <td>{1: u'M', 2: u'R', 3: u'V', 4: u'R', 5: u'G', ...</td>\n",
       "    </tr>\n",
       "    <tr>\n",
       "      <th>3</th>\n",
       "      <td>0077_V1_C16</td>\n",
       "      <td>C</td>\n",
       "      <td>UD:&gt;50</td>\n",
       "      <td>UD:&gt;50</td>\n",
       "      <td>(M, R, V, M, G, S, M, R, N, C, -, Q, R, W, W, ...</td>\n",
       "      <td>0</td>\n",
       "      <td>{1: u'M', 2: u'R', 3: u'V', 4: u'M', 5: u'G', ...</td>\n",
       "    </tr>\n",
       "    <tr>\n",
       "      <th>4</th>\n",
       "      <td>00836_2_5</td>\n",
       "      <td>C</td>\n",
       "      <td>UD:&gt;50</td>\n",
       "      <td>UD:&gt;50</td>\n",
       "      <td>(M, R, V, R, G, I, R, R, N, Y, -, Q, H, W, W, ...</td>\n",
       "      <td>0</td>\n",
       "      <td>{1: u'M', 2: u'R', 3: u'V', 4: u'R', 5: u'G', ...</td>\n",
       "    </tr>\n",
       "  </tbody>\n",
       "</table>\n",
       "</div>"
      ],
      "text/plain": [
       "           name subtype    IC50    IC80  \\\n",
       "0  0013095_2_11       C  UD:>50  UD:>50   \n",
       "1   001428_2_42       C  UD:>50  UD:>50   \n",
       "2   0041_V3_C18       C  UD:>50       -   \n",
       "3   0077_V1_C16       C  UD:>50  UD:>50   \n",
       "4     00836_2_5       C  UD:>50  UD:>50   \n",
       "\n",
       "                                            sequence  is_neutralized  \\\n",
       "0  (M, R, V, K, G, I, L, R, N, Y, -, Q, Q, W, W, ...               0   \n",
       "1  (M, R, V, R, G, I, L, R, N, Y, -, Q, Q, W, W, ...               0   \n",
       "2  (M, R, V, R, G, I, L, R, N, W, -, Q, L, W, W, ...               0   \n",
       "3  (M, R, V, M, G, S, M, R, N, C, -, Q, R, W, W, ...               0   \n",
       "4  (M, R, V, R, G, I, R, R, N, Y, -, Q, H, W, W, ...               0   \n",
       "\n",
       "                                       features_dict  \n",
       "0  {1: u'M', 2: u'R', 3: u'V', 4: u'K', 5: u'G', ...  \n",
       "1  {1: u'M', 2: u'R', 3: u'V', 4: u'R', 5: u'G', ...  \n",
       "2  {1: u'M', 2: u'R', 3: u'V', 4: u'R', 5: u'G', ...  \n",
       "3  {1: u'M', 2: u'R', 3: u'V', 4: u'M', 5: u'G', ...  \n",
       "4  {1: u'M', 2: u'R', 3: u'V', 4: u'R', 5: u'G', ...  "
      ]
     },
     "execution_count": 13,
     "metadata": {},
     "output_type": "execute_result"
    }
   ],
   "source": [
    "neutdf.head()"
   ]
  },
  {
   "cell_type": "code",
   "execution_count": 14,
   "metadata": {
    "collapsed": false
   },
   "outputs": [
    {
     "data": {
      "text/html": [
       "<div>\n",
       "<table border=\"1\" class=\"dataframe\">\n",
       "  <thead>\n",
       "    <tr style=\"text-align: right;\">\n",
       "      <th></th>\n",
       "      <th>100=A</th>\n",
       "      <th>100=D</th>\n",
       "      <th>100=K</th>\n",
       "      <th>100=N</th>\n",
       "      <th>100=R</th>\n",
       "      <th>100=S</th>\n",
       "      <th>100=T</th>\n",
       "      <th>101=P</th>\n",
       "      <th>102=H</th>\n",
       "      <th>102=I</th>\n",
       "      <th>...</th>\n",
       "      <th>99=P</th>\n",
       "      <th>9=D</th>\n",
       "      <th>9=G</th>\n",
       "      <th>9=H</th>\n",
       "      <th>9=I</th>\n",
       "      <th>9=K</th>\n",
       "      <th>9=N</th>\n",
       "      <th>9=R</th>\n",
       "      <th>9=S</th>\n",
       "      <th>9=T</th>\n",
       "    </tr>\n",
       "  </thead>\n",
       "  <tbody>\n",
       "    <tr>\n",
       "      <th>0</th>\n",
       "      <td>0</td>\n",
       "      <td>0</td>\n",
       "      <td>0</td>\n",
       "      <td>1</td>\n",
       "      <td>0</td>\n",
       "      <td>0</td>\n",
       "      <td>0</td>\n",
       "      <td>1</td>\n",
       "      <td>0</td>\n",
       "      <td>0</td>\n",
       "      <td>...</td>\n",
       "      <td>1</td>\n",
       "      <td>0</td>\n",
       "      <td>0</td>\n",
       "      <td>0</td>\n",
       "      <td>0</td>\n",
       "      <td>0</td>\n",
       "      <td>1</td>\n",
       "      <td>0</td>\n",
       "      <td>0</td>\n",
       "      <td>0</td>\n",
       "    </tr>\n",
       "    <tr>\n",
       "      <th>1</th>\n",
       "      <td>0</td>\n",
       "      <td>0</td>\n",
       "      <td>0</td>\n",
       "      <td>1</td>\n",
       "      <td>0</td>\n",
       "      <td>0</td>\n",
       "      <td>0</td>\n",
       "      <td>1</td>\n",
       "      <td>0</td>\n",
       "      <td>0</td>\n",
       "      <td>...</td>\n",
       "      <td>1</td>\n",
       "      <td>0</td>\n",
       "      <td>0</td>\n",
       "      <td>0</td>\n",
       "      <td>0</td>\n",
       "      <td>0</td>\n",
       "      <td>1</td>\n",
       "      <td>0</td>\n",
       "      <td>0</td>\n",
       "      <td>0</td>\n",
       "    </tr>\n",
       "    <tr>\n",
       "      <th>2</th>\n",
       "      <td>0</td>\n",
       "      <td>0</td>\n",
       "      <td>0</td>\n",
       "      <td>1</td>\n",
       "      <td>0</td>\n",
       "      <td>0</td>\n",
       "      <td>0</td>\n",
       "      <td>1</td>\n",
       "      <td>0</td>\n",
       "      <td>0</td>\n",
       "      <td>...</td>\n",
       "      <td>1</td>\n",
       "      <td>0</td>\n",
       "      <td>0</td>\n",
       "      <td>0</td>\n",
       "      <td>0</td>\n",
       "      <td>0</td>\n",
       "      <td>1</td>\n",
       "      <td>0</td>\n",
       "      <td>0</td>\n",
       "      <td>0</td>\n",
       "    </tr>\n",
       "    <tr>\n",
       "      <th>3</th>\n",
       "      <td>0</td>\n",
       "      <td>1</td>\n",
       "      <td>0</td>\n",
       "      <td>0</td>\n",
       "      <td>0</td>\n",
       "      <td>0</td>\n",
       "      <td>0</td>\n",
       "      <td>1</td>\n",
       "      <td>0</td>\n",
       "      <td>0</td>\n",
       "      <td>...</td>\n",
       "      <td>1</td>\n",
       "      <td>0</td>\n",
       "      <td>0</td>\n",
       "      <td>0</td>\n",
       "      <td>0</td>\n",
       "      <td>0</td>\n",
       "      <td>1</td>\n",
       "      <td>0</td>\n",
       "      <td>0</td>\n",
       "      <td>0</td>\n",
       "    </tr>\n",
       "    <tr>\n",
       "      <th>4</th>\n",
       "      <td>0</td>\n",
       "      <td>0</td>\n",
       "      <td>0</td>\n",
       "      <td>1</td>\n",
       "      <td>0</td>\n",
       "      <td>0</td>\n",
       "      <td>0</td>\n",
       "      <td>1</td>\n",
       "      <td>0</td>\n",
       "      <td>0</td>\n",
       "      <td>...</td>\n",
       "      <td>1</td>\n",
       "      <td>0</td>\n",
       "      <td>0</td>\n",
       "      <td>0</td>\n",
       "      <td>0</td>\n",
       "      <td>0</td>\n",
       "      <td>1</td>\n",
       "      <td>0</td>\n",
       "      <td>0</td>\n",
       "      <td>0</td>\n",
       "    </tr>\n",
       "  </tbody>\n",
       "</table>\n",
       "<p>5 rows × 6299 columns</p>\n",
       "</div>"
      ],
      "text/plain": [
       "   100=A  100=D  100=K  100=N  100=R  100=S  100=T  101=P  102=H  102=I ...   \\\n",
       "0      0      0      0      1      0      0      0      1      0      0 ...    \n",
       "1      0      0      0      1      0      0      0      1      0      0 ...    \n",
       "2      0      0      0      1      0      0      0      1      0      0 ...    \n",
       "3      0      1      0      0      0      0      0      1      0      0 ...    \n",
       "4      0      0      0      1      0      0      0      1      0      0 ...    \n",
       "\n",
       "   99=P  9=D  9=G  9=H  9=I  9=K  9=N  9=R  9=S  9=T  \n",
       "0     1    0    0    0    0    0    1    0    0    0  \n",
       "1     1    0    0    0    0    0    1    0    0    0  \n",
       "2     1    0    0    0    0    0    1    0    0    0  \n",
       "3     1    0    0    0    0    0    1    0    0    0  \n",
       "4     1    0    0    0    0    0    1    0    0    0  \n",
       "\n",
       "[5 rows x 6299 columns]"
      ]
     },
     "execution_count": 14,
     "metadata": {},
     "output_type": "execute_result"
    }
   ],
   "source": [
    "# vectorize data and build feature df\n",
    "\n",
    "from sklearn.feature_extraction import DictVectorizer\n",
    "\n",
    "d_vect = DictVectorizer()\n",
    "\n",
    "list_features = list(neutdf.features_dict)\n",
    "sparse_features = d_vect.fit_transform(list_features)\n",
    "name_features = d_vect.get_feature_names()\n",
    "\n",
    "features_df = pd.DataFrame(sparse_features.toarray(), columns=name_features)\n",
    "\n",
    "features_df.head()"
   ]
  },
  {
   "cell_type": "code",
   "execution_count": 15,
   "metadata": {
    "collapsed": false
   },
   "outputs": [
    {
     "data": {
      "text/plain": [
       "791"
      ]
     },
     "execution_count": 15,
     "metadata": {},
     "output_type": "execute_result"
    }
   ],
   "source": [
    "# look up position in HXB2 for it's corresponding coordinate in the MSA\n",
    "\n",
    "reference = sequence_tokenizer(HXB2.seq)\n",
    "decoder = dict(enumerate(reference, start=1))\n",
    "decoder[667]"
   ]
  },
  {
   "cell_type": "code",
   "execution_count": 16,
   "metadata": {
    "collapsed": false
   },
   "outputs": [
    {
     "name": "stdout",
     "output_type": "stream",
     "text": [
      "['791=A', '791=D', '791=E', '791=G', '791=K', '791=N', '791=Q', '791=S', '791=T']\n"
     ]
    }
   ],
   "source": [
    "# Examine features at positions 665 & 667 (MSA: 789 & 791)\n",
    "\n",
    "epitope_features = [col for col in features_df.columns if '791' in col]\n",
    "print epitope_features"
   ]
  },
  {
   "cell_type": "markdown",
   "metadata": {},
   "source": [
    "# Feature Selection\n",
    "\n",
    "    Trim down feature outliers (highly conserved sequences & single variants)\n",
    "    Other feature selection approaches (mRMR, incorporated methods)"
   ]
  },
  {
   "cell_type": "code",
   "execution_count": 17,
   "metadata": {
    "collapsed": true
   },
   "outputs": [],
   "source": [
    "# # define function to drop features that are shared by less than X% of sequences and/or more\n",
    "# # than 1-X% of sequences\n",
    "\n",
    "# def trim_feature_extremes(dataframe, percent_to_trim):\n",
    "#     total_rows = dataframe.shape[0]\n",
    "#     upper_threshold = (1 - percent_to_trim) * total_rows\n",
    "#     lower_threshold = percent_to_trim * total_rows\n",
    "#     column_filter_list = list((dataframe.sum(axis=0) >= lower_threshold) &\n",
    "#                                 (dataframe.sum(axis=0) < upper_threshold)) \n",
    "#                                 #True = keep, False = drop\n",
    "#     column_filter_dict = zip(list(dataframe.columns), column_filter_list)\n",
    "#     columns_to_keep = [column for column, keepornot in column_filter_dict \n",
    "#                         if keepornot == True]\n",
    "#     output_df = dataframe[columns_to_keep]\n",
    "#     return output_df\n",
    " "
   ]
  },
  {
   "cell_type": "code",
   "execution_count": 18,
   "metadata": {
    "collapsed": false
   },
   "outputs": [],
   "source": [
    "# trimmed_feature_df = trim_feature_extremes(features_df, 0.05)\n",
    "\n",
    "# trimmed_feature_df.shape"
   ]
  },
  {
   "cell_type": "markdown",
   "metadata": {},
   "source": [
    "# Build Decision Tree Classifier\n",
    "\n",
    "    Use for feature selection\n"
   ]
  },
  {
   "cell_type": "code",
   "execution_count": 19,
   "metadata": {
    "collapsed": false
   },
   "outputs": [],
   "source": [
    "# define X & y\n",
    "\n",
    "X = features_df\n",
    "y = neutdf.is_neutralized\n"
   ]
  },
  {
   "cell_type": "code",
   "execution_count": 20,
   "metadata": {
    "collapsed": false
   },
   "outputs": [
    {
     "name": "stdout",
     "output_type": "stream",
     "text": [
      "[0.89712931995540701, 0.95275501672240792, 0.94213628762541801, 0.92775153288740242, 0.91526142697881807, 0.92825989409141596, 0.92425097547380142, 0.90358695652173915, 0.88825808249721283, 0.88423801560758086, 0.89194397993311036, 0.89029264214046822, 0.90732162764771451, 0.88633500557413603, 0.90054905239687844, 0.89954570791527311, 0.89495373467112616, 0.90179654403567433, 0.89837513935340019, 0.90448578595317719, 0.87918589743589748, 0.89438963210702338, 0.87992474916387953, 0.89412430323299874, 0.90108528428093648, 0.90881995540691185, 0.89887681159420296, 0.90514771460423638, 0.89662597547380152, 0.89620122630992183, 0.89445206243032338, 0.89706521739130429, 0.88775641025641028, 0.90072296544035679, 0.89648662207357854, 0.89848662207357877, 0.8966605351170569, 0.87223244147157197, 0.89363712374581927, 0.89373411371237466, 0.8851220735785954, 0.89269648829431447, 0.89704431438127086, 0.89820122630992194, 0.8896170568561873, 0.90707079152731329, 0.90021488294314378, 0.89018115942028975, 0.89397853957636575, 0.90435284280936445, 0.88644648829431438, 0.90062597547380141, 0.90714771460423616, 0.89018115942028975, 0.89046655518394646, 0.90665969899665555, 0.90514771460423626, 0.91081995540691207, 0.91284002229654404, 0.89937848383500563, 0.88427257525083613, 0.88975641025641017, 0.89838963210702349, 0.88767948717948708, 0.88611872909698997, 0.87390468227424756, 0.90197045707915269, 0.9003751393534003, 0.89470289855072482, 0.8857845596432552, 0.89487681159420307, 0.89252898550724658, 0.90089687848383504, 0.88625167224080281, 0.8931075808249721, 0.89503065774804913, 0.8967028985507246, 0.90045206243032327, 0.91049219620958743, 0.90024219620958768, 0.8828366778149388, 0.88985340022296544, 0.89871655518394655, 0.89052898550724646, 0.90681995540691196, 0.88434949832775922, 0.90116220735785946, 0.89402731326644369, 0.89180462653288739, 0.88377090301003347, 0.88800724637681161, 0.89553232998885179, 0.88834866220735775, 0.90856911928651063, 0.89954570791527311, 0.89018115942028986, 0.90316220735785946, 0.896041806020067, 0.89695373467112594, 0.89720457079152727]\n"
     ]
    }
   ],
   "source": [
    "# calculate best depth using roc_auc score\n",
    "\n",
    "from sklearn.tree import DecisionTreeClassifier\n",
    "\n",
    "max_depth_range = range(1, 101)\n",
    "\n",
    "roc_auc_scores = []\n",
    "\n",
    "from sklearn.cross_validation import cross_val_score\n",
    "for depth in max_depth_range:\n",
    "    treeclass = DecisionTreeClassifier(max_depth=depth)\n",
    "    score = cross_val_score(treeclass, X, y, scoring='roc_auc', cv=10)\n",
    "    roc_auc_scores.append(np.mean(score))\n",
    "    \n",
    "print roc_auc_scores"
   ]
  },
  {
   "cell_type": "code",
   "execution_count": 21,
   "metadata": {
    "collapsed": false
   },
   "outputs": [
    {
     "data": {
      "image/png": "[encoded data removed]",
      "text/plain": [
       "<matplotlib.figure.Figure at 0x10a42bf90>"
      ]
     },
     "metadata": {},
     "output_type": "display_data"
    }
   ],
   "source": [
    "# graph roc_auc_scores vs max depth\n",
    "\n",
    "import matplotlib.pyplot as plt\n",
    "%matplotlib inline\n",
    "\n",
    "plt.plot(max_depth_range, roc_auc_scores)\n",
    "plt.xlabel('max depth')\n",
    "plt.ylabel('roc auc score')\n",
    "\n",
    "plt.rcdefaults()"
   ]
  },
  {
   "cell_type": "code",
   "execution_count": 22,
   "metadata": {
    "collapsed": false
   },
   "outputs": [
    {
     "data": {
      "text/plain": [
       "(0.95275501672240792, 2)"
      ]
     },
     "execution_count": 22,
     "metadata": {},
     "output_type": "execute_result"
    }
   ],
   "source": [
    "sorted(zip(roc_auc_scores, max_depth_range), reverse=True)[0]"
   ]
  },
  {
   "cell_type": "code",
   "execution_count": 23,
   "metadata": {
    "collapsed": false
   },
   "outputs": [
    {
     "data": {
      "text/plain": [
       "DecisionTreeClassifier(class_weight=None, criterion='gini', max_depth=3,\n",
       "            max_features=None, max_leaf_nodes=None, min_samples_leaf=1,\n",
       "            min_samples_split=2, min_weight_fraction_leaf=0.0,\n",
       "            presort=False, random_state=None, splitter='best')"
      ]
     },
     "execution_count": 23,
     "metadata": {},
     "output_type": "execute_result"
    }
   ],
   "source": [
    "# fit tree using max depth of 3\n",
    "\n",
    "treeclass = DecisionTreeClassifier(max_depth=3)\n",
    "treeclass.fit(X, y)"
   ]
  },
  {
   "cell_type": "code",
   "execution_count": 70,
   "metadata": {
    "collapsed": false
   },
   "outputs": [
    {
     "data": {
      "text/html": [
       "<div>\n",
       "<table border=\"1\" class=\"dataframe\">\n",
       "  <thead>\n",
       "    <tr style=\"text-align: right;\">\n",
       "      <th></th>\n",
       "      <th>feature</th>\n",
       "      <th>importance</th>\n",
       "    </tr>\n",
       "  </thead>\n",
       "  <tbody>\n",
       "    <tr>\n",
       "      <th>5088</th>\n",
       "      <td>789=K</td>\n",
       "      <td>0.793847</td>\n",
       "    </tr>\n",
       "    <tr>\n",
       "      <th>5097</th>\n",
       "      <td>791=A</td>\n",
       "      <td>0.136087</td>\n",
       "    </tr>\n",
       "    <tr>\n",
       "      <th>967</th>\n",
       "      <td>197=R</td>\n",
       "      <td>0.032526</td>\n",
       "    </tr>\n",
       "    <tr>\n",
       "      <th>5083</th>\n",
       "      <td>788=D</td>\n",
       "      <td>0.018323</td>\n",
       "    </tr>\n",
       "    <tr>\n",
       "      <th>1088</th>\n",
       "      <td>215=E</td>\n",
       "      <td>0.009659</td>\n",
       "    </tr>\n",
       "  </tbody>\n",
       "</table>\n",
       "</div>"
      ],
      "text/plain": [
       "     feature  importance\n",
       "5088   789=K    0.793847\n",
       "5097   791=A    0.136087\n",
       "967    197=R    0.032526\n",
       "5083   788=D    0.018323\n",
       "1088   215=E    0.009659"
      ]
     },
     "execution_count": 70,
     "metadata": {},
     "output_type": "execute_result"
    }
   ],
   "source": [
    "# get feature importances\n",
    "\n",
    "feat_import = pd.DataFrame({'feature': features_df.columns, 'importance': treeclass.feature_importances_})\n",
    "feat_import.sort_values('importance', ascending=False).head()"
   ]
  },
  {
   "cell_type": "code",
   "execution_count": 71,
   "metadata": {
    "collapsed": false
   },
   "outputs": [],
   "source": [
    "# look at other feature importances at same sites\n",
    "\n",
    "features_789 = [feat for feat in feat_import.feature if '789' in feat]\n",
    "features_791 = [feat for feat in feat_import.feature if '791' in feat]"
   ]
  },
  {
   "cell_type": "code",
   "execution_count": 72,
   "metadata": {
    "collapsed": false
   },
   "outputs": [
    {
     "data": {
      "text/html": [
       "<div>\n",
       "<table border=\"1\" class=\"dataframe\">\n",
       "  <thead>\n",
       "    <tr style=\"text-align: right;\">\n",
       "      <th>feature</th>\n",
       "      <th>789=E</th>\n",
       "      <th>789=K</th>\n",
       "      <th>789=N</th>\n",
       "      <th>789=Q</th>\n",
       "      <th>789=R</th>\n",
       "      <th>789=S</th>\n",
       "      <th>789=T</th>\n",
       "    </tr>\n",
       "  </thead>\n",
       "  <tbody>\n",
       "    <tr>\n",
       "      <th>importance</th>\n",
       "      <td>0</td>\n",
       "      <td>0.793847</td>\n",
       "      <td>0</td>\n",
       "      <td>0</td>\n",
       "      <td>0</td>\n",
       "      <td>0</td>\n",
       "      <td>0</td>\n",
       "    </tr>\n",
       "  </tbody>\n",
       "</table>\n",
       "</div>"
      ],
      "text/plain": [
       "feature     789=E     789=K  789=N  789=Q  789=R  789=S  789=T\n",
       "importance      0  0.793847      0      0      0      0      0"
      ]
     },
     "execution_count": 72,
     "metadata": {},
     "output_type": "execute_result"
    }
   ],
   "source": [
    "feat_import.set_index('feature', inplace=True)\n",
    "import_feat = feat_import.transpose()\n",
    "import_feat[features_789]"
   ]
  },
  {
   "cell_type": "code",
   "execution_count": 73,
   "metadata": {
    "collapsed": false
   },
   "outputs": [
    {
     "data": {
      "text/html": [
       "<div>\n",
       "<table border=\"1\" class=\"dataframe\">\n",
       "  <thead>\n",
       "    <tr style=\"text-align: right;\">\n",
       "      <th>feature</th>\n",
       "      <th>791=A</th>\n",
       "      <th>791=D</th>\n",
       "      <th>791=E</th>\n",
       "      <th>791=G</th>\n",
       "      <th>791=K</th>\n",
       "      <th>791=N</th>\n",
       "      <th>791=Q</th>\n",
       "      <th>791=S</th>\n",
       "      <th>791=T</th>\n",
       "    </tr>\n",
       "  </thead>\n",
       "  <tbody>\n",
       "    <tr>\n",
       "      <th>importance</th>\n",
       "      <td>0.136087</td>\n",
       "      <td>0</td>\n",
       "      <td>0</td>\n",
       "      <td>0</td>\n",
       "      <td>0</td>\n",
       "      <td>0</td>\n",
       "      <td>0</td>\n",
       "      <td>0</td>\n",
       "      <td>0</td>\n",
       "    </tr>\n",
       "  </tbody>\n",
       "</table>\n",
       "</div>"
      ],
      "text/plain": [
       "feature        791=A  791=D  791=E  791=G  791=K  791=N  791=Q  791=S  791=T\n",
       "importance  0.136087      0      0      0      0      0      0      0      0"
      ]
     },
     "execution_count": 73,
     "metadata": {},
     "output_type": "execute_result"
    }
   ],
   "source": [
    "import_feat[features_791]"
   ]
  },
  {
   "cell_type": "markdown",
   "metadata": {},
   "source": [
    "# Build Random Forest\n",
    "    \n",
    "    Use randomized grid search CV for n_estimators, max_features"
   ]
  },
  {
   "cell_type": "code",
   "execution_count": 142,
   "metadata": {
    "collapsed": true
   },
   "outputs": [],
   "source": [
    "# from sklearn.ensemble import RandomForestClassifier\n",
    "# from sklearn.grid_search import RandomizedSearchCV\n",
    "\n",
    "# foreclass = RandomForestClassifier()"
   ]
  },
  {
   "cell_type": "code",
   "execution_count": 143,
   "metadata": {
    "collapsed": true
   },
   "outputs": [],
   "source": [
    "# # define parameter ranges\n",
    "\n",
    "# estimators_range = range(1, 1500)\n",
    "# feature_range = range(1, 1350, 20)"
   ]
  },
  {
   "cell_type": "code",
   "execution_count": 144,
   "metadata": {
    "collapsed": false
   },
   "outputs": [],
   "source": [
    "# define parameter grid\n",
    "\n",
    "# param_dist = dict(n_estimators=estimators_range, max_features=feature_range)"
   ]
  },
  {
   "cell_type": "code",
   "execution_count": 148,
   "metadata": {
    "collapsed": true
   },
   "outputs": [],
   "source": [
    "# instantiate grid\n",
    "\n",
    "# rand = RandomizedSearchCV(foreclass, param_dist, n_iter=50, scoring='roc_auc', cv=5)"
   ]
  },
  {
   "cell_type": "code",
   "execution_count": null,
   "metadata": {
    "collapsed": false
   },
   "outputs": [],
   "source": [
    "# fit the grid\n",
    "\n",
    "# rand.fit(X, y)"
   ]
  },
  {
   "cell_type": "code",
   "execution_count": 147,
   "metadata": {
    "collapsed": false
   },
   "outputs": [
    {
     "data": {
      "text/html": [
       "<div>\n",
       "<table border=\"1\" class=\"dataframe\">\n",
       "  <thead>\n",
       "    <tr style=\"text-align: right;\">\n",
       "      <th></th>\n",
       "      <th>parameters</th>\n",
       "      <th>mean_validation_score</th>\n",
       "      <th>cv_validation_scores</th>\n",
       "    </tr>\n",
       "  </thead>\n",
       "  <tbody>\n",
       "    <tr>\n",
       "      <th>18</th>\n",
       "      <td>{u'n_estimators': 1171, u'max_features': 401}</td>\n",
       "      <td>0.975253</td>\n",
       "      <td>[0.958674304419, 0.980142140468, 0.97679765886...</td>\n",
       "    </tr>\n",
       "    <tr>\n",
       "      <th>10</th>\n",
       "      <td>{u'n_estimators': 270, u'max_features': 361}</td>\n",
       "      <td>0.974799</td>\n",
       "      <td>[0.95437806874, 0.978260869565, 0.982859531773...</td>\n",
       "    </tr>\n",
       "    <tr>\n",
       "      <th>3</th>\n",
       "      <td>{u'n_estimators': 1044, u'max_features': 461}</td>\n",
       "      <td>0.973963</td>\n",
       "      <td>[0.957446808511, 0.973244147157, 0.97763377926...</td>\n",
       "    </tr>\n",
       "    <tr>\n",
       "      <th>6</th>\n",
       "      <td>{u'n_estimators': 397, u'max_features': 981}</td>\n",
       "      <td>0.973417</td>\n",
       "      <td>[0.96031096563, 0.964882943144, 0.979933110368...</td>\n",
       "    </tr>\n",
       "    <tr>\n",
       "      <th>9</th>\n",
       "      <td>{u'n_estimators': 105, u'max_features': 1021}</td>\n",
       "      <td>0.972705</td>\n",
       "      <td>[0.959901800327, 0.96258361204, 0.98097826087,...</td>\n",
       "    </tr>\n",
       "    <tr>\n",
       "      <th>2</th>\n",
       "      <td>{u'n_estimators': 137, u'max_features': 681}</td>\n",
       "      <td>0.972462</td>\n",
       "      <td>[0.955400981997, 0.972617056856, 0.97575250836...</td>\n",
       "    </tr>\n",
       "    <tr>\n",
       "      <th>8</th>\n",
       "      <td>{u'n_estimators': 721, u'max_features': 541}</td>\n",
       "      <td>0.971964</td>\n",
       "      <td>[0.953764320786, 0.969690635452, 0.97596153846...</td>\n",
       "    </tr>\n",
       "    <tr>\n",
       "      <th>12</th>\n",
       "      <td>{u'n_estimators': 353, u'max_features': 701}</td>\n",
       "      <td>0.971783</td>\n",
       "      <td>[0.957446808511, 0.963419732441, 0.97930602006...</td>\n",
       "    </tr>\n",
       "    <tr>\n",
       "      <th>7</th>\n",
       "      <td>{u'n_estimators': 1373, u'max_features': 581}</td>\n",
       "      <td>0.971633</td>\n",
       "      <td>[0.953150572831, 0.964673913043, 0.97826086956...</td>\n",
       "    </tr>\n",
       "    <tr>\n",
       "      <th>16</th>\n",
       "      <td>{u'n_estimators': 1392, u'max_features': 1281}</td>\n",
       "      <td>0.971163</td>\n",
       "      <td>[0.956628477905, 0.966764214047, 0.97700668896...</td>\n",
       "    </tr>\n",
       "    <tr>\n",
       "      <th>4</th>\n",
       "      <td>{u'n_estimators': 1128, u'max_features': 1041}</td>\n",
       "      <td>0.971086</td>\n",
       "      <td>[0.955400981997, 0.961956521739, 0.97763377926...</td>\n",
       "    </tr>\n",
       "    <tr>\n",
       "      <th>15</th>\n",
       "      <td>{u'n_estimators': 45, u'max_features': 681}</td>\n",
       "      <td>0.970882</td>\n",
       "      <td>[0.955605564648, 0.953177257525, 0.98035117056...</td>\n",
       "    </tr>\n",
       "    <tr>\n",
       "      <th>11</th>\n",
       "      <td>{u'n_estimators': 903, u'max_features': 281}</td>\n",
       "      <td>0.969949</td>\n",
       "      <td>[0.947217675941, 0.979306020067, 0.97637959866...</td>\n",
       "    </tr>\n",
       "    <tr>\n",
       "      <th>19</th>\n",
       "      <td>{u'n_estimators': 17, u'max_features': 861}</td>\n",
       "      <td>0.969282</td>\n",
       "      <td>[0.94271685761, 0.970317725753, 0.973035117057...</td>\n",
       "    </tr>\n",
       "    <tr>\n",
       "      <th>1</th>\n",
       "      <td>{u'n_estimators': 230, u'max_features': 541}</td>\n",
       "      <td>0.968997</td>\n",
       "      <td>[0.951718494272, 0.961120401338, 0.97512541806...</td>\n",
       "    </tr>\n",
       "    <tr>\n",
       "      <th>5</th>\n",
       "      <td>{u'n_estimators': 252, u'max_features': 261}</td>\n",
       "      <td>0.968530</td>\n",
       "      <td>[0.943739770867, 0.975543478261, 0.97930602006...</td>\n",
       "    </tr>\n",
       "    <tr>\n",
       "      <th>14</th>\n",
       "      <td>{u'n_estimators': 366, u'max_features': 201}</td>\n",
       "      <td>0.964454</td>\n",
       "      <td>[0.94414893617, 0.977633779264, 0.970526755853...</td>\n",
       "    </tr>\n",
       "    <tr>\n",
       "      <th>17</th>\n",
       "      <td>{u'n_estimators': 421, u'max_features': 121}</td>\n",
       "      <td>0.960896</td>\n",
       "      <td>[0.937806873977, 0.98139632107, 0.965510033445...</td>\n",
       "    </tr>\n",
       "    <tr>\n",
       "      <th>13</th>\n",
       "      <td>{u'n_estimators': 811, u'max_features': 121}</td>\n",
       "      <td>0.960553</td>\n",
       "      <td>[0.939443535188, 0.979096989967, 0.96446488294...</td>\n",
       "    </tr>\n",
       "    <tr>\n",
       "      <th>0</th>\n",
       "      <td>{u'n_estimators': 668, u'max_features': 81}</td>\n",
       "      <td>0.952068</td>\n",
       "      <td>[0.923690671031, 0.973244147157, 0.96237458194...</td>\n",
       "    </tr>\n",
       "  </tbody>\n",
       "</table>\n",
       "</div>"
      ],
      "text/plain": [
       "                                        parameters  mean_validation_score  \\\n",
       "18   {u'n_estimators': 1171, u'max_features': 401}               0.975253   \n",
       "10    {u'n_estimators': 270, u'max_features': 361}               0.974799   \n",
       "3    {u'n_estimators': 1044, u'max_features': 461}               0.973963   \n",
       "6     {u'n_estimators': 397, u'max_features': 981}               0.973417   \n",
       "9    {u'n_estimators': 105, u'max_features': 1021}               0.972705   \n",
       "2     {u'n_estimators': 137, u'max_features': 681}               0.972462   \n",
       "8     {u'n_estimators': 721, u'max_features': 541}               0.971964   \n",
       "12    {u'n_estimators': 353, u'max_features': 701}               0.971783   \n",
       "7    {u'n_estimators': 1373, u'max_features': 581}               0.971633   \n",
       "16  {u'n_estimators': 1392, u'max_features': 1281}               0.971163   \n",
       "4   {u'n_estimators': 1128, u'max_features': 1041}               0.971086   \n",
       "15     {u'n_estimators': 45, u'max_features': 681}               0.970882   \n",
       "11    {u'n_estimators': 903, u'max_features': 281}               0.969949   \n",
       "19     {u'n_estimators': 17, u'max_features': 861}               0.969282   \n",
       "1     {u'n_estimators': 230, u'max_features': 541}               0.968997   \n",
       "5     {u'n_estimators': 252, u'max_features': 261}               0.968530   \n",
       "14    {u'n_estimators': 366, u'max_features': 201}               0.964454   \n",
       "17    {u'n_estimators': 421, u'max_features': 121}               0.960896   \n",
       "13    {u'n_estimators': 811, u'max_features': 121}               0.960553   \n",
       "0      {u'n_estimators': 668, u'max_features': 81}               0.952068   \n",
       "\n",
       "                                 cv_validation_scores  \n",
       "18  [0.958674304419, 0.980142140468, 0.97679765886...  \n",
       "10  [0.95437806874, 0.978260869565, 0.982859531773...  \n",
       "3   [0.957446808511, 0.973244147157, 0.97763377926...  \n",
       "6   [0.96031096563, 0.964882943144, 0.979933110368...  \n",
       "9   [0.959901800327, 0.96258361204, 0.98097826087,...  \n",
       "2   [0.955400981997, 0.972617056856, 0.97575250836...  \n",
       "8   [0.953764320786, 0.969690635452, 0.97596153846...  \n",
       "12  [0.957446808511, 0.963419732441, 0.97930602006...  \n",
       "7   [0.953150572831, 0.964673913043, 0.97826086956...  \n",
       "16  [0.956628477905, 0.966764214047, 0.97700668896...  \n",
       "4   [0.955400981997, 0.961956521739, 0.97763377926...  \n",
       "15  [0.955605564648, 0.953177257525, 0.98035117056...  \n",
       "11  [0.947217675941, 0.979306020067, 0.97637959866...  \n",
       "19  [0.94271685761, 0.970317725753, 0.973035117057...  \n",
       "1   [0.951718494272, 0.961120401338, 0.97512541806...  \n",
       "5   [0.943739770867, 0.975543478261, 0.97930602006...  \n",
       "14  [0.94414893617, 0.977633779264, 0.970526755853...  \n",
       "17  [0.937806873977, 0.98139632107, 0.965510033445...  \n",
       "13  [0.939443535188, 0.979096989967, 0.96446488294...  \n",
       "0   [0.923690671031, 0.973244147157, 0.96237458194...  "
      ]
     },
     "execution_count": 147,
     "metadata": {},
     "output_type": "execute_result"
    }
   ],
   "source": [
    "# pd.DataFrame(rand.grid_scores_).sort_values('mean_validation_score', ascending=False)"
   ]
  },
  {
   "cell_type": "code",
   "execution_count": 94,
   "metadata": {
    "collapsed": false
   },
   "outputs": [
    {
     "name": "stdout",
     "output_type": "stream",
     "text": [
      "0.974660430599\n",
      "{'n_estimators': 30, 'max_features': 601, 'max_depth': 17}\n"
     ]
    }
   ],
   "source": [
    "# # look at best parameters\n",
    "\n",
    "# print rand.best_score_\n",
    "# print rand.best_params_"
   ]
  },
  {
   "cell_type": "code",
   "execution_count": null,
   "metadata": {
    "collapsed": true
   },
   "outputs": [],
   "source": [
    "# to finish on this notebook:\n",
    "\n",
    "#     run randomized grid search for best parameters\n",
    "#     graph n_estimators range vs. score\n",
    "#     do MCC on each of first 3 features in model individually and in combination?\n",
    "#     evaluate oob error"
   ]
  },
  {
   "cell_type": "markdown",
   "metadata": {
    "collapsed": true
   },
   "source": [
    "# Fit Logistic Regression with best features\n",
    "\n",
    "    Evaluate with different iterations of selected features\n",
    "    "
   ]
  },
  {
   "cell_type": "code",
   "execution_count": 75,
   "metadata": {
    "collapsed": false
   },
   "outputs": [],
   "source": [
    "# define new df with selected features & perform train/test split\n",
    "\n",
    "selected_features = ['789=K', '791=A', '197=R']\n",
    "X = features_df[selected_features]\n",
    "y = neutdf.is_neutralized\n",
    "\n",
    "from sklearn.cross_validation import train_test_split\n",
    "\n",
    "X_train, X_test, y_train, y_test = train_test_split(X, y, stratify=y, \n",
    "                                                    test_size=0.3)"
   ]
  },
  {
   "cell_type": "code",
   "execution_count": 76,
   "metadata": {
    "collapsed": false
   },
   "outputs": [
    {
     "data": {
      "text/plain": [
       "LogisticRegression(C=1000000000.0, class_weight=None, dual=False,\n",
       "          fit_intercept=True, intercept_scaling=1, max_iter=100,\n",
       "          multi_class='ovr', n_jobs=1, penalty='l2', random_state=None,\n",
       "          solver='liblinear', tol=0.0001, verbose=0, warm_start=False)"
      ]
     },
     "execution_count": 76,
     "metadata": {},
     "output_type": "execute_result"
    }
   ],
   "source": [
    "# fit logistic regression\n",
    "\n",
    "from sklearn.linear_model import LogisticRegression\n",
    "logreg = LogisticRegression(C=1e9)\n",
    "logreg.fit(X_train, y_train)"
   ]
  },
  {
   "cell_type": "code",
   "execution_count": 77,
   "metadata": {
    "collapsed": false
   },
   "outputs": [
    {
     "name": "stdout",
     "output_type": "stream",
     "text": [
      "[[ 5.24036648  3.24935764  1.45882361]]\n"
     ]
    }
   ],
   "source": [
    "# look at coefficients\n",
    "\n",
    "print logreg.coef_"
   ]
  },
  {
   "cell_type": "code",
   "execution_count": 78,
   "metadata": {
    "collapsed": false
   },
   "outputs": [
    {
     "name": "stdout",
     "output_type": "stream",
     "text": [
      "0.14960546368\n"
     ]
    }
   ],
   "source": [
    "# evaluate log loss\n",
    "\n",
    "from sklearn import metrics\n",
    "\n",
    "y_pred_proba = logreg.predict_proba(X_test)\n",
    "print metrics.log_loss(y_test, y_pred_proba)"
   ]
  },
  {
   "cell_type": "code",
   "execution_count": 79,
   "metadata": {
    "collapsed": false
   },
   "outputs": [
    {
     "name": "stdout",
     "output_type": "stream",
     "text": [
      "0.892434769205\n"
     ]
    }
   ],
   "source": [
    "# evaluate MCC\n",
    "\n",
    "y_pred_class = logreg.predict(X_test)\n",
    "print metrics.matthews_corrcoef(y_test, y_pred_class)"
   ]
  },
  {
   "cell_type": "code",
   "execution_count": 80,
   "metadata": {
    "collapsed": false
   },
   "outputs": [],
   "source": [
    "# do above with different feature combinations\n",
    "\n",
    "feature_selections = [['197=R'], ['791=A'], ['789=K'], ['789=K', '791=A'], ['791=A', '197=R'], \n",
    "                      ['789=K', '197=R'], ['789=K', '791=A', '197=R']]\n",
    "\n",
    "log_loss_scores = []\n",
    "MCC_scores = []\n",
    "\n",
    "for selection in feature_selections:\n",
    "    X = features_df[selection]\n",
    "    y = neutdf.is_neutralized\n",
    "    X_train, X_test, y_train, y_test = train_test_split(X, y, stratify=y, \n",
    "                                                    test_size=0.3)\n",
    "    logreg = LogisticRegression(C=1e9)\n",
    "    logreg.fit(X_train, y_train)\n",
    "    y_pred_proba = logreg.predict_proba(X_test)\n",
    "    log_loss = metrics.log_loss(y_test, y_pred_proba)\n",
    "    y_pred_class = logreg.predict(X_test)\n",
    "    MCC = metrics.matthews_corrcoef(y_test, y_pred_class)\n",
    "    log_loss_scores.append(log_loss)\n",
    "    MCC_scores.append(MCC)"
   ]
  },
  {
   "cell_type": "code",
   "execution_count": 84,
   "metadata": {
    "collapsed": false
   },
   "outputs": [
    {
     "data": {
      "text/html": [
       "<div>\n",
       "<table border=\"1\" class=\"dataframe\">\n",
       "  <thead>\n",
       "    <tr style=\"text-align: right;\">\n",
       "      <th></th>\n",
       "      <th>MCC</th>\n",
       "      <th>features</th>\n",
       "      <th>log loss</th>\n",
       "    </tr>\n",
       "  </thead>\n",
       "  <tbody>\n",
       "    <tr>\n",
       "      <th>6</th>\n",
       "      <td>0.878131</td>\n",
       "      <td>[789=K, 791=A, 197=R]</td>\n",
       "      <td>0.220077</td>\n",
       "    </tr>\n",
       "    <tr>\n",
       "      <th>3</th>\n",
       "      <td>0.825113</td>\n",
       "      <td>[789=K, 791=A]</td>\n",
       "      <td>0.210621</td>\n",
       "    </tr>\n",
       "    <tr>\n",
       "      <th>2</th>\n",
       "      <td>0.777919</td>\n",
       "      <td>[789=K]</td>\n",
       "      <td>0.347554</td>\n",
       "    </tr>\n",
       "    <tr>\n",
       "      <th>5</th>\n",
       "      <td>0.765735</td>\n",
       "      <td>[789=K, 197=R]</td>\n",
       "      <td>0.348037</td>\n",
       "    </tr>\n",
       "    <tr>\n",
       "      <th>4</th>\n",
       "      <td>0.659631</td>\n",
       "      <td>[791=A, 197=R]</td>\n",
       "      <td>0.449359</td>\n",
       "    </tr>\n",
       "    <tr>\n",
       "      <th>1</th>\n",
       "      <td>0.644574</td>\n",
       "      <td>[791=A]</td>\n",
       "      <td>0.472282</td>\n",
       "    </tr>\n",
       "    <tr>\n",
       "      <th>0</th>\n",
       "      <td>0.000000</td>\n",
       "      <td>[197=R]</td>\n",
       "      <td>0.678975</td>\n",
       "    </tr>\n",
       "  </tbody>\n",
       "</table>\n",
       "</div>"
      ],
      "text/plain": [
       "        MCC               features  log loss\n",
       "6  0.878131  [789=K, 791=A, 197=R]  0.220077\n",
       "3  0.825113         [789=K, 791=A]  0.210621\n",
       "2  0.777919                [789=K]  0.347554\n",
       "5  0.765735         [789=K, 197=R]  0.348037\n",
       "4  0.659631         [791=A, 197=R]  0.449359\n",
       "1  0.644574                [791=A]  0.472282\n",
       "0  0.000000                [197=R]  0.678975"
      ]
     },
     "execution_count": 84,
     "metadata": {},
     "output_type": "execute_result"
    }
   ],
   "source": [
    "# make a dataframe of the above\n",
    "\n",
    "log_reg_eval = pd.DataFrame({'features': feature_selections, 'log loss': log_loss_scores, 'MCC': MCC_scores})\n",
    "log_reg_eval.sort_values('MCC', ascending=False)"
   ]
  },
  {
   "cell_type": "code",
   "execution_count": null,
   "metadata": {
    "collapsed": true
   },
   "outputs": [],
   "source": []
  },
  {
   "cell_type": "code",
   "execution_count": null,
   "metadata": {
    "collapsed": true
   },
   "outputs": [],
   "source": []
  }
 ],
 "metadata": {
  "kernelspec": {
   "display_name": "Python 2",
   "language": "python",
   "name": "python2"
  },
  "language_info": {
   "codemirror_mode": {
    "name": "ipython",
    "version": 2
   },
   "file_extension": ".py",
   "mimetype": "text/x-python",
   "name": "python",
   "nbconvert_exporter": "python",
   "pygments_lexer": "ipython2",
   "version": "2.7.11"
  }
 },
 "nbformat": 4,
 "nbformat_minor": 0
}
